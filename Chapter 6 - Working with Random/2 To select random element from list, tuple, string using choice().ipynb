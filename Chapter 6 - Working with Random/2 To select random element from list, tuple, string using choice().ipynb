{
 "cells": [
  {
   "cell_type": "markdown",
   "metadata": {
    "application/vnd.databricks.v1+cell": {
     "cellMetadata": {},
     "inputWidgets": {},
     "nuid": "9637507b-a36c-4bda-adb4-f25b4685448f",
     "showTitle": false,
     "tableResultSettingsMap": {},
     "title": ""
    }
   },
   "source": [
    "#### **random.choice()**\n",
    "- The **random.choice()** function in **Python** is used to select a random element from a **non-empty sequence** such as:\n",
    "  - **list**\n",
    "  - **nested list**\n",
    "  - **tuple**\n",
    "  - **string**\n",
    "  - **dictionary**"
   ]
  },
  {
   "cell_type": "markdown",
   "metadata": {
    "application/vnd.databricks.v1+cell": {
     "cellMetadata": {},
     "inputWidgets": {},
     "nuid": "59190c81-707e-477a-982e-96dc57254f19",
     "showTitle": false,
     "tableResultSettingsMap": {},
     "title": ""
    }
   },
   "source": [
    "**Syntax**\n",
    "\n",
    "     random.choice(sequence)\n",
    "\n",
    "- It takes only **one parameter**.\n",
    "\n",
    "- **Return Value**:\n",
    "\n",
    "  - It returns a **single random element** from a specified sequence such as a **list, a tuple, a range, a string** etc.\n",
    "\n",
    "  - If the **sequence is empty**, it will **raise an IndexError**."
   ]
  },
  {
   "cell_type": "markdown",
   "metadata": {
    "application/vnd.databricks.v1+cell": {
     "cellMetadata": {},
     "inputWidgets": {},
     "nuid": "da5ca365-421a-49a0-9649-0048d7873466",
     "showTitle": false,
     "tableResultSettingsMap": {},
     "title": ""
    }
   },
   "source": [
    "     import random\n",
    "     \n",
    "                OR\n",
    "\n",
    "     from random import choice"
   ]
  },
  {
   "cell_type": "code",
   "execution_count": 0,
   "metadata": {
    "application/vnd.databricks.v1+cell": {
     "cellMetadata": {
      "byteLimit": 2048000,
      "rowLimit": 10000
     },
     "inputWidgets": {},
     "nuid": "6d1099c9-06e1-4f01-a205-f93baa4b7f13",
     "showTitle": false,
     "tableResultSettingsMap": {},
     "title": ""
    }
   },
   "outputs": [],
   "source": [
    "import random"
   ]
  },
  {
   "cell_type": "markdown",
   "metadata": {
    "application/vnd.databricks.v1+cell": {
     "cellMetadata": {},
     "inputWidgets": {},
     "nuid": "8cde3389-1126-4572-b9f5-39fb874223b4",
     "showTitle": false,
     "tableResultSettingsMap": {},
     "title": ""
    }
   },
   "source": [
    "#### **1) Random Selection from a Range**"
   ]
  },
  {
   "cell_type": "code",
   "execution_count": 0,
   "metadata": {
    "application/vnd.databricks.v1+cell": {
     "cellMetadata": {
      "byteLimit": 2048000,
      "rowLimit": 10000
     },
     "inputWidgets": {},
     "nuid": "1e9fe14b-a762-4707-8542-29340c56bbd3",
     "showTitle": false,
     "tableResultSettingsMap": {},
     "title": ""
    }
   },
   "outputs": [
    {
     "output_type": "stream",
     "name": "stdout",
     "output_type": "stream",
     "text": [
      "Randomly selected number: 41\n"
     ]
    }
   ],
   "source": [
    "# Selects a number between 1 and 100\n",
    "random_number = random.choice(range(1, 101))\n",
    "print(f\"Randomly selected number: {random_number}\")"
   ]
  },
  {
   "cell_type": "code",
   "execution_count": 0,
   "metadata": {
    "application/vnd.databricks.v1+cell": {
     "cellMetadata": {
      "byteLimit": 2048000,
      "rowLimit": 10000
     },
     "inputWidgets": {},
     "nuid": "34d4ea6e-fbd4-4d55-8327-8de03f6b1a76",
     "showTitle": false,
     "tableResultSettingsMap": {},
     "title": ""
    }
   },
   "outputs": [
    {
     "output_type": "stream",
     "name": "stdout",
     "output_type": "stream",
     "text": [
      "4\n10\n11\n4\n6\n4\n5\n6\n3\n2\n5\n1\n8\n10\n1\n"
     ]
    }
   ],
   "source": [
    "new = list(range(1,12))\n",
    "\n",
    "for i in range(15):\n",
    "    print(random.choice(new))"
   ]
  },
  {
   "cell_type": "code",
   "execution_count": 0,
   "metadata": {
    "application/vnd.databricks.v1+cell": {
     "cellMetadata": {
      "byteLimit": 2048000,
      "rowLimit": 10000
     },
     "inputWidgets": {},
     "nuid": "e44c8511-6a0b-45f8-a499-b2e2ef6018de",
     "showTitle": false,
     "tableResultSettingsMap": {},
     "title": ""
    }
   },
   "outputs": [
    {
     "output_type": "stream",
     "name": "stdout",
     "output_type": "stream",
     "text": [
      "[27, 53, 31, 23, 22]\nchoice is 31\n"
     ]
    }
   ],
   "source": [
    "# choose 5 numbers between 1 and 100\n",
    "mylist = [random.randint(1,100) for i in range(5)]\n",
    "print(mylist)\n",
    "\n",
    "# choose a element from mylist\n",
    "print('choice is', random.choice(mylist))"
   ]
  },
  {
   "cell_type": "markdown",
   "metadata": {
    "application/vnd.databricks.v1+cell": {
     "cellMetadata": {},
     "inputWidgets": {},
     "nuid": "36364e67-0585-4d7e-bada-5631f8763749",
     "showTitle": false,
     "tableResultSettingsMap": {},
     "title": ""
    }
   },
   "source": [
    "#### **2) Select a Random Element from a List**"
   ]
  },
  {
   "cell_type": "markdown",
   "metadata": {
    "application/vnd.databricks.v1+cell": {
     "cellMetadata": {},
     "inputWidgets": {},
     "nuid": "1d845f46-7ca7-4600-bd19-7a4d85f1401f",
     "showTitle": false,
     "tableResultSettingsMap": {},
     "title": ""
    }
   },
   "source": [
    "- **random.choice** is used to select a random item from the **list**.\n",
    "- **Each item** in the **list** has an **equal chance** of being selected.\n",
    "- The function is commonly used in scenarios where you need to make a **random selection from a list of options** or perform random sampling."
   ]
  },
  {
   "cell_type": "code",
   "execution_count": 0,
   "metadata": {
    "application/vnd.databricks.v1+cell": {
     "cellMetadata": {
      "byteLimit": 2048000,
      "rowLimit": 10000
     },
     "inputWidgets": {},
     "nuid": "83a29bca-7246-4983-acc7-db019cd1204b",
     "showTitle": true,
     "tableResultSettingsMap": {},
     "title": "List"
    }
   },
   "outputs": [
    {
     "output_type": "stream",
     "name": "stdout",
     "output_type": "stream",
     "text": [
      "['Admin', 'Finance', 'Sales', 'IT', 'Maintenance', 'Service']\nRandom choice of department: Admin\n"
     ]
    }
   ],
   "source": [
    "# Sample list\n",
    "department = ['Admin', 'Finance', 'Sales', 'IT', 'Maintenance', 'Service']\n",
    "print(department)\n",
    "\n",
    "# Select a random department\n",
    "random_department = random.choice(department)\n",
    "print(\"Random choice of department:\", random_department)"
   ]
  },
  {
   "cell_type": "code",
   "execution_count": 0,
   "metadata": {
    "application/vnd.databricks.v1+cell": {
     "cellMetadata": {
      "byteLimit": 2048000,
      "rowLimit": 10000
     },
     "inputWidgets": {},
     "nuid": "08fe4b97-8d92-4848-be1e-cf6a64f1c250",
     "showTitle": true,
     "tableResultSettingsMap": {},
     "title": "Nested List"
    }
   },
   "outputs": [
    {
     "output_type": "stream",
     "name": "stdout",
     "output_type": "stream",
     "text": [
      "Randomly selected sublist: [4, 5, 6]\n"
     ]
    }
   ],
   "source": [
    "nested_list = [[1, 2, 3], [4, 5, 6], [7, 8, 9]]\n",
    "random_sublist = random.choice(nested_list)\n",
    "print(f\"Randomly selected sublist: {random_sublist}\")"
   ]
  },
  {
   "cell_type": "markdown",
   "metadata": {
    "application/vnd.databricks.v1+cell": {
     "cellMetadata": {},
     "inputWidgets": {},
     "nuid": "ad115693-6d11-42d7-b746-6ada661ef15f",
     "showTitle": false,
     "tableResultSettingsMap": {},
     "title": ""
    }
   },
   "source": [
    "#### **3) Select a Random Character from a String**"
   ]
  },
  {
   "cell_type": "code",
   "execution_count": 0,
   "metadata": {
    "application/vnd.databricks.v1+cell": {
     "cellMetadata": {
      "byteLimit": 2048000,
      "rowLimit": 10000
     },
     "inputWidgets": {},
     "nuid": "b4642b5f-003d-424b-b4db-4085b124addc",
     "showTitle": true,
     "tableResultSettingsMap": {},
     "title": "string"
    }
   },
   "outputs": [
    {
     "output_type": "stream",
     "name": "stdout",
     "output_type": "stream",
     "text": [
      "Random letter: w\n"
     ]
    }
   ],
   "source": [
    "# Sample string\n",
    "letters = 'abcdefghijklmnopqrstuvwxyz'\n",
    "\n",
    "# Select a random letter\n",
    "random_letter = random.choice(letters)\n",
    "print(\"Random letter:\", random_letter)"
   ]
  },
  {
   "cell_type": "code",
   "execution_count": 0,
   "metadata": {
    "application/vnd.databricks.v1+cell": {
     "cellMetadata": {
      "byteLimit": 2048000,
      "rowLimit": 10000
     },
     "inputWidgets": {},
     "nuid": "52e329ed-6e84-4881-8c55-eb0222ec5bf2",
     "showTitle": true,
     "tableResultSettingsMap": {},
     "title": "string"
    }
   },
   "outputs": [
    {
     "output_type": "stream",
     "name": "stdout",
     "output_type": "stream",
     "text": [
      "Random element: y\nRandom element: n\nRandom element: t\nRandom element: o\n"
     ]
    }
   ],
   "source": [
    "# Initialize the string\n",
    "# Get the random character\n",
    "str = 'Python'\n",
    "for i in range(4):\n",
    "    rand_num = random.choice(str)\n",
    "    print(\"Random element:\", rand_num)"
   ]
  },
  {
   "cell_type": "markdown",
   "metadata": {
    "application/vnd.databricks.v1+cell": {
     "cellMetadata": {},
     "inputWidgets": {},
     "nuid": "3f617bf3-303c-437c-9395-d5f0961d40c1",
     "showTitle": false,
     "tableResultSettingsMap": {},
     "title": ""
    }
   },
   "source": [
    "#### **4) Select a Random Element from a Tuple**"
   ]
  },
  {
   "cell_type": "code",
   "execution_count": 0,
   "metadata": {
    "application/vnd.databricks.v1+cell": {
     "cellMetadata": {
      "byteLimit": 2048000,
      "rowLimit": 10000
     },
     "inputWidgets": {},
     "nuid": "fb5748ba-a737-42f6-bd6d-03af99220d3e",
     "showTitle": true,
     "tableResultSettingsMap": {},
     "title": "tuple"
    }
   },
   "outputs": [
    {
     "output_type": "stream",
     "name": "stdout",
     "output_type": "stream",
     "text": [
      "Random number: 4\n"
     ]
    }
   ],
   "source": [
    "# Sample tuple\n",
    "numbers = (1, 2, 3, 4, 5)\n",
    "\n",
    "# Select a random number\n",
    "random_number = random.choice(numbers)\n",
    "print(\"Random number:\", random_number)"
   ]
  },
  {
   "cell_type": "markdown",
   "metadata": {
    "application/vnd.databricks.v1+cell": {
     "cellMetadata": {},
     "inputWidgets": {},
     "nuid": "a6473145-de9c-4d63-8a3e-7549bf650b7a",
     "showTitle": false,
     "tableResultSettingsMap": {},
     "title": ""
    }
   },
   "source": [
    "#### **5) Get Random Key/Value Pair using Python choice()**\n",
    "- **random.choice()** upon the **dictionary** to get a **single random key/value pair** from the given dictionary.\n",
    "- First initialize the dictionary and get the dictionary **keys as list** and pass it as an argument to **choice()**."
   ]
  },
  {
   "cell_type": "code",
   "execution_count": 0,
   "metadata": {
    "application/vnd.databricks.v1+cell": {
     "cellMetadata": {
      "byteLimit": 2048000,
      "rowLimit": 10000
     },
     "inputWidgets": {},
     "nuid": "9082b1c7-a3da-404d-9c2f-e88bc61212a6",
     "showTitle": true,
     "tableResultSettingsMap": {},
     "title": "dictionary"
    }
   },
   "outputs": [
    {
     "output_type": "stream",
     "name": "stdout",
     "output_type": "stream",
     "text": [
      "Dictionary: {'course': 'Python', 'Fee': 4500, 'duration': '45 days'}\nRandom key/value pair: duration : 45 days\n"
     ]
    }
   ],
   "source": [
    "# Create a dictionary\n",
    "dict = {\n",
    "    \"course\": \"Python\" ,\n",
    "    \"Fee\": 4500,\n",
    "    \"duration\": '45 days'\n",
    "}\n",
    "print(\"Dictionary:\", dict)\n",
    "\n",
    "# Get a random key from the dictionary.\n",
    "key = random.choice(list(dict))\n",
    "\n",
    "# Print the key-value using the key name.\n",
    "print(\"Random key/value pair:\", key ,\":\", dict[key])"
   ]
  },
  {
   "cell_type": "markdown",
   "metadata": {
    "application/vnd.databricks.v1+cell": {
     "cellMetadata": {},
     "inputWidgets": {},
     "nuid": "1c9f12e9-aa7e-4b2e-938e-712b15fa46e7",
     "showTitle": false,
     "tableResultSettingsMap": {},
     "title": ""
    }
   },
   "source": [
    "#### **6) Simulating a Random Decision**"
   ]
  },
  {
   "cell_type": "code",
   "execution_count": 0,
   "metadata": {
    "application/vnd.databricks.v1+cell": {
     "cellMetadata": {
      "byteLimit": 2048000,
      "rowLimit": 10000
     },
     "inputWidgets": {},
     "nuid": "97cec76e-0e44-405f-9ac4-b3cddea7b76c",
     "showTitle": false,
     "tableResultSettingsMap": {},
     "title": ""
    }
   },
   "outputs": [
    {
     "output_type": "stream",
     "name": "stdout",
     "output_type": "stream",
     "text": [
      "Random decision: No\n"
     ]
    }
   ],
   "source": [
    "decision = random.choice(['Yes', 'No', 'Maybe'])\n",
    "print(f\"Random decision: {decision}\")"
   ]
  },
  {
   "cell_type": "markdown",
   "metadata": {
    "application/vnd.databricks.v1+cell": {
     "cellMetadata": {},
     "inputWidgets": {},
     "nuid": "e55d66cf-a0ec-4f8b-a9b0-ce5be54ac6bf",
     "showTitle": false,
     "tableResultSettingsMap": {},
     "title": ""
    }
   },
   "source": [
    "#### **7) random.choice() in a Function**"
   ]
  },
  {
   "cell_type": "code",
   "execution_count": 0,
   "metadata": {
    "application/vnd.databricks.v1+cell": {
     "cellMetadata": {
      "byteLimit": 2048000,
      "rowLimit": 10000
     },
     "inputWidgets": {},
     "nuid": "d58f591c-b372-4154-82ec-396db8968ab6",
     "showTitle": false,
     "tableResultSettingsMap": {},
     "title": ""
    }
   },
   "outputs": [
    {
     "output_type": "stream",
     "name": "stdout",
     "output_type": "stream",
     "text": [
      "Random element from list: 40\nRandom element from tuple: 20\nRandom element from range: 42\nRandom element from string: o\n"
     ]
    }
   ],
   "source": [
    "def get_random_element(sequence):\n",
    "    return random.choice(sequence)\n",
    "\n",
    "# Call the function with a list\n",
    "print(\"Random element from list:\", get_random_element([10, 20, 30, 40, 50]))\n",
    "\n",
    "# Call the function with a tuple\n",
    "print(\"Random element from tuple:\", get_random_element((10, 20, 30, 40, 50)))\n",
    "\n",
    "# Call the function with a range\n",
    "print(\"Random element from range:\", get_random_element(range(1,100)))\n",
    "\n",
    "# Call the function with a string\n",
    "print(\"Random element from string:\", get_random_element('hello'))"
   ]
  },
  {
   "cell_type": "markdown",
   "metadata": {
    "application/vnd.databricks.v1+cell": {
     "cellMetadata": {},
     "inputWidgets": {},
     "nuid": "7160836e-da24-4cca-9356-4f162443c39b",
     "showTitle": false,
     "tableResultSettingsMap": {},
     "title": ""
    }
   },
   "source": [
    "#### **8) Select a Random Word from a List of Words**"
   ]
  },
  {
   "cell_type": "code",
   "execution_count": 0,
   "metadata": {
    "application/vnd.databricks.v1+cell": {
     "cellMetadata": {
      "byteLimit": 2048000,
      "rowLimit": 10000
     },
     "inputWidgets": {},
     "nuid": "2dac1ae1-4984-466b-bf9f-e374007061a9",
     "showTitle": false,
     "tableResultSettingsMap": {},
     "title": ""
    }
   },
   "outputs": [
    {
     "output_type": "stream",
     "name": "stdout",
     "output_type": "stream",
     "text": [
      "Random word: python\n"
     ]
    }
   ],
   "source": [
    "# Sample list of words\n",
    "words = ['python', 'java', 'c++', 'javascript', 'ruby']\n",
    "\n",
    "# Select a random word\n",
    "random_word = random.choice(words)\n",
    "print(\"Random word:\", random_word)"
   ]
  },
  {
   "cell_type": "markdown",
   "metadata": {
    "application/vnd.databricks.v1+cell": {
     "cellMetadata": {},
     "inputWidgets": {},
     "nuid": "5ea47dec-4abc-48df-8844-c26372ff91fe",
     "showTitle": false,
     "tableResultSettingsMap": {},
     "title": ""
    }
   },
   "source": [
    "#### **9) Exception**\n",
    "- When we pass an **empty sequence** into the **choice()** function, it will **raise an IndexError**. "
   ]
  },
  {
   "cell_type": "code",
   "execution_count": 0,
   "metadata": {
    "application/vnd.databricks.v1+cell": {
     "cellMetadata": {
      "byteLimit": 2048000,
      "rowLimit": 10000
     },
     "inputWidgets": {},
     "nuid": "384030a8-e60f-40ee-8fda-0fd290f2857f",
     "showTitle": true,
     "tableResultSettingsMap": {},
     "title": "empty list"
    }
   },
   "outputs": [
    {
     "output_type": "display_data",
     "data": {
      "text/plain": [
       "\u001B[0;31m---------------------------------------------------------------------------\u001B[0m\n",
       "\u001B[0;31mIndexError\u001B[0m                                Traceback (most recent call last)\n",
       "File \u001B[0;32m<command-1613009965684137>, line 4\u001B[0m\n",
       "\u001B[1;32m      1\u001B[0m \u001B[38;5;66;03m# Create a empty list\u001B[39;00m\n",
       "\u001B[1;32m      2\u001B[0m \u001B[38;5;66;03m# Pass empty_list into choice()\u001B[39;00m\n",
       "\u001B[1;32m      3\u001B[0m empty_list \u001B[38;5;241m=\u001B[39m  []\n",
       "\u001B[0;32m----> 4\u001B[0m rand_num \u001B[38;5;241m=\u001B[39m random\u001B[38;5;241m.\u001B[39mchoice(empty_list)\n",
       "\u001B[1;32m      5\u001B[0m \u001B[38;5;28mprint\u001B[39m(\u001B[38;5;124m\"\u001B[39m\u001B[38;5;124mRandom element:\u001B[39m\u001B[38;5;124m\"\u001B[39m, rand_num)\n",
       "\n",
       "File \u001B[0;32m/usr/lib/python3.11/random.py:370\u001B[0m, in \u001B[0;36mRandom.choice\u001B[0;34m(self, seq)\u001B[0m\n",
       "\u001B[1;32m    368\u001B[0m \u001B[38;5;250m\u001B[39m\u001B[38;5;124;03m\"\"\"Choose a random element from a non-empty sequence.\"\"\"\u001B[39;00m\n",
       "\u001B[1;32m    369\u001B[0m \u001B[38;5;28;01mif\u001B[39;00m \u001B[38;5;129;01mnot\u001B[39;00m seq:\n",
       "\u001B[0;32m--> 370\u001B[0m     \u001B[38;5;28;01mraise\u001B[39;00m \u001B[38;5;167;01mIndexError\u001B[39;00m(\u001B[38;5;124m'\u001B[39m\u001B[38;5;124mCannot choose from an empty sequence\u001B[39m\u001B[38;5;124m'\u001B[39m)\n",
       "\u001B[1;32m    371\u001B[0m \u001B[38;5;28;01mreturn\u001B[39;00m seq[\u001B[38;5;28mself\u001B[39m\u001B[38;5;241m.\u001B[39m_randbelow(\u001B[38;5;28mlen\u001B[39m(seq))]\n",
       "\n",
       "\u001B[0;31mIndexError\u001B[0m: Cannot choose from an empty sequence"
      ]
     },
     "metadata": {
      "application/vnd.databricks.v1+output": {
       "addedWidgets": {},
       "arguments": {},
       "datasetInfos": [],
       "jupyterProps": {
        "ename": "IndexError",
        "evalue": "Cannot choose from an empty sequence"
       },
       "metadata": {
        "errorSummary": "<span class='ansi-red-fg'>IndexError</span>: Cannot choose from an empty sequence"
       },
       "removedWidgets": [],
       "sqlProps": null,
       "stackFrames": [
        "\u001B[0;31m---------------------------------------------------------------------------\u001B[0m",
        "\u001B[0;31mIndexError\u001B[0m                                Traceback (most recent call last)",
        "File \u001B[0;32m<command-1613009965684137>, line 4\u001B[0m\n\u001B[1;32m      1\u001B[0m \u001B[38;5;66;03m# Create a empty list\u001B[39;00m\n\u001B[1;32m      2\u001B[0m \u001B[38;5;66;03m# Pass empty_list into choice()\u001B[39;00m\n\u001B[1;32m      3\u001B[0m empty_list \u001B[38;5;241m=\u001B[39m  []\n\u001B[0;32m----> 4\u001B[0m rand_num \u001B[38;5;241m=\u001B[39m random\u001B[38;5;241m.\u001B[39mchoice(empty_list)\n\u001B[1;32m      5\u001B[0m \u001B[38;5;28mprint\u001B[39m(\u001B[38;5;124m\"\u001B[39m\u001B[38;5;124mRandom element:\u001B[39m\u001B[38;5;124m\"\u001B[39m, rand_num)\n",
        "File \u001B[0;32m/usr/lib/python3.11/random.py:370\u001B[0m, in \u001B[0;36mRandom.choice\u001B[0;34m(self, seq)\u001B[0m\n\u001B[1;32m    368\u001B[0m \u001B[38;5;250m\u001B[39m\u001B[38;5;124;03m\"\"\"Choose a random element from a non-empty sequence.\"\"\"\u001B[39;00m\n\u001B[1;32m    369\u001B[0m \u001B[38;5;28;01mif\u001B[39;00m \u001B[38;5;129;01mnot\u001B[39;00m seq:\n\u001B[0;32m--> 370\u001B[0m     \u001B[38;5;28;01mraise\u001B[39;00m \u001B[38;5;167;01mIndexError\u001B[39;00m(\u001B[38;5;124m'\u001B[39m\u001B[38;5;124mCannot choose from an empty sequence\u001B[39m\u001B[38;5;124m'\u001B[39m)\n\u001B[1;32m    371\u001B[0m \u001B[38;5;28;01mreturn\u001B[39;00m seq[\u001B[38;5;28mself\u001B[39m\u001B[38;5;241m.\u001B[39m_randbelow(\u001B[38;5;28mlen\u001B[39m(seq))]\n",
        "\u001B[0;31mIndexError\u001B[0m: Cannot choose from an empty sequence"
       ],
       "type": "baseError"
      }
     },
     "output_type": "display_data"
    }
   ],
   "source": [
    "# Create a empty list\n",
    "# Pass empty_list into choice()\n",
    "empty_list =  []\n",
    "rand_num = random.choice(empty_list)\n",
    "print(\"Random element:\", rand_num)"
   ]
  },
  {
   "cell_type": "code",
   "execution_count": 0,
   "metadata": {
    "application/vnd.databricks.v1+cell": {
     "cellMetadata": {
      "byteLimit": 2048000,
      "rowLimit": 10000
     },
     "inputWidgets": {},
     "nuid": "0b74c280-3746-4ac0-8480-417cb8a9eb14",
     "showTitle": true,
     "tableResultSettingsMap": {},
     "title": "integer"
    }
   },
   "outputs": [
    {
     "output_type": "display_data",
     "data": {
      "text/plain": [
       "\u001B[0;31m---------------------------------------------------------------------------\u001B[0m\n",
       "\u001B[0;31mTypeError\u001B[0m                                 Traceback (most recent call last)\n",
       "File \u001B[0;32m<command-1613009965684138>, line 4\u001B[0m\n",
       "\u001B[1;32m      1\u001B[0m \u001B[38;5;66;03m# Pass integer into choice() \u001B[39;00m\n",
       "\u001B[1;32m      2\u001B[0m \u001B[38;5;66;03m# Create a dictionary\u001B[39;00m\n",
       "\u001B[1;32m      3\u001B[0m integer \u001B[38;5;241m=\u001B[39m \u001B[38;5;241m50\u001B[39m\n",
       "\u001B[0;32m----> 4\u001B[0m rand_num \u001B[38;5;241m=\u001B[39m random\u001B[38;5;241m.\u001B[39mchoice(integer)\n",
       "\u001B[1;32m      5\u001B[0m \u001B[38;5;28mprint\u001B[39m(\u001B[38;5;124m\"\u001B[39m\u001B[38;5;124mRandom element:\u001B[39m\u001B[38;5;124m\"\u001B[39m, rand_num)\n",
       "\n",
       "File \u001B[0;32m/usr/lib/python3.11/random.py:371\u001B[0m, in \u001B[0;36mRandom.choice\u001B[0;34m(self, seq)\u001B[0m\n",
       "\u001B[1;32m    369\u001B[0m \u001B[38;5;28;01mif\u001B[39;00m \u001B[38;5;129;01mnot\u001B[39;00m seq:\n",
       "\u001B[1;32m    370\u001B[0m     \u001B[38;5;28;01mraise\u001B[39;00m \u001B[38;5;167;01mIndexError\u001B[39;00m(\u001B[38;5;124m'\u001B[39m\u001B[38;5;124mCannot choose from an empty sequence\u001B[39m\u001B[38;5;124m'\u001B[39m)\n",
       "\u001B[0;32m--> 371\u001B[0m \u001B[38;5;28;01mreturn\u001B[39;00m seq[\u001B[38;5;28mself\u001B[39m\u001B[38;5;241m.\u001B[39m_randbelow(\u001B[38;5;28mlen\u001B[39m(seq))]\n",
       "\n",
       "\u001B[0;31mTypeError\u001B[0m: object of type 'int' has no len()"
      ]
     },
     "metadata": {
      "application/vnd.databricks.v1+output": {
       "addedWidgets": {},
       "arguments": {},
       "datasetInfos": [],
       "jupyterProps": {
        "ename": "TypeError",
        "evalue": "object of type 'int' has no len()"
       },
       "metadata": {
        "errorSummary": "<span class='ansi-red-fg'>TypeError</span>: object of type 'int' has no len()"
       },
       "removedWidgets": [],
       "sqlProps": null,
       "stackFrames": [
        "\u001B[0;31m---------------------------------------------------------------------------\u001B[0m",
        "\u001B[0;31mTypeError\u001B[0m                                 Traceback (most recent call last)",
        "File \u001B[0;32m<command-1613009965684138>, line 4\u001B[0m\n\u001B[1;32m      1\u001B[0m \u001B[38;5;66;03m# Pass integer into choice() \u001B[39;00m\n\u001B[1;32m      2\u001B[0m \u001B[38;5;66;03m# Create a dictionary\u001B[39;00m\n\u001B[1;32m      3\u001B[0m integer \u001B[38;5;241m=\u001B[39m \u001B[38;5;241m50\u001B[39m\n\u001B[0;32m----> 4\u001B[0m rand_num \u001B[38;5;241m=\u001B[39m random\u001B[38;5;241m.\u001B[39mchoice(integer)\n\u001B[1;32m      5\u001B[0m \u001B[38;5;28mprint\u001B[39m(\u001B[38;5;124m\"\u001B[39m\u001B[38;5;124mRandom element:\u001B[39m\u001B[38;5;124m\"\u001B[39m, rand_num)\n",
        "File \u001B[0;32m/usr/lib/python3.11/random.py:371\u001B[0m, in \u001B[0;36mRandom.choice\u001B[0;34m(self, seq)\u001B[0m\n\u001B[1;32m    369\u001B[0m \u001B[38;5;28;01mif\u001B[39;00m \u001B[38;5;129;01mnot\u001B[39;00m seq:\n\u001B[1;32m    370\u001B[0m     \u001B[38;5;28;01mraise\u001B[39;00m \u001B[38;5;167;01mIndexError\u001B[39;00m(\u001B[38;5;124m'\u001B[39m\u001B[38;5;124mCannot choose from an empty sequence\u001B[39m\u001B[38;5;124m'\u001B[39m)\n\u001B[0;32m--> 371\u001B[0m \u001B[38;5;28;01mreturn\u001B[39;00m seq[\u001B[38;5;28mself\u001B[39m\u001B[38;5;241m.\u001B[39m_randbelow(\u001B[38;5;28mlen\u001B[39m(seq))]\n",
        "\u001B[0;31mTypeError\u001B[0m: object of type 'int' has no len()"
       ],
       "type": "baseError"
      }
     },
     "output_type": "display_data"
    }
   ],
   "source": [
    "# Pass integer into choice() \n",
    "# Create a dictionary\n",
    "integer = 50\n",
    "rand_num = random.choice(integer)\n",
    "print(\"Random element:\", rand_num)"
   ]
  },
  {
   "cell_type": "code",
   "execution_count": 0,
   "metadata": {
    "application/vnd.databricks.v1+cell": {
     "cellMetadata": {
      "byteLimit": 2048000,
      "rowLimit": 10000
     },
     "inputWidgets": {},
     "nuid": "2138ee3a-d3e0-4285-bc35-6b2fa053649d",
     "showTitle": true,
     "tableResultSettingsMap": {},
     "title": "tuple"
    }
   },
   "outputs": [
    {
     "output_type": "display_data",
     "data": {
      "text/plain": [
       "\u001B[0;31m---------------------------------------------------------------------------\u001B[0m\n",
       "\u001B[0;31mIndexError\u001B[0m                                Traceback (most recent call last)\n",
       "File \u001B[0;32m<command-2124605294690028>, line 2\u001B[0m\n",
       "\u001B[1;32m      1\u001B[0m \u001B[38;5;28mtuple\u001B[39m \u001B[38;5;241m=\u001B[39m ()\n",
       "\u001B[0;32m----> 2\u001B[0m rand_num \u001B[38;5;241m=\u001B[39m random\u001B[38;5;241m.\u001B[39mchoice(\u001B[38;5;28mtuple\u001B[39m)\n",
       "\u001B[1;32m      3\u001B[0m \u001B[38;5;28mprint\u001B[39m(\u001B[38;5;124m\"\u001B[39m\u001B[38;5;124mRandom element:\u001B[39m\u001B[38;5;124m\"\u001B[39m, rand_num)\n",
       "\n",
       "File \u001B[0;32m/usr/lib/python3.11/random.py:370\u001B[0m, in \u001B[0;36mRandom.choice\u001B[0;34m(self, seq)\u001B[0m\n",
       "\u001B[1;32m    368\u001B[0m \u001B[38;5;250m\u001B[39m\u001B[38;5;124;03m\"\"\"Choose a random element from a non-empty sequence.\"\"\"\u001B[39;00m\n",
       "\u001B[1;32m    369\u001B[0m \u001B[38;5;28;01mif\u001B[39;00m \u001B[38;5;129;01mnot\u001B[39;00m seq:\n",
       "\u001B[0;32m--> 370\u001B[0m     \u001B[38;5;28;01mraise\u001B[39;00m \u001B[38;5;167;01mIndexError\u001B[39;00m(\u001B[38;5;124m'\u001B[39m\u001B[38;5;124mCannot choose from an empty sequence\u001B[39m\u001B[38;5;124m'\u001B[39m)\n",
       "\u001B[1;32m    371\u001B[0m \u001B[38;5;28;01mreturn\u001B[39;00m seq[\u001B[38;5;28mself\u001B[39m\u001B[38;5;241m.\u001B[39m_randbelow(\u001B[38;5;28mlen\u001B[39m(seq))]\n",
       "\n",
       "\u001B[0;31mIndexError\u001B[0m: Cannot choose from an empty sequence"
      ]
     },
     "metadata": {
      "application/vnd.databricks.v1+output": {
       "addedWidgets": {},
       "arguments": {},
       "datasetInfos": [],
       "jupyterProps": {
        "ename": "IndexError",
        "evalue": "Cannot choose from an empty sequence"
       },
       "metadata": {
        "errorSummary": "<span class='ansi-red-fg'>IndexError</span>: Cannot choose from an empty sequence"
       },
       "removedWidgets": [],
       "sqlProps": null,
       "stackFrames": [
        "\u001B[0;31m---------------------------------------------------------------------------\u001B[0m",
        "\u001B[0;31mIndexError\u001B[0m                                Traceback (most recent call last)",
        "File \u001B[0;32m<command-2124605294690028>, line 2\u001B[0m\n\u001B[1;32m      1\u001B[0m \u001B[38;5;28mtuple\u001B[39m \u001B[38;5;241m=\u001B[39m ()\n\u001B[0;32m----> 2\u001B[0m rand_num \u001B[38;5;241m=\u001B[39m random\u001B[38;5;241m.\u001B[39mchoice(\u001B[38;5;28mtuple\u001B[39m)\n\u001B[1;32m      3\u001B[0m \u001B[38;5;28mprint\u001B[39m(\u001B[38;5;124m\"\u001B[39m\u001B[38;5;124mRandom element:\u001B[39m\u001B[38;5;124m\"\u001B[39m, rand_num)\n",
        "File \u001B[0;32m/usr/lib/python3.11/random.py:370\u001B[0m, in \u001B[0;36mRandom.choice\u001B[0;34m(self, seq)\u001B[0m\n\u001B[1;32m    368\u001B[0m \u001B[38;5;250m\u001B[39m\u001B[38;5;124;03m\"\"\"Choose a random element from a non-empty sequence.\"\"\"\u001B[39;00m\n\u001B[1;32m    369\u001B[0m \u001B[38;5;28;01mif\u001B[39;00m \u001B[38;5;129;01mnot\u001B[39;00m seq:\n\u001B[0;32m--> 370\u001B[0m     \u001B[38;5;28;01mraise\u001B[39;00m \u001B[38;5;167;01mIndexError\u001B[39;00m(\u001B[38;5;124m'\u001B[39m\u001B[38;5;124mCannot choose from an empty sequence\u001B[39m\u001B[38;5;124m'\u001B[39m)\n\u001B[1;32m    371\u001B[0m \u001B[38;5;28;01mreturn\u001B[39;00m seq[\u001B[38;5;28mself\u001B[39m\u001B[38;5;241m.\u001B[39m_randbelow(\u001B[38;5;28mlen\u001B[39m(seq))]\n",
        "\u001B[0;31mIndexError\u001B[0m: Cannot choose from an empty sequence"
       ],
       "type": "baseError"
      }
     },
     "output_type": "display_data"
    }
   ],
   "source": [
    "tuple = ()\n",
    "rand_num = random.choice(tuple)\n",
    "print(\"Random element:\", rand_num)"
   ]
  },
  {
   "cell_type": "code",
   "execution_count": 0,
   "metadata": {
    "application/vnd.databricks.v1+cell": {
     "cellMetadata": {
      "byteLimit": 2048000,
      "rowLimit": 10000
     },
     "inputWidgets": {},
     "nuid": "b44b0fd9-2808-4e23-9775-38cf745dcc84",
     "showTitle": true,
     "tableResultSettingsMap": {},
     "title": "string"
    }
   },
   "outputs": [
    {
     "output_type": "display_data",
     "data": {
      "text/plain": [
       "\u001B[0;31m---------------------------------------------------------------------------\u001B[0m\n",
       "\u001B[0;31mIndexError\u001B[0m                                Traceback (most recent call last)\n",
       "File \u001B[0;32m<command-2124605294690029>, line 2\u001B[0m\n",
       "\u001B[1;32m      1\u001B[0m string \u001B[38;5;241m=\u001B[39m \u001B[38;5;124m'\u001B[39m\u001B[38;5;124m'\u001B[39m\n",
       "\u001B[0;32m----> 2\u001B[0m rand_num \u001B[38;5;241m=\u001B[39m random\u001B[38;5;241m.\u001B[39mchoice(string)\n",
       "\u001B[1;32m      3\u001B[0m \u001B[38;5;28mprint\u001B[39m(\u001B[38;5;124m\"\u001B[39m\u001B[38;5;124mRandom element:\u001B[39m\u001B[38;5;124m\"\u001B[39m, rand_num)\n",
       "\n",
       "File \u001B[0;32m/usr/lib/python3.11/random.py:370\u001B[0m, in \u001B[0;36mRandom.choice\u001B[0;34m(self, seq)\u001B[0m\n",
       "\u001B[1;32m    368\u001B[0m \u001B[38;5;250m\u001B[39m\u001B[38;5;124;03m\"\"\"Choose a random element from a non-empty sequence.\"\"\"\u001B[39;00m\n",
       "\u001B[1;32m    369\u001B[0m \u001B[38;5;28;01mif\u001B[39;00m \u001B[38;5;129;01mnot\u001B[39;00m seq:\n",
       "\u001B[0;32m--> 370\u001B[0m     \u001B[38;5;28;01mraise\u001B[39;00m \u001B[38;5;167;01mIndexError\u001B[39;00m(\u001B[38;5;124m'\u001B[39m\u001B[38;5;124mCannot choose from an empty sequence\u001B[39m\u001B[38;5;124m'\u001B[39m)\n",
       "\u001B[1;32m    371\u001B[0m \u001B[38;5;28;01mreturn\u001B[39;00m seq[\u001B[38;5;28mself\u001B[39m\u001B[38;5;241m.\u001B[39m_randbelow(\u001B[38;5;28mlen\u001B[39m(seq))]\n",
       "\n",
       "\u001B[0;31mIndexError\u001B[0m: Cannot choose from an empty sequence"
      ]
     },
     "metadata": {
      "application/vnd.databricks.v1+output": {
       "addedWidgets": {},
       "arguments": {},
       "datasetInfos": [],
       "jupyterProps": {
        "ename": "IndexError",
        "evalue": "Cannot choose from an empty sequence"
       },
       "metadata": {
        "errorSummary": "<span class='ansi-red-fg'>IndexError</span>: Cannot choose from an empty sequence"
       },
       "removedWidgets": [],
       "sqlProps": null,
       "stackFrames": [
        "\u001B[0;31m---------------------------------------------------------------------------\u001B[0m",
        "\u001B[0;31mIndexError\u001B[0m                                Traceback (most recent call last)",
        "File \u001B[0;32m<command-2124605294690029>, line 2\u001B[0m\n\u001B[1;32m      1\u001B[0m string \u001B[38;5;241m=\u001B[39m \u001B[38;5;124m'\u001B[39m\u001B[38;5;124m'\u001B[39m\n\u001B[0;32m----> 2\u001B[0m rand_num \u001B[38;5;241m=\u001B[39m random\u001B[38;5;241m.\u001B[39mchoice(string)\n\u001B[1;32m      3\u001B[0m \u001B[38;5;28mprint\u001B[39m(\u001B[38;5;124m\"\u001B[39m\u001B[38;5;124mRandom element:\u001B[39m\u001B[38;5;124m\"\u001B[39m, rand_num)\n",
        "File \u001B[0;32m/usr/lib/python3.11/random.py:370\u001B[0m, in \u001B[0;36mRandom.choice\u001B[0;34m(self, seq)\u001B[0m\n\u001B[1;32m    368\u001B[0m \u001B[38;5;250m\u001B[39m\u001B[38;5;124;03m\"\"\"Choose a random element from a non-empty sequence.\"\"\"\u001B[39;00m\n\u001B[1;32m    369\u001B[0m \u001B[38;5;28;01mif\u001B[39;00m \u001B[38;5;129;01mnot\u001B[39;00m seq:\n\u001B[0;32m--> 370\u001B[0m     \u001B[38;5;28;01mraise\u001B[39;00m \u001B[38;5;167;01mIndexError\u001B[39;00m(\u001B[38;5;124m'\u001B[39m\u001B[38;5;124mCannot choose from an empty sequence\u001B[39m\u001B[38;5;124m'\u001B[39m)\n\u001B[1;32m    371\u001B[0m \u001B[38;5;28;01mreturn\u001B[39;00m seq[\u001B[38;5;28mself\u001B[39m\u001B[38;5;241m.\u001B[39m_randbelow(\u001B[38;5;28mlen\u001B[39m(seq))]\n",
        "\u001B[0;31mIndexError\u001B[0m: Cannot choose from an empty sequence"
       ],
       "type": "baseError"
      }
     },
     "output_type": "display_data"
    }
   ],
   "source": [
    "string = ''\n",
    "rand_num = random.choice(string)\n",
    "print(\"Random element:\", rand_num)"
   ]
  },
  {
   "cell_type": "code",
   "execution_count": 0,
   "metadata": {
    "application/vnd.databricks.v1+cell": {
     "cellMetadata": {
      "byteLimit": 2048000,
      "rowLimit": 10000
     },
     "inputWidgets": {},
     "nuid": "ebae5f35-6f13-46dd-8e93-a77f53014e9f",
     "showTitle": true,
     "tableResultSettingsMap": {},
     "title": "dictionary"
    }
   },
   "outputs": [
    {
     "output_type": "display_data",
     "data": {
      "text/plain": [
       "\u001B[0;31m---------------------------------------------------------------------------\u001B[0m\n",
       "\u001B[0;31mIndexError\u001B[0m                                Traceback (most recent call last)\n",
       "File \u001B[0;32m<command-2124605294690030>, line 2\u001B[0m\n",
       "\u001B[1;32m      1\u001B[0m dictionary \u001B[38;5;241m=\u001B[39m {}\n",
       "\u001B[0;32m----> 2\u001B[0m rand_num \u001B[38;5;241m=\u001B[39m random\u001B[38;5;241m.\u001B[39mchoice(dictionary)\n",
       "\u001B[1;32m      3\u001B[0m \u001B[38;5;28mprint\u001B[39m(\u001B[38;5;124m\"\u001B[39m\u001B[38;5;124mRandom element:\u001B[39m\u001B[38;5;124m\"\u001B[39m, rand_num)\n",
       "\n",
       "File \u001B[0;32m/usr/lib/python3.11/random.py:370\u001B[0m, in \u001B[0;36mRandom.choice\u001B[0;34m(self, seq)\u001B[0m\n",
       "\u001B[1;32m    368\u001B[0m \u001B[38;5;250m\u001B[39m\u001B[38;5;124;03m\"\"\"Choose a random element from a non-empty sequence.\"\"\"\u001B[39;00m\n",
       "\u001B[1;32m    369\u001B[0m \u001B[38;5;28;01mif\u001B[39;00m \u001B[38;5;129;01mnot\u001B[39;00m seq:\n",
       "\u001B[0;32m--> 370\u001B[0m     \u001B[38;5;28;01mraise\u001B[39;00m \u001B[38;5;167;01mIndexError\u001B[39;00m(\u001B[38;5;124m'\u001B[39m\u001B[38;5;124mCannot choose from an empty sequence\u001B[39m\u001B[38;5;124m'\u001B[39m)\n",
       "\u001B[1;32m    371\u001B[0m \u001B[38;5;28;01mreturn\u001B[39;00m seq[\u001B[38;5;28mself\u001B[39m\u001B[38;5;241m.\u001B[39m_randbelow(\u001B[38;5;28mlen\u001B[39m(seq))]\n",
       "\n",
       "\u001B[0;31mIndexError\u001B[0m: Cannot choose from an empty sequence"
      ]
     },
     "metadata": {
      "application/vnd.databricks.v1+output": {
       "addedWidgets": {},
       "arguments": {},
       "datasetInfos": [],
       "jupyterProps": {
        "ename": "IndexError",
        "evalue": "Cannot choose from an empty sequence"
       },
       "metadata": {
        "errorSummary": "<span class='ansi-red-fg'>IndexError</span>: Cannot choose from an empty sequence"
       },
       "removedWidgets": [],
       "sqlProps": null,
       "stackFrames": [
        "\u001B[0;31m---------------------------------------------------------------------------\u001B[0m",
        "\u001B[0;31mIndexError\u001B[0m                                Traceback (most recent call last)",
        "File \u001B[0;32m<command-2124605294690030>, line 2\u001B[0m\n\u001B[1;32m      1\u001B[0m dictionary \u001B[38;5;241m=\u001B[39m {}\n\u001B[0;32m----> 2\u001B[0m rand_num \u001B[38;5;241m=\u001B[39m random\u001B[38;5;241m.\u001B[39mchoice(dictionary)\n\u001B[1;32m      3\u001B[0m \u001B[38;5;28mprint\u001B[39m(\u001B[38;5;124m\"\u001B[39m\u001B[38;5;124mRandom element:\u001B[39m\u001B[38;5;124m\"\u001B[39m, rand_num)\n",
        "File \u001B[0;32m/usr/lib/python3.11/random.py:370\u001B[0m, in \u001B[0;36mRandom.choice\u001B[0;34m(self, seq)\u001B[0m\n\u001B[1;32m    368\u001B[0m \u001B[38;5;250m\u001B[39m\u001B[38;5;124;03m\"\"\"Choose a random element from a non-empty sequence.\"\"\"\u001B[39;00m\n\u001B[1;32m    369\u001B[0m \u001B[38;5;28;01mif\u001B[39;00m \u001B[38;5;129;01mnot\u001B[39;00m seq:\n\u001B[0;32m--> 370\u001B[0m     \u001B[38;5;28;01mraise\u001B[39;00m \u001B[38;5;167;01mIndexError\u001B[39;00m(\u001B[38;5;124m'\u001B[39m\u001B[38;5;124mCannot choose from an empty sequence\u001B[39m\u001B[38;5;124m'\u001B[39m)\n\u001B[1;32m    371\u001B[0m \u001B[38;5;28;01mreturn\u001B[39;00m seq[\u001B[38;5;28mself\u001B[39m\u001B[38;5;241m.\u001B[39m_randbelow(\u001B[38;5;28mlen\u001B[39m(seq))]\n",
        "\u001B[0;31mIndexError\u001B[0m: Cannot choose from an empty sequence"
       ],
       "type": "baseError"
      }
     },
     "output_type": "display_data"
    }
   ],
   "source": [
    "dictionary = {}\n",
    "rand_num = random.choice(dictionary)\n",
    "print(\"Random element:\", rand_num)"
   ]
  }
 ],
 "metadata": {
  "application/vnd.databricks.v1+notebook": {
   "computePreferences": null,
   "dashboards": [],
   "environmentMetadata": null,
   "language": "python",
   "notebookMetadata": {
    "pythonIndentUnit": 4
   },
   "notebookName": "Day 4_2 To select random element from list, tuple, string using choice()",
   "widgets": {}
  }
 },
 "nbformat": 4,
 "nbformat_minor": 0
}
