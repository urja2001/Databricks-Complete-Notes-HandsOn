{
 "cells": [
  {
   "cell_type": "markdown",
   "metadata": {
    "application/vnd.databricks.v1+cell": {
     "cellMetadata": {},
     "inputWidgets": {},
     "nuid": "cc2f11b4-b897-4578-b171-6360cb186589",
     "showTitle": false,
     "tableResultSettingsMap": {},
     "title": ""
    }
   },
   "source": [
    "**Syntax**\n",
    "\n",
    "                random.choices(sequence, weights=None, cum_weights=None, k=1)\n",
    "\n",
    "- **sequence**:\n",
    "  \n",
    "  - The sequence must be a **list, tuple, string** etc.\n",
    "\n",
    "\n",
    "- **weights**:\n",
    "  \n",
    "  -  A list were you can weigh the possibility for each value.\n",
    "     \n",
    "     **Default None.**\n",
    "\n",
    "\n",
    "- **cum_weights**:\n",
    "\n",
    "  -  A list were you can weigh the possibility for each value, only this time the possibility is accumulated.\n",
    "    \n",
    "     **Default None**.\n",
    "\n",
    "\n",
    "- **k**:\n",
    "\n",
    "  -  An integer defining the length of the returned list\n",
    "\n",
    "  \n",
    "- **Return Value**:\n",
    "\n",
    "  - It returns a **single random element** from a specified sequence such as a **list, a tuple, a range, a string** etc.\n",
    "\n",
    "  - If the **sequence is empty**, it will **raise an IndexError**."
   ]
  },
  {
   "cell_type": "markdown",
   "metadata": {
    "application/vnd.databricks.v1+cell": {
     "cellMetadata": {},
     "inputWidgets": {},
     "nuid": "c0f6d839-e79e-4c5b-96b4-c7f2f55a49bc",
     "showTitle": false,
     "tableResultSettingsMap": {},
     "title": ""
    }
   },
   "source": [
    "#### **Difference between Choice and Choices**"
   ]
  },
  {
   "cell_type": "code",
   "execution_count": 0,
   "metadata": {
    "application/vnd.databricks.v1+cell": {
     "cellMetadata": {
      "byteLimit": 2048000,
      "rowLimit": 10000
     },
     "inputWidgets": {},
     "nuid": "6395c757-7891-4e4d-aaa8-f909146b0829",
     "showTitle": false,
     "tableResultSettingsMap": {},
     "title": ""
    }
   },
   "outputs": [
    {
     "output_type": "stream",
     "name": "stdout",
     "output_type": "stream",
     "text": [
      "Help on method choice in module random:\n\nchoice(seq) method of random.Random instance\n    Choose a random element from a non-empty sequence.\n\n"
     ]
    }
   ],
   "source": [
    "help(random.choice)"
   ]
  },
  {
   "cell_type": "code",
   "execution_count": 0,
   "metadata": {
    "application/vnd.databricks.v1+cell": {
     "cellMetadata": {
      "byteLimit": 2048000,
      "rowLimit": 10000
     },
     "inputWidgets": {},
     "nuid": "742c349a-5cf9-44cf-b130-9b6fe52b8c46",
     "showTitle": false,
     "tableResultSettingsMap": {},
     "title": ""
    }
   },
   "outputs": [
    {
     "output_type": "stream",
     "name": "stdout",
     "output_type": "stream",
     "text": [
      "Help on method choices in module random:\n\nchoices(population, weights=None, *, cum_weights=None, k=1) method of random.Random instance\n    Return a k sized list of population elements chosen with replacement.\n    \n    If the relative weights or cumulative weights are not specified,\n    the selections are made with equal probability.\n\n"
     ]
    }
   ],
   "source": [
    "help(random.choices)"
   ]
  },
  {
   "cell_type": "code",
   "execution_count": 0,
   "metadata": {
    "application/vnd.databricks.v1+cell": {
     "cellMetadata": {
      "byteLimit": 2048000,
      "rowLimit": 10000
     },
     "inputWidgets": {},
     "nuid": "0041a4c5-5d3a-4e47-b310-d646a26cbf3c",
     "showTitle": false,
     "tableResultSettingsMap": {},
     "title": ""
    }
   },
   "outputs": [],
   "source": [
    "import random"
   ]
  },
  {
   "cell_type": "code",
   "execution_count": 0,
   "metadata": {
    "application/vnd.databricks.v1+cell": {
     "cellMetadata": {
      "byteLimit": 2048000,
      "rowLimit": 10000
     },
     "inputWidgets": {},
     "nuid": "7304c795-77b5-4748-9311-54a6423e235c",
     "showTitle": true,
     "tableResultSettingsMap": {},
     "title": "choice"
    }
   },
   "outputs": [
    {
     "output_type": "stream",
     "name": "stdout",
     "output_type": "stream",
     "text": [
      "Randomly selected animals: dog\n"
     ]
    }
   ],
   "source": [
    "animals = ['cat', 'dog', 'elephant', 'tiger']\n",
    "\n",
    "# Select 3 random animals (with replacement)\n",
    "random_animals = random.choice(animals)\n",
    "print(f\"Randomly selected animals: {random_animals}\")"
   ]
  },
  {
   "cell_type": "code",
   "execution_count": 0,
   "metadata": {
    "application/vnd.databricks.v1+cell": {
     "cellMetadata": {
      "byteLimit": 2048000,
      "rowLimit": 10000
     },
     "inputWidgets": {},
     "nuid": "7355daa6-6a88-4f1b-928b-78d99d926f8d",
     "showTitle": true,
     "tableResultSettingsMap": {},
     "title": "choices"
    }
   },
   "outputs": [
    {
     "output_type": "stream",
     "name": "stdout",
     "output_type": "stream",
     "text": [
      "Randomly selected animals: ['tiger']\n"
     ]
    }
   ],
   "source": [
    "animals = ['cat', 'dog', 'elephant', 'tiger']\n",
    "\n",
    "# Select 3 random animals (with replacement)\n",
    "random_animals = random.choices(animals)\n",
    "print(f\"Randomly selected animals: {random_animals}\")"
   ]
  },
  {
   "cell_type": "markdown",
   "metadata": {
    "application/vnd.databricks.v1+cell": {
     "cellMetadata": {},
     "inputWidgets": {},
     "nuid": "8c925a42-708d-4d55-b8b3-9a393eb62753",
     "showTitle": false,
     "tableResultSettingsMap": {},
     "title": ""
    }
   },
   "source": [
    "#### **a) Select Random Integers**"
   ]
  },
  {
   "cell_type": "code",
   "execution_count": 0,
   "metadata": {
    "application/vnd.databricks.v1+cell": {
     "cellMetadata": {
      "byteLimit": 2048000,
      "rowLimit": 10000
     },
     "inputWidgets": {},
     "nuid": "4679bce5-7e5b-43d6-b16d-674349238cc0",
     "showTitle": true,
     "tableResultSettingsMap": {},
     "title": "choices k=10"
    }
   },
   "outputs": [
    {
     "output_type": "stream",
     "name": "stdout",
     "output_type": "stream",
     "text": [
      "Random Numbers: [16, 5, 1, 17, 19, 13, 8, 8, 20, 1]\n"
     ]
    }
   ],
   "source": [
    "# Numbers from 1 to 20\n",
    "numbers = list(range(1, 21))\n",
    "random_numbers = random.choices(numbers, k=10)\n",
    "print(\"Random Numbers:\", random_numbers)"
   ]
  },
  {
   "cell_type": "code",
   "execution_count": 0,
   "metadata": {
    "application/vnd.databricks.v1+cell": {
     "cellMetadata": {
      "byteLimit": 2048000,
      "rowLimit": 10000
     },
     "inputWidgets": {},
     "nuid": "0e80da2b-5a9b-4dec-97f3-605e56ce5d83",
     "showTitle": true,
     "tableResultSettingsMap": {},
     "title": "choices k=2, k=4, k=8"
    }
   },
   "outputs": [
    {
     "output_type": "stream",
     "name": "stdout",
     "output_type": "stream",
     "text": [
      "Randomly selected animals k=2: ['cat', 'cat']\nRandomly selected animals k=4: ['tiger', 'cat', 'dog', 'elephant']\nRandomly selected animals k=8: ['tiger', 'tiger', 'elephant', 'tiger', 'tiger', 'dog', 'cat', 'elephant']\n"
     ]
    }
   ],
   "source": [
    "animals = ['cat', 'dog', 'elephant', 'tiger']\n",
    "\n",
    "# Select 2 random animals (with replacement)\n",
    "random_animals_k2 = random.choices(animals, k=2)\n",
    "print(f\"Randomly selected animals k=2: {random_animals_k2}\")\n",
    "\n",
    "# Select 4 random animals (with replacement)\n",
    "random_animals_k4 = random.choices(animals, k=4)\n",
    "print(f\"Randomly selected animals k=4: {random_animals_k4}\")\n",
    "\n",
    "# Select 8 random animals (with replacement)\n",
    "random_animals_k8 = random.choices(animals, k=8)\n",
    "print(f\"Randomly selected animals k=8: {random_animals_k8}\")"
   ]
  },
  {
   "cell_type": "code",
   "execution_count": 0,
   "metadata": {
    "application/vnd.databricks.v1+cell": {
     "cellMetadata": {
      "byteLimit": 2048000,
      "rowLimit": 10000
     },
     "inputWidgets": {},
     "nuid": "2b251737-74f5-4f95-a0e4-62d9aa6a7b97",
     "showTitle": true,
     "tableResultSettingsMap": {},
     "title": "string"
    }
   },
   "outputs": [
    {
     "output_type": "execute_result",
     "data": {
      "text/plain": [
       "['h', 'h']"
      ]
     },
     "execution_count": 4,
     "metadata": {},
     "output_type": "execute_result"
    }
   ],
   "source": [
    "# Initialize string\n",
    "str = 'Python'\n",
    "rand_num = random.choices(str, k =2)\n",
    "rand_num"
   ]
  },
  {
   "cell_type": "code",
   "execution_count": 0,
   "metadata": {
    "application/vnd.databricks.v1+cell": {
     "cellMetadata": {
      "byteLimit": 2048000,
      "rowLimit": 10000
     },
     "inputWidgets": {},
     "nuid": "c8ffa854-f1f2-4e06-a7f4-c7451f45dcae",
     "showTitle": true,
     "tableResultSettingsMap": {},
     "title": "weights & k"
    }
   },
   "outputs": [
    {
     "output_type": "stream",
     "name": "stdout",
     "output_type": "stream",
     "text": [
      "['apple', 'apple', 'apple', 'apple', 'apple', 'banana', 'apple', 'apple', 'cherry', 'apple', 'apple', 'apple', 'apple', 'apple']\n"
     ]
    }
   ],
   "source": [
    "mylist = [\"apple\", \"banana\", \"cherry\"]\n",
    "print(random.choices(mylist, weights = [10, 1, 1], k = 14))"
   ]
  },
  {
   "cell_type": "markdown",
   "metadata": {
    "application/vnd.databricks.v1+cell": {
     "cellMetadata": {},
     "inputWidgets": {},
     "nuid": "2fbc4f42-b264-49bc-a195-baff3dddfae3",
     "showTitle": false,
     "tableResultSettingsMap": {},
     "title": ""
    }
   },
   "source": [
    "- Control the **probability** of selecting **each item** by providing a **weights parameter**."
   ]
  },
  {
   "cell_type": "markdown",
   "metadata": {
    "application/vnd.databricks.v1+cell": {
     "cellMetadata": {},
     "inputWidgets": {},
     "nuid": "ab00ef55-0d57-4bdc-8635-bc8d8a718c4b",
     "showTitle": false,
     "tableResultSettingsMap": {},
     "title": ""
    }
   },
   "source": [
    "- Return a **list** with **14 items**.\n",
    "- The **list** should contain a randomly selection of the values from a specified list, and there should be **10 times** higher possibility to select **\"apple\"** than the other two."
   ]
  },
  {
   "cell_type": "markdown",
   "metadata": {
    "application/vnd.databricks.v1+cell": {
     "cellMetadata": {},
     "inputWidgets": {},
     "nuid": "ec563aa8-f3a9-4acf-863a-6e90a0104e49",
     "showTitle": false,
     "tableResultSettingsMap": {},
     "title": ""
    }
   },
   "source": [
    "#### **b) Generate Random Password**\n",
    "- Generate a random password using **string.ascii_letters and string.digits**."
   ]
  },
  {
   "cell_type": "code",
   "execution_count": 0,
   "metadata": {
    "application/vnd.databricks.v1+cell": {
     "cellMetadata": {
      "byteLimit": 2048000,
      "rowLimit": 10000
     },
     "inputWidgets": {},
     "nuid": "6574e7ad-34a3-4bd6-89f4-00cda8b97725",
     "showTitle": false,
     "tableResultSettingsMap": {},
     "title": ""
    }
   },
   "outputs": [
    {
     "output_type": "stream",
     "name": "stdout",
     "output_type": "stream",
     "text": [
      "Random Password: 0LjX7F1qw4AD\n"
     ]
    }
   ],
   "source": [
    "import string\n",
    "\n",
    "characters = string.ascii_letters + string.digits\n",
    "password = ''.join(random.choices(characters, k=12))\n",
    "print(\"Random Password:\", password)"
   ]
  },
  {
   "cell_type": "markdown",
   "metadata": {
    "application/vnd.databricks.v1+cell": {
     "cellMetadata": {},
     "inputWidgets": {},
     "nuid": "854dbd55-27b8-471c-aa58-7b2558f70c44",
     "showTitle": false,
     "tableResultSettingsMap": {},
     "title": ""
    }
   },
   "source": [
    "**string.ascii_letters**\n",
    "- **ascii_letters** constant in Python is part of the **string** module and is a predefined string that contains all the **lowercase and uppercase ASCII letters**. It includes:\n",
    "\n",
    "  - **Lowercase letters:** abcdefghijklmnopqrstuvwxyz\n",
    "  - **Uppercase letters:** ABCDEFGHIJKLMNOPQRSTUVWXYZ\n",
    "- It is equivalent to the **concatenation** of string.**ascii_lowercase and string.ascii_uppercase**."
   ]
  },
  {
   "cell_type": "code",
   "execution_count": 0,
   "metadata": {
    "application/vnd.databricks.v1+cell": {
     "cellMetadata": {
      "byteLimit": 2048000,
      "rowLimit": 10000
     },
     "inputWidgets": {},
     "nuid": "9f985a52-1c92-4ac1-9615-d8130360cbf8",
     "showTitle": true,
     "tableResultSettingsMap": {},
     "title": "ascii_letters in Python"
    }
   },
   "outputs": [
    {
     "output_type": "stream",
     "name": "stdout",
     "output_type": "stream",
     "text": [
      "abcdefghijklmnopqrstuvwxyzABCDEFGHIJKLMNOPQRSTUVWXYZ\n"
     ]
    }
   ],
   "source": [
    "import string\n",
    "\n",
    "# Accessing ascii_letters\n",
    "s = string.ascii_letters\n",
    "print(s)"
   ]
  },
  {
   "cell_type": "code",
   "execution_count": 0,
   "metadata": {
    "application/vnd.databricks.v1+cell": {
     "cellMetadata": {
      "byteLimit": 2048000,
      "rowLimit": 10000
     },
     "inputWidgets": {},
     "nuid": "3dca0407-0b55-4906-bc82-a62c749e7f49",
     "showTitle": true,
     "tableResultSettingsMap": {},
     "title": "Generating a random string"
    }
   },
   "outputs": [
    {
     "output_type": "stream",
     "name": "stdout",
     "output_type": "stream",
     "text": [
      "['Z', 'd', 'F', 'z', 'u', 'M', 'P', 'I']\niiWjuShU\n"
     ]
    }
   ],
   "source": [
    "# Generating a random string of length 8 using ascii_letters\n",
    "# random.choices() selects 8 random characters from ascii_letters.\n",
    "# The join() method combines these characters into a single string, resulting in a random string of alphabetic characters.\n",
    "\n",
    "print(random.choices(string.ascii_letters, k=8))\n",
    "random_string = ''.join(random.choices(string.ascii_letters, k=8))\n",
    "print(random_string)"
   ]
  },
  {
   "cell_type": "markdown",
   "metadata": {
    "application/vnd.databricks.v1+cell": {
     "cellMetadata": {},
     "inputWidgets": {},
     "nuid": "e6b064e6-c511-43c6-bf09-f3f3e2cac5f8",
     "showTitle": false,
     "tableResultSettingsMap": {},
     "title": ""
    }
   },
   "source": [
    "**string.digits**\n",
    "\n",
    "- In Python, the **string.digits** constant contains all the digits from **‘0’ to ‘9’**.\n",
    "- This can be very helpful when we need to work with numbers in string form. The **string.digit** will give the digits **0123456789**."
   ]
  },
  {
   "cell_type": "code",
   "execution_count": 0,
   "metadata": {
    "application/vnd.databricks.v1+cell": {
     "cellMetadata": {
      "byteLimit": 2048000,
      "rowLimit": 10000
     },
     "inputWidgets": {},
     "nuid": "0d10dc85-a451-41fc-bca1-b095e9194d7f",
     "showTitle": false,
     "tableResultSettingsMap": {},
     "title": ""
    }
   },
   "outputs": [
    {
     "output_type": "stream",
     "name": "stdout",
     "output_type": "stream",
     "text": [
      "0123456789\n"
     ]
    }
   ],
   "source": [
    "# Using string.digits\n",
    "dig = string.digits\n",
    "print(dig)"
   ]
  },
  {
   "cell_type": "code",
   "execution_count": 0,
   "metadata": {
    "application/vnd.databricks.v1+cell": {
     "cellMetadata": {
      "byteLimit": 2048000,
      "rowLimit": 10000
     },
     "inputWidgets": {},
     "nuid": "948ac888-0cb0-455e-88f6-d54fd746d6f9",
     "showTitle": false,
     "tableResultSettingsMap": {},
     "title": ""
    }
   },
   "outputs": [
    {
     "output_type": "stream",
     "name": "stdout",
     "output_type": "stream",
     "text": [
      "138017\n"
     ]
    }
   ],
   "source": [
    "# Generate a 6-digit OTP\n",
    "otp = ''.join(random.choices(string.digits, k=6))\n",
    "print(otp)"
   ]
  },
  {
   "cell_type": "markdown",
   "metadata": {
    "application/vnd.databricks.v1+cell": {
     "cellMetadata": {},
     "inputWidgets": {},
     "nuid": "39092544-ef0b-4a37-b0cc-53f70e2e1f88",
     "showTitle": false,
     "tableResultSettingsMap": {},
     "title": ""
    }
   },
   "source": [
    "#### **c) Assign Random Categories to Data**\n",
    "- Assign random categories to a list of items."
   ]
  },
  {
   "cell_type": "code",
   "execution_count": 0,
   "metadata": {
    "application/vnd.databricks.v1+cell": {
     "cellMetadata": {
      "byteLimit": 2048000,
      "rowLimit": 10000
     },
     "inputWidgets": {},
     "nuid": "d95c2471-453f-40d9-82ae-5bcd74d19a7b",
     "showTitle": false,
     "tableResultSettingsMap": {},
     "title": ""
    }
   },
   "outputs": [
    {
     "output_type": "stream",
     "name": "stdout",
     "output_type": "stream",
     "text": [
      "['A', 'B', 'C', 'C', 'C']\nItems with Categories: [('item1', 'A'), ('item2', 'B'), ('item3', 'C'), ('item4', 'C'), ('item5', 'C')]\n"
     ]
    }
   ],
   "source": [
    "items = ['item1', 'item2', 'item3', 'item4', 'item5']\n",
    "categories = ['A', 'B', 'C']\n",
    "random_categories = random.choices(categories, k=len(items))\n",
    "print(random_categories)\n",
    "\n",
    "result = list(zip(items, random_categories))\n",
    "print(\"Items with Categories:\", result)"
   ]
  }
 ],
 "metadata": {
  "application/vnd.databricks.v1+notebook": {
   "computePreferences": null,
   "dashboards": [],
   "environmentMetadata": {
    "base_environment": "",
    "client": "1"
   },
   "language": "python",
   "notebookMetadata": {
    "pythonIndentUnit": 4
   },
   "notebookName": "Day 4_4 Work with random.choices()",
   "widgets": {}
  }
 },
 "nbformat": 4,
 "nbformat_minor": 0
}
