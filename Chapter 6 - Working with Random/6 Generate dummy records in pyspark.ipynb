{
 "cells": [
  {
   "cell_type": "code",
   "execution_count": 0,
   "metadata": {
    "application/vnd.databricks.v1+cell": {
     "cellMetadata": {
      "byteLimit": 2048000,
      "rowLimit": 10000
     },
     "inputWidgets": {},
     "nuid": "a8f07712-15fe-4550-aa2e-79d624e60a78",
     "showTitle": false,
     "tableResultSettingsMap": {},
     "title": ""
    }
   },
   "outputs": [],
   "source": [
    "from pyspark.sql.types import StructType, StructField, IntegerType, StringType, DoubleType, DateType, BooleanType, LongType\n",
    "import string\n",
    "import random\n",
    "import datetime"
   ]
  },
  {
   "cell_type": "code",
   "execution_count": 0,
   "metadata": {
    "application/vnd.databricks.v1+cell": {
     "cellMetadata": {
      "byteLimit": 2048000,
      "rowLimit": 10000
     },
     "inputWidgets": {},
     "nuid": "2fbac4a6-b47d-41b3-b5eb-fb2f09042069",
     "showTitle": false,
     "tableResultSettingsMap": {},
     "title": ""
    }
   },
   "outputs": [],
   "source": [
    "# Define the schema\n",
    "schema = StructType([\n",
    "    StructField(\"Age\", IntegerType(), True),\n",
    "    StructField(\"department_id\", StringType(), True),\n",
    "    StructField(\"product_volume\", DoubleType(), True),\n",
    "    StructField(\"Salary\", IntegerType(), True),\n",
    "    StructField(\"start_time\", DateType(), True),\n",
    "    StructField(\"source\", StringType(), True),\n",
    "    StructField(\"profile_id\", StringType(), True),\n",
    "    StructField(\"category\", StringType(), True),\n",
    "    StructField(\"index\", BooleanType(), True),\n",
    "    StructField(\"target\", StringType(), True),\n",
    "    StructField(\"impact\", IntegerType(), True),\n",
    "    StructField(\"impact1\", IntegerType(), True),\n",
    "    StructField(\"impact2\", StringType(), True),\n",
    "    StructField(\"start_date\", LongType(), True),\n",
    "    StructField(\"end_date\", LongType(), True),\n",
    "    StructField(\"update_date\", LongType(), True)\n",
    "])"
   ]
  },
  {
   "cell_type": "code",
   "execution_count": 0,
   "metadata": {
    "application/vnd.databricks.v1+cell": {
     "cellMetadata": {
      "byteLimit": 2048000,
      "rowLimit": 10000
     },
     "inputWidgets": {},
     "nuid": "b54313fc-faac-439a-a875-fc6caca2165e",
     "showTitle": false,
     "tableResultSettingsMap": {},
     "title": ""
    }
   },
   "outputs": [],
   "source": [
    "# Generate random data\n",
    "data = [\n",
    "    {\n",
    "        \"Age\": random.randint(1, 100),  # Random integer for Age\n",
    "        \"department_id\": ''.join(random.choices(string.ascii_uppercase + string.digits, k=10)),  # Random alphanumeric string\n",
    "        \"product_volume\": random.uniform(1, 100),  # Random float for product volume\n",
    "        \"Salary\": random.randint(200, 500),  # Random integer for salary\n",
    "        \"start_time\": datetime.date.today(),  # Today's date\n",
    "        \"source\": f\"RESTAPI_{i}\",  # Custom string with index\n",
    "        \"profile_id\": ''.join(random.choices(string.ascii_uppercase + string.digits, k=10)),  # Random alphanumeric string\n",
    "        \"category\": random.choice([\"standard\", \"upper\", \"medium\", \"premium\", \"lower\"]),  # Random choice from a list\n",
    "        \"index\": random.choice([True, False]),  # Boolean value\n",
    "        \"target\": \"Azure\",  # Static value\n",
    "        \"impact\": random.choice([0]), # integer column has all rows with \"0\"\n",
    "        \"impact1\": random.choice([1]), # integer column has all rows with \"1\"\n",
    "        \"impact2\": random.choice([\"\"]), # column has empty values\n",
    "        \"start_date\": int((datetime.datetime.now() - datetime.timedelta(days=random.randint(0, 365))).timestamp()),  # LongType\n",
    "        \"end_date\": int((datetime.datetime.now() - datetime.timedelta(days=random.randint(0, 365))).timestamp()),  # LongType\n",
    "        \"update_date\": int((datetime.datetime.now() - datetime.timedelta(days=random.randint(0, 365))).timestamp()),  # LongType\n",
    "    }\n",
    "    for i in range(20)\n",
    "]"
   ]
  },
  {
   "cell_type": "code",
   "execution_count": 0,
   "metadata": {
    "application/vnd.databricks.v1+cell": {
     "cellMetadata": {
      "byteLimit": 2048000,
      "rowLimit": 10000
     },
     "inputWidgets": {},
     "nuid": "4d2eb5c9-44ad-46b3-9360-d9fbe9cc7ec5",
     "showTitle": false,
     "tableResultSettingsMap": {},
     "title": ""
    }
   },
   "outputs": [
    {
     "output_type": "display_data",
     "data": {
      "text/html": [
       "<style scoped>\n",
       "  .table-result-container {\n",
       "    max-height: 300px;\n",
       "    overflow: auto;\n",
       "  }\n",
       "  table, th, td {\n",
       "    border: 1px solid black;\n",
       "    border-collapse: collapse;\n",
       "  }\n",
       "  th, td {\n",
       "    padding: 5px;\n",
       "  }\n",
       "  th {\n",
       "    text-align: left;\n",
       "  }\n",
       "</style><div class='table-result-container'><table class='table-result'><thead style='background-color: white'><tr><th>Age</th><th>department_id</th><th>product_volume</th><th>Salary</th><th>start_time</th><th>source</th><th>profile_id</th><th>category</th><th>index</th><th>target</th><th>impact</th><th>impact1</th><th>impact2</th><th>start_date</th><th>end_date</th><th>update_date</th></tr></thead><tbody><tr><td>21</td><td>HV6VR6K1VJ</td><td>32.07979092053052</td><td>289</td><td>2025-01-21</td><td>RESTAPI_0</td><td>0FZRWZ5SXK</td><td>lower</td><td>false</td><td>Azure</td><td>0</td><td>1</td><td></td><td>1736951746</td><td>1708871746</td><td>1719239746</td></tr><tr><td>95</td><td>TS72RITILD</td><td>60.821893274639095</td><td>243</td><td>2025-01-21</td><td>RESTAPI_1</td><td>GPSOYVBDBC</td><td>lower</td><td>false</td><td>Azure</td><td>0</td><td>1</td><td></td><td>1726756546</td><td>1721745346</td><td>1736260546</td></tr><tr><td>28</td><td>9BCJS7JT67</td><td>52.165919612145075</td><td>470</td><td>2025-01-21</td><td>RESTAPI_2</td><td>21SM1YYSPB</td><td>upper</td><td>false</td><td>Azure</td><td>0</td><td>1</td><td></td><td>1730471746</td><td>1725201346</td><td>1732372546</td></tr><tr><td>24</td><td>6V5O43IAEM</td><td>62.02866426171954</td><td>248</td><td>2025-01-21</td><td>RESTAPI_3</td><td>C8MWWSQH9X</td><td>premium</td><td>true</td><td>Azure</td><td>0</td><td>1</td><td></td><td>1722263746</td><td>1731162946</td><td>1714314946</td></tr><tr><td>85</td><td>7OD7100Q2Q</td><td>33.36669644823481</td><td>468</td><td>2025-01-21</td><td>RESTAPI_4</td><td>PBVRPQ6MGD</td><td>premium</td><td>false</td><td>Azure</td><td>0</td><td>1</td><td></td><td>1735482946</td><td>1711204546</td><td>1723559746</td></tr><tr><td>18</td><td>5D8R0F3QDK</td><td>80.84685926547478</td><td>241</td><td>2025-01-21</td><td>RESTAPI_5</td><td>OM3HXTMWL0</td><td>upper</td><td>false</td><td>Azure</td><td>0</td><td>1</td><td></td><td>1707748546</td><td>1729607746</td><td>1726238146</td></tr><tr><td>71</td><td>WMQHA2V9A0</td><td>10.036807992069742</td><td>229</td><td>2025-01-21</td><td>RESTAPI_6</td><td>ZN9XWRNO6U</td><td>medium</td><td>false</td><td>Azure</td><td>0</td><td>1</td><td></td><td>1720103746</td><td>1720535746</td><td>1734359746</td></tr><tr><td>75</td><td>RB3YV6FLB5</td><td>26.547648398411354</td><td>230</td><td>2025-01-21</td><td>RESTAPI_7</td><td>3Y5OPIRKT2</td><td>standard</td><td>true</td><td>Azure</td><td>0</td><td>1</td><td></td><td>1721745346</td><td>1736865346</td><td>1708958146</td></tr><tr><td>6</td><td>DN3U7WL7PZ</td><td>23.460196744756985</td><td>316</td><td>2025-01-21</td><td>RESTAPI_8</td><td>ID2I5ENA8I</td><td>lower</td><td>false</td><td>Azure</td><td>0</td><td>1</td><td></td><td>1709130946</td><td>1720708546</td><td>1721313346</td></tr><tr><td>66</td><td>EGXQT4VTJ6</td><td>91.21105437097827</td><td>415</td><td>2025-01-21</td><td>RESTAPI_9</td><td>2E0LPR5DM7</td><td>standard</td><td>false</td><td>Azure</td><td>0</td><td>1</td><td></td><td>1714401346</td><td>1725633346</td><td>1706625346</td></tr><tr><td>49</td><td>I5YVLQVK3H</td><td>92.57272318391534</td><td>379</td><td>2025-01-21</td><td>RESTAPI_10</td><td>B3QU5JH8NY</td><td>upper</td><td>true</td><td>Azure</td><td>0</td><td>1</td><td></td><td>1734446146</td><td>1716129346</td><td>1713796546</td></tr><tr><td>66</td><td>46QA6EF5DY</td><td>67.25249447720604</td><td>338</td><td>2025-01-21</td><td>RESTAPI_11</td><td>QM037EOZMD</td><td>medium</td><td>true</td><td>Azure</td><td>0</td><td>1</td><td></td><td>1720535746</td><td>1731076546</td><td>1723559746</td></tr><tr><td>26</td><td>3FL6UVJ4MF</td><td>25.476437748285605</td><td>376</td><td>2025-01-21</td><td>RESTAPI_12</td><td>W3P4505WL0</td><td>lower</td><td>true</td><td>Azure</td><td>0</td><td>1</td><td></td><td>1735914946</td><td>1733582146</td><td>1714574146</td></tr><tr><td>9</td><td>W0RDUQRXDE</td><td>1.3201910288272596</td><td>410</td><td>2025-01-21</td><td>RESTAPI_13</td><td>J81GTDYDMT</td><td>medium</td><td>false</td><td>Azure</td><td>0</td><td>1</td><td></td><td>1721831746</td><td>1709390146</td><td>1712154946</td></tr><tr><td>33</td><td>TBE0N7CM78</td><td>38.96052113004784</td><td>349</td><td>2025-01-21</td><td>RESTAPI_14</td><td>XD3EIL0S4M</td><td>standard</td><td>false</td><td>Azure</td><td>0</td><td>1</td><td></td><td>1731249346</td><td>1716215746</td><td>1709822146</td></tr><tr><td>31</td><td>5ZMK4KICL8</td><td>71.95424430917348</td><td>376</td><td>2025-01-21</td><td>RESTAPI_15</td><td>1GG9OM6SN9</td><td>standard</td><td>false</td><td>Azure</td><td>0</td><td>1</td><td></td><td>1726583746</td><td>1716129346</td><td>1710772546</td></tr><tr><td>39</td><td>PNFJEA3ZK1</td><td>66.13930938971954</td><td>469</td><td>2025-01-21</td><td>RESTAPI_16</td><td>75I569DO0B</td><td>upper</td><td>false</td><td>Azure</td><td>0</td><td>1</td><td></td><td>1731162946</td><td>1717338946</td><td>1724942146</td></tr><tr><td>23</td><td>VDELZ74Z12</td><td>52.97016365495554</td><td>229</td><td>2025-01-21</td><td>RESTAPI_17</td><td>UB1LAZYR5F</td><td>medium</td><td>true</td><td>Azure</td><td>0</td><td>1</td><td></td><td>1722350146</td><td>1719153346</td><td>1730644546</td></tr><tr><td>23</td><td>SRL9I76STK</td><td>92.06679245549277</td><td>422</td><td>2025-01-21</td><td>RESTAPI_18</td><td>QNW2I4T2QW</td><td>premium</td><td>false</td><td>Azure</td><td>0</td><td>1</td><td></td><td>1707402946</td><td>1714142146</td><td>1736606146</td></tr><tr><td>60</td><td>53TKP1JGC3</td><td>12.48193327080097</td><td>388</td><td>2025-01-21</td><td>RESTAPI_19</td><td>ZII4HZQ5QX</td><td>premium</td><td>true</td><td>Azure</td><td>0</td><td>1</td><td></td><td>1723214146</td><td>1715524546</td><td>1730039746</td></tr></tbody></table></div>"
      ]
     },
     "metadata": {
      "application/vnd.databricks.v1+output": {
       "addedWidgets": {},
       "aggData": [],
       "aggError": "",
       "aggOverflow": false,
       "aggSchema": [],
       "aggSeriesLimitReached": false,
       "aggType": "",
       "arguments": {},
       "columnCustomDisplayInfos": {},
       "data": [
        [
         21,
         "HV6VR6K1VJ",
         32.07979092053052,
         289,
         "2025-01-21",
         "RESTAPI_0",
         "0FZRWZ5SXK",
         "lower",
         false,
         "Azure",
         0,
         1,
         "",
         1736951746,
         1708871746,
         1719239746
        ],
        [
         95,
         "TS72RITILD",
         60.821893274639095,
         243,
         "2025-01-21",
         "RESTAPI_1",
         "GPSOYVBDBC",
         "lower",
         false,
         "Azure",
         0,
         1,
         "",
         1726756546,
         1721745346,
         1736260546
        ],
        [
         28,
         "9BCJS7JT67",
         52.165919612145075,
         470,
         "2025-01-21",
         "RESTAPI_2",
         "21SM1YYSPB",
         "upper",
         false,
         "Azure",
         0,
         1,
         "",
         1730471746,
         1725201346,
         1732372546
        ],
        [
         24,
         "6V5O43IAEM",
         62.02866426171954,
         248,
         "2025-01-21",
         "RESTAPI_3",
         "C8MWWSQH9X",
         "premium",
         true,
         "Azure",
         0,
         1,
         "",
         1722263746,
         1731162946,
         1714314946
        ],
        [
         85,
         "7OD7100Q2Q",
         33.36669644823481,
         468,
         "2025-01-21",
         "RESTAPI_4",
         "PBVRPQ6MGD",
         "premium",
         false,
         "Azure",
         0,
         1,
         "",
         1735482946,
         1711204546,
         1723559746
        ],
        [
         18,
         "5D8R0F3QDK",
         80.84685926547478,
         241,
         "2025-01-21",
         "RESTAPI_5",
         "OM3HXTMWL0",
         "upper",
         false,
         "Azure",
         0,
         1,
         "",
         1707748546,
         1729607746,
         1726238146
        ],
        [
         71,
         "WMQHA2V9A0",
         10.036807992069742,
         229,
         "2025-01-21",
         "RESTAPI_6",
         "ZN9XWRNO6U",
         "medium",
         false,
         "Azure",
         0,
         1,
         "",
         1720103746,
         1720535746,
         1734359746
        ],
        [
         75,
         "RB3YV6FLB5",
         26.547648398411354,
         230,
         "2025-01-21",
         "RESTAPI_7",
         "3Y5OPIRKT2",
         "standard",
         true,
         "Azure",
         0,
         1,
         "",
         1721745346,
         1736865346,
         1708958146
        ],
        [
         6,
         "DN3U7WL7PZ",
         23.460196744756985,
         316,
         "2025-01-21",
         "RESTAPI_8",
         "ID2I5ENA8I",
         "lower",
         false,
         "Azure",
         0,
         1,
         "",
         1709130946,
         1720708546,
         1721313346
        ],
        [
         66,
         "EGXQT4VTJ6",
         91.21105437097827,
         415,
         "2025-01-21",
         "RESTAPI_9",
         "2E0LPR5DM7",
         "standard",
         false,
         "Azure",
         0,
         1,
         "",
         1714401346,
         1725633346,
         1706625346
        ],
        [
         49,
         "I5YVLQVK3H",
         92.57272318391534,
         379,
         "2025-01-21",
         "RESTAPI_10",
         "B3QU5JH8NY",
         "upper",
         true,
         "Azure",
         0,
         1,
         "",
         1734446146,
         1716129346,
         1713796546
        ],
        [
         66,
         "46QA6EF5DY",
         67.25249447720604,
         338,
         "2025-01-21",
         "RESTAPI_11",
         "QM037EOZMD",
         "medium",
         true,
         "Azure",
         0,
         1,
         "",
         1720535746,
         1731076546,
         1723559746
        ],
        [
         26,
         "3FL6UVJ4MF",
         25.476437748285605,
         376,
         "2025-01-21",
         "RESTAPI_12",
         "W3P4505WL0",
         "lower",
         true,
         "Azure",
         0,
         1,
         "",
         1735914946,
         1733582146,
         1714574146
        ],
        [
         9,
         "W0RDUQRXDE",
         1.3201910288272596,
         410,
         "2025-01-21",
         "RESTAPI_13",
         "J81GTDYDMT",
         "medium",
         false,
         "Azure",
         0,
         1,
         "",
         1721831746,
         1709390146,
         1712154946
        ],
        [
         33,
         "TBE0N7CM78",
         38.96052113004784,
         349,
         "2025-01-21",
         "RESTAPI_14",
         "XD3EIL0S4M",
         "standard",
         false,
         "Azure",
         0,
         1,
         "",
         1731249346,
         1716215746,
         1709822146
        ],
        [
         31,
         "5ZMK4KICL8",
         71.95424430917348,
         376,
         "2025-01-21",
         "RESTAPI_15",
         "1GG9OM6SN9",
         "standard",
         false,
         "Azure",
         0,
         1,
         "",
         1726583746,
         1716129346,
         1710772546
        ],
        [
         39,
         "PNFJEA3ZK1",
         66.13930938971954,
         469,
         "2025-01-21",
         "RESTAPI_16",
         "75I569DO0B",
         "upper",
         false,
         "Azure",
         0,
         1,
         "",
         1731162946,
         1717338946,
         1724942146
        ],
        [
         23,
         "VDELZ74Z12",
         52.97016365495554,
         229,
         "2025-01-21",
         "RESTAPI_17",
         "UB1LAZYR5F",
         "medium",
         true,
         "Azure",
         0,
         1,
         "",
         1722350146,
         1719153346,
         1730644546
        ],
        [
         23,
         "SRL9I76STK",
         92.06679245549277,
         422,
         "2025-01-21",
         "RESTAPI_18",
         "QNW2I4T2QW",
         "premium",
         false,
         "Azure",
         0,
         1,
         "",
         1707402946,
         1714142146,
         1736606146
        ],
        [
         60,
         "53TKP1JGC3",
         12.48193327080097,
         388,
         "2025-01-21",
         "RESTAPI_19",
         "ZII4HZQ5QX",
         "premium",
         true,
         "Azure",
         0,
         1,
         "",
         1723214146,
         1715524546,
         1730039746
        ]
       ],
       "datasetInfos": [],
       "dbfsResultPath": null,
       "isJsonSchema": true,
       "metadata": {},
       "overflow": false,
       "plotOptions": {
        "customPlotOptions": {},
        "displayType": "table",
        "pivotAggregation": null,
        "pivotColumns": null,
        "xColumns": null,
        "yColumns": null
       },
       "removedWidgets": [],
       "schema": [
        {
         "metadata": "{}",
         "name": "Age",
         "type": "\"integer\""
        },
        {
         "metadata": "{}",
         "name": "department_id",
         "type": "\"string\""
        },
        {
         "metadata": "{}",
         "name": "product_volume",
         "type": "\"double\""
        },
        {
         "metadata": "{}",
         "name": "Salary",
         "type": "\"integer\""
        },
        {
         "metadata": "{}",
         "name": "start_time",
         "type": "\"date\""
        },
        {
         "metadata": "{}",
         "name": "source",
         "type": "\"string\""
        },
        {
         "metadata": "{}",
         "name": "profile_id",
         "type": "\"string\""
        },
        {
         "metadata": "{}",
         "name": "category",
         "type": "\"string\""
        },
        {
         "metadata": "{}",
         "name": "index",
         "type": "\"boolean\""
        },
        {
         "metadata": "{}",
         "name": "target",
         "type": "\"string\""
        },
        {
         "metadata": "{}",
         "name": "impact",
         "type": "\"integer\""
        },
        {
         "metadata": "{}",
         "name": "impact1",
         "type": "\"integer\""
        },
        {
         "metadata": "{}",
         "name": "impact2",
         "type": "\"string\""
        },
        {
         "metadata": "{}",
         "name": "start_date",
         "type": "\"long\""
        },
        {
         "metadata": "{}",
         "name": "end_date",
         "type": "\"long\""
        },
        {
         "metadata": "{}",
         "name": "update_date",
         "type": "\"long\""
        }
       ],
       "type": "table"
      }
     },
     "output_type": "display_data"
    }
   ],
   "source": [
    "df = spark.createDataFrame(data, schema=schema)\n",
    "display(df)"
   ]
  }
 ],
 "metadata": {
  "application/vnd.databricks.v1+notebook": {
   "computePreferences": null,
   "dashboards": [],
   "environmentMetadata": {
    "base_environment": "",
    "client": "1"
   },
   "language": "python",
   "notebookMetadata": {
    "pythonIndentUnit": 4
   },
   "notebookName": "Day 4_6 Generate dummy records in pyspark",
   "widgets": {}
  }
 },
 "nbformat": 4,
 "nbformat_minor": 0
}
