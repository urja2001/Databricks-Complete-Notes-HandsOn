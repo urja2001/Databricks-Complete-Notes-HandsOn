{
 "cells": [
  {
   "cell_type": "markdown",
   "metadata": {
    "application/vnd.databricks.v1+cell": {
     "cellMetadata": {},
     "inputWidgets": {},
     "nuid": "3abf42c5-8958-4f92-bbcd-8c15bce74202",
     "showTitle": false,
     "tableResultSettingsMap": {},
     "title": ""
    }
   },
   "source": [
    "#### **random.randint()**\n",
    "- The random.randint() function in Python is used to generate the **random integer** from the given range of integers. It takes **start and end** numeric values as its parameters, so that a random integer is generated **within this specified range**.\n",
    "\n",
    "- used to generate the random integer value between the **two start and stop ranges**."
   ]
  },
  {
   "cell_type": "markdown",
   "metadata": {
    "application/vnd.databricks.v1+cell": {
     "cellMetadata": {},
     "inputWidgets": {},
     "nuid": "6743dd76-bf70-4eca-8499-96f6131e22e2",
     "showTitle": false,
     "tableResultSettingsMap": {},
     "title": ""
    }
   },
   "source": [
    "#### **Syntax**\n",
    "\n",
    "     random.randint(start, stop)\n",
    "\n",
    "**start**: An integer specifying at which **position to start**.\n",
    "\n",
    "**stop**: An integer specifying at which **position to end**.\n",
    "\n",
    "**Returns:**\n",
    "\n",
    "- A random **integer** in range [start, end] including the **end points**."
   ]
  },
  {
   "cell_type": "markdown",
   "metadata": {
    "application/vnd.databricks.v1+cell": {
     "cellMetadata": {},
     "inputWidgets": {},
     "nuid": "6680389b-5f9d-4942-9a33-505508d2fd9e",
     "showTitle": false,
     "tableResultSettingsMap": {},
     "title": ""
    }
   },
   "source": [
    "#### **Errors and Exceptions:**"
   ]
  },
  {
   "cell_type": "markdown",
   "metadata": {
    "application/vnd.databricks.v1+cell": {
     "cellMetadata": {},
     "inputWidgets": {},
     "nuid": "f1a9931d-659b-443d-af30-88bc7d5bf236",
     "showTitle": false,
     "tableResultSettingsMap": {},
     "title": ""
    }
   },
   "source": [
    "**ValueError:**\n",
    " - Returns a ValueError when **floating point** values are passed as parameters."
   ]
  },
  {
   "cell_type": "code",
   "execution_count": 0,
   "metadata": {
    "application/vnd.databricks.v1+cell": {
     "cellMetadata": {
      "byteLimit": 2048000,
      "rowLimit": 10000
     },
     "inputWidgets": {},
     "nuid": "47358af0-6d05-4d1d-b462-26b5d762e815",
     "showTitle": true,
     "tableResultSettingsMap": {},
     "title": "ValueError"
    }
   },
   "outputs": [
    {
     "output_type": "display_data",
     "data": {
      "text/plain": [
       "\u001B[0;31m---------------------------------------------------------------------------\u001B[0m\n",
       "\u001B[0;31mTypeError\u001B[0m                                 Traceback (most recent call last)\n",
       "File \u001B[0;32m/usr/lib/python3.11/random.py:295\u001B[0m, in \u001B[0;36mRandom.randrange\u001B[0;34m(self, start, stop, step)\u001B[0m\n",
       "\u001B[1;32m    294\u001B[0m \u001B[38;5;28;01mtry\u001B[39;00m:\n",
       "\u001B[0;32m--> 295\u001B[0m     istart \u001B[38;5;241m=\u001B[39m _index(start)\n",
       "\u001B[1;32m    296\u001B[0m \u001B[38;5;28;01mexcept\u001B[39;00m \u001B[38;5;167;01mTypeError\u001B[39;00m:\n",
       "\n",
       "\u001B[0;31mTypeError\u001B[0m: 'float' object cannot be interpreted as an integer\n",
       "\n",
       "During handling of the above exception, another exception occurred:\n",
       "\n",
       "\u001B[0;31mValueError\u001B[0m                                Traceback (most recent call last)\n",
       "File \u001B[0;32m<command-1010512266701579>, line 4\u001B[0m\n",
       "\u001B[1;32m      1\u001B[0m \u001B[38;5;124;03m'''If we pass floating point values as\u001B[39;00m\n",
       "\u001B[1;32m      2\u001B[0m \u001B[38;5;124;03mparameters in the randint() function'''\u001B[39;00m\n",
       "\u001B[0;32m----> 4\u001B[0m \u001B[38;5;167;01mValueError\u001B[39;00m \u001B[38;5;241m=\u001B[39m random\u001B[38;5;241m.\u001B[39mrandint(\u001B[38;5;241m1.23\u001B[39m, \u001B[38;5;241m9.34\u001B[39m)\n",
       "\u001B[1;32m      5\u001B[0m \u001B[38;5;28mprint\u001B[39m(\u001B[38;5;167;01mValueError\u001B[39;00m)\n",
       "\n",
       "File \u001B[0;32m/usr/lib/python3.11/random.py:362\u001B[0m, in \u001B[0;36mRandom.randint\u001B[0;34m(self, a, b)\u001B[0m\n",
       "\u001B[1;32m    358\u001B[0m \u001B[38;5;28;01mdef\u001B[39;00m \u001B[38;5;21mrandint\u001B[39m(\u001B[38;5;28mself\u001B[39m, a, b):\n",
       "\u001B[1;32m    359\u001B[0m \u001B[38;5;250m    \u001B[39m\u001B[38;5;124;03m\"\"\"Return random integer in range [a, b], including both end points.\u001B[39;00m\n",
       "\u001B[1;32m    360\u001B[0m \u001B[38;5;124;03m    \"\"\"\u001B[39;00m\n",
       "\u001B[0;32m--> 362\u001B[0m     \u001B[38;5;28;01mreturn\u001B[39;00m \u001B[38;5;28mself\u001B[39m\u001B[38;5;241m.\u001B[39mrandrange(a, b\u001B[38;5;241m+\u001B[39m\u001B[38;5;241m1\u001B[39m)\n",
       "\n",
       "File \u001B[0;32m/usr/lib/python3.11/random.py:301\u001B[0m, in \u001B[0;36mRandom.randrange\u001B[0;34m(self, start, stop, step)\u001B[0m\n",
       "\u001B[1;32m    298\u001B[0m     \u001B[38;5;28;01mif\u001B[39;00m istart \u001B[38;5;241m!=\u001B[39m start:\n",
       "\u001B[1;32m    299\u001B[0m         _warn(\u001B[38;5;124m'\u001B[39m\u001B[38;5;124mrandrange() will raise TypeError in the future\u001B[39m\u001B[38;5;124m'\u001B[39m,\n",
       "\u001B[1;32m    300\u001B[0m               \u001B[38;5;167;01mDeprecationWarning\u001B[39;00m, \u001B[38;5;241m2\u001B[39m)\n",
       "\u001B[0;32m--> 301\u001B[0m         \u001B[38;5;28;01mraise\u001B[39;00m \u001B[38;5;167;01mValueError\u001B[39;00m(\u001B[38;5;124m\"\u001B[39m\u001B[38;5;124mnon-integer arg 1 for randrange()\u001B[39m\u001B[38;5;124m\"\u001B[39m)\n",
       "\u001B[1;32m    302\u001B[0m     _warn(\u001B[38;5;124m'\u001B[39m\u001B[38;5;124mnon-integer arguments to randrange() have been deprecated \u001B[39m\u001B[38;5;124m'\u001B[39m\n",
       "\u001B[1;32m    303\u001B[0m           \u001B[38;5;124m'\u001B[39m\u001B[38;5;124msince Python 3.10 and will be removed in a subsequent \u001B[39m\u001B[38;5;124m'\u001B[39m\n",
       "\u001B[1;32m    304\u001B[0m           \u001B[38;5;124m'\u001B[39m\u001B[38;5;124mversion\u001B[39m\u001B[38;5;124m'\u001B[39m,\n",
       "\u001B[1;32m    305\u001B[0m           \u001B[38;5;167;01mDeprecationWarning\u001B[39;00m, \u001B[38;5;241m2\u001B[39m)\n",
       "\u001B[1;32m    306\u001B[0m \u001B[38;5;28;01mif\u001B[39;00m stop \u001B[38;5;129;01mis\u001B[39;00m \u001B[38;5;28;01mNone\u001B[39;00m:\n",
       "\u001B[1;32m    307\u001B[0m     \u001B[38;5;66;03m# We don't check for \"step != 1\" because it hasn't been\u001B[39;00m\n",
       "\u001B[1;32m    308\u001B[0m     \u001B[38;5;66;03m# type checked and converted to an integer yet.\u001B[39;00m\n",
       "\n",
       "\u001B[0;31mValueError\u001B[0m: non-integer arg 1 for randrange()"
      ]
     },
     "metadata": {
      "application/vnd.databricks.v1+output": {
       "addedWidgets": {},
       "arguments": {},
       "datasetInfos": [],
       "jupyterProps": {
        "ename": "ValueError",
        "evalue": "non-integer arg 1 for randrange()"
       },
       "metadata": {
        "errorSummary": "<span class='ansi-red-fg'>ValueError</span>: non-integer arg 1 for randrange()"
       },
       "removedWidgets": [],
       "sqlProps": null,
       "stackFrames": [
        "\u001B[0;31m---------------------------------------------------------------------------\u001B[0m",
        "\u001B[0;31mTypeError\u001B[0m                                 Traceback (most recent call last)",
        "File \u001B[0;32m/usr/lib/python3.11/random.py:295\u001B[0m, in \u001B[0;36mRandom.randrange\u001B[0;34m(self, start, stop, step)\u001B[0m\n\u001B[1;32m    294\u001B[0m \u001B[38;5;28;01mtry\u001B[39;00m:\n\u001B[0;32m--> 295\u001B[0m     istart \u001B[38;5;241m=\u001B[39m _index(start)\n\u001B[1;32m    296\u001B[0m \u001B[38;5;28;01mexcept\u001B[39;00m \u001B[38;5;167;01mTypeError\u001B[39;00m:\n",
        "\u001B[0;31mTypeError\u001B[0m: 'float' object cannot be interpreted as an integer",
        "\nDuring handling of the above exception, another exception occurred:\n",
        "\u001B[0;31mValueError\u001B[0m                                Traceback (most recent call last)",
        "File \u001B[0;32m<command-1010512266701579>, line 4\u001B[0m\n\u001B[1;32m      1\u001B[0m \u001B[38;5;124;03m'''If we pass floating point values as\u001B[39;00m\n\u001B[1;32m      2\u001B[0m \u001B[38;5;124;03mparameters in the randint() function'''\u001B[39;00m\n\u001B[0;32m----> 4\u001B[0m \u001B[38;5;167;01mValueError\u001B[39;00m \u001B[38;5;241m=\u001B[39m random\u001B[38;5;241m.\u001B[39mrandint(\u001B[38;5;241m1.23\u001B[39m, \u001B[38;5;241m9.34\u001B[39m)\n\u001B[1;32m      5\u001B[0m \u001B[38;5;28mprint\u001B[39m(\u001B[38;5;167;01mValueError\u001B[39;00m)\n",
        "File \u001B[0;32m/usr/lib/python3.11/random.py:362\u001B[0m, in \u001B[0;36mRandom.randint\u001B[0;34m(self, a, b)\u001B[0m\n\u001B[1;32m    358\u001B[0m \u001B[38;5;28;01mdef\u001B[39;00m \u001B[38;5;21mrandint\u001B[39m(\u001B[38;5;28mself\u001B[39m, a, b):\n\u001B[1;32m    359\u001B[0m \u001B[38;5;250m    \u001B[39m\u001B[38;5;124;03m\"\"\"Return random integer in range [a, b], including both end points.\u001B[39;00m\n\u001B[1;32m    360\u001B[0m \u001B[38;5;124;03m    \"\"\"\u001B[39;00m\n\u001B[0;32m--> 362\u001B[0m     \u001B[38;5;28;01mreturn\u001B[39;00m \u001B[38;5;28mself\u001B[39m\u001B[38;5;241m.\u001B[39mrandrange(a, b\u001B[38;5;241m+\u001B[39m\u001B[38;5;241m1\u001B[39m)\n",
        "File \u001B[0;32m/usr/lib/python3.11/random.py:301\u001B[0m, in \u001B[0;36mRandom.randrange\u001B[0;34m(self, start, stop, step)\u001B[0m\n\u001B[1;32m    298\u001B[0m     \u001B[38;5;28;01mif\u001B[39;00m istart \u001B[38;5;241m!=\u001B[39m start:\n\u001B[1;32m    299\u001B[0m         _warn(\u001B[38;5;124m'\u001B[39m\u001B[38;5;124mrandrange() will raise TypeError in the future\u001B[39m\u001B[38;5;124m'\u001B[39m,\n\u001B[1;32m    300\u001B[0m               \u001B[38;5;167;01mDeprecationWarning\u001B[39;00m, \u001B[38;5;241m2\u001B[39m)\n\u001B[0;32m--> 301\u001B[0m         \u001B[38;5;28;01mraise\u001B[39;00m \u001B[38;5;167;01mValueError\u001B[39;00m(\u001B[38;5;124m\"\u001B[39m\u001B[38;5;124mnon-integer arg 1 for randrange()\u001B[39m\u001B[38;5;124m\"\u001B[39m)\n\u001B[1;32m    302\u001B[0m     _warn(\u001B[38;5;124m'\u001B[39m\u001B[38;5;124mnon-integer arguments to randrange() have been deprecated \u001B[39m\u001B[38;5;124m'\u001B[39m\n\u001B[1;32m    303\u001B[0m           \u001B[38;5;124m'\u001B[39m\u001B[38;5;124msince Python 3.10 and will be removed in a subsequent \u001B[39m\u001B[38;5;124m'\u001B[39m\n\u001B[1;32m    304\u001B[0m           \u001B[38;5;124m'\u001B[39m\u001B[38;5;124mversion\u001B[39m\u001B[38;5;124m'\u001B[39m,\n\u001B[1;32m    305\u001B[0m           \u001B[38;5;167;01mDeprecationWarning\u001B[39;00m, \u001B[38;5;241m2\u001B[39m)\n\u001B[1;32m    306\u001B[0m \u001B[38;5;28;01mif\u001B[39;00m stop \u001B[38;5;129;01mis\u001B[39;00m \u001B[38;5;28;01mNone\u001B[39;00m:\n\u001B[1;32m    307\u001B[0m     \u001B[38;5;66;03m# We don't check for \"step != 1\" because it hasn't been\u001B[39;00m\n\u001B[1;32m    308\u001B[0m     \u001B[38;5;66;03m# type checked and converted to an integer yet.\u001B[39;00m\n",
        "\u001B[0;31mValueError\u001B[0m: non-integer arg 1 for randrange()"
       ],
       "type": "baseError"
      }
     },
     "output_type": "display_data"
    }
   ],
   "source": [
    "'''If we pass floating point values as\n",
    "parameters in the randint() function'''\n",
    "\n",
    "ValueError = random.randint(1.23, 9.34)\n",
    "print(ValueError)"
   ]
  },
  {
   "cell_type": "markdown",
   "metadata": {
    "application/vnd.databricks.v1+cell": {
     "cellMetadata": {},
     "inputWidgets": {},
     "nuid": "5b3a54c6-c57b-44f6-9701-20279f9686d2",
     "showTitle": false,
     "tableResultSettingsMap": {},
     "title": ""
    }
   },
   "source": [
    "**TypeError:**\n",
    " - Returns a TypeError when anything **other than numeric values** are passed as parameters."
   ]
  },
  {
   "cell_type": "code",
   "execution_count": 0,
   "metadata": {
    "application/vnd.databricks.v1+cell": {
     "cellMetadata": {
      "byteLimit": 2048000,
      "rowLimit": 10000
     },
     "inputWidgets": {},
     "nuid": "0370f66c-4eec-47fe-8651-c68c4cd62dc2",
     "showTitle": true,
     "tableResultSettingsMap": {},
     "title": "TypeError"
    }
   },
   "outputs": [
    {
     "output_type": "display_data",
     "data": {
      "text/plain": [
       "\u001B[0;31m---------------------------------------------------------------------------\u001B[0m\n",
       "\u001B[0;31mTypeError\u001B[0m                                 Traceback (most recent call last)\n",
       "File \u001B[0;32m<command-1010512266701583>, line 4\u001B[0m\n",
       "\u001B[1;32m      1\u001B[0m \u001B[38;5;124;03m'''If we pass string or character literals as\u001B[39;00m\n",
       "\u001B[1;32m      2\u001B[0m \u001B[38;5;124;03mparameters in the randint() function'''\u001B[39;00m\n",
       "\u001B[0;32m----> 4\u001B[0m \u001B[38;5;167;01mTypeError\u001B[39;00m \u001B[38;5;241m=\u001B[39m random\u001B[38;5;241m.\u001B[39mrandint(\u001B[38;5;124m'\u001B[39m\u001B[38;5;124ma\u001B[39m\u001B[38;5;124m'\u001B[39m, \u001B[38;5;124m'\u001B[39m\u001B[38;5;124mz\u001B[39m\u001B[38;5;124m'\u001B[39m)\n",
       "\u001B[1;32m      5\u001B[0m \u001B[38;5;28mprint\u001B[39m(\u001B[38;5;167;01mTypeError\u001B[39;00m)\n",
       "\n",
       "File \u001B[0;32m/usr/lib/python3.11/random.py:362\u001B[0m, in \u001B[0;36mRandom.randint\u001B[0;34m(self, a, b)\u001B[0m\n",
       "\u001B[1;32m    358\u001B[0m \u001B[38;5;28;01mdef\u001B[39;00m \u001B[38;5;21mrandint\u001B[39m(\u001B[38;5;28mself\u001B[39m, a, b):\n",
       "\u001B[1;32m    359\u001B[0m \u001B[38;5;250m    \u001B[39m\u001B[38;5;124;03m\"\"\"Return random integer in range [a, b], including both end points.\u001B[39;00m\n",
       "\u001B[1;32m    360\u001B[0m \u001B[38;5;124;03m    \"\"\"\u001B[39;00m\n",
       "\u001B[0;32m--> 362\u001B[0m     \u001B[38;5;28;01mreturn\u001B[39;00m \u001B[38;5;28mself\u001B[39m\u001B[38;5;241m.\u001B[39mrandrange(a, b\u001B[38;5;241m+\u001B[39m\u001B[38;5;241m1\u001B[39m)\n",
       "\n",
       "\u001B[0;31mTypeError\u001B[0m: can only concatenate str (not \"int\") to str"
      ]
     },
     "metadata": {
      "application/vnd.databricks.v1+output": {
       "addedWidgets": {},
       "arguments": {},
       "datasetInfos": [],
       "jupyterProps": {
        "ename": "TypeError",
        "evalue": "can only concatenate str (not \"int\") to str"
       },
       "metadata": {
        "errorSummary": "<span class='ansi-red-fg'>TypeError</span>: can only concatenate str (not \"int\") to str"
       },
       "removedWidgets": [],
       "sqlProps": null,
       "stackFrames": [
        "\u001B[0;31m---------------------------------------------------------------------------\u001B[0m",
        "\u001B[0;31mTypeError\u001B[0m                                 Traceback (most recent call last)",
        "File \u001B[0;32m<command-1010512266701583>, line 4\u001B[0m\n\u001B[1;32m      1\u001B[0m \u001B[38;5;124;03m'''If we pass string or character literals as\u001B[39;00m\n\u001B[1;32m      2\u001B[0m \u001B[38;5;124;03mparameters in the randint() function'''\u001B[39;00m\n\u001B[0;32m----> 4\u001B[0m \u001B[38;5;167;01mTypeError\u001B[39;00m \u001B[38;5;241m=\u001B[39m random\u001B[38;5;241m.\u001B[39mrandint(\u001B[38;5;124m'\u001B[39m\u001B[38;5;124ma\u001B[39m\u001B[38;5;124m'\u001B[39m, \u001B[38;5;124m'\u001B[39m\u001B[38;5;124mz\u001B[39m\u001B[38;5;124m'\u001B[39m)\n\u001B[1;32m      5\u001B[0m \u001B[38;5;28mprint\u001B[39m(\u001B[38;5;167;01mTypeError\u001B[39;00m)\n",
        "File \u001B[0;32m/usr/lib/python3.11/random.py:362\u001B[0m, in \u001B[0;36mRandom.randint\u001B[0;34m(self, a, b)\u001B[0m\n\u001B[1;32m    358\u001B[0m \u001B[38;5;28;01mdef\u001B[39;00m \u001B[38;5;21mrandint\u001B[39m(\u001B[38;5;28mself\u001B[39m, a, b):\n\u001B[1;32m    359\u001B[0m \u001B[38;5;250m    \u001B[39m\u001B[38;5;124;03m\"\"\"Return random integer in range [a, b], including both end points.\u001B[39;00m\n\u001B[1;32m    360\u001B[0m \u001B[38;5;124;03m    \"\"\"\u001B[39;00m\n\u001B[0;32m--> 362\u001B[0m     \u001B[38;5;28;01mreturn\u001B[39;00m \u001B[38;5;28mself\u001B[39m\u001B[38;5;241m.\u001B[39mrandrange(a, b\u001B[38;5;241m+\u001B[39m\u001B[38;5;241m1\u001B[39m)\n",
        "\u001B[0;31mTypeError\u001B[0m: can only concatenate str (not \"int\") to str"
       ],
       "type": "baseError"
      }
     },
     "output_type": "display_data"
    }
   ],
   "source": [
    "'''If we pass string or character literals as\n",
    "parameters in the randint() function'''\n",
    "\n",
    "TypeError = random.randint('a', 'z')\n",
    "print(TypeError)"
   ]
  },
  {
   "cell_type": "markdown",
   "metadata": {
    "application/vnd.databricks.v1+cell": {
     "cellMetadata": {},
     "inputWidgets": {},
     "nuid": "03ebf8d5-e514-45e0-942e-6952a93a98e8",
     "showTitle": false,
     "tableResultSettingsMap": {},
     "title": ""
    }
   },
   "source": [
    "#### **When to Use Which?**\n",
    "**rand() (from PySpark or NumPy)**\n",
    "- When working with dataframes in **PySpark or NumPy**, and you need random floating-point numbers between **0.0 and 1.0**.\n",
    "- **Purpose:**\n",
    "  - Generates random **floating-point** numbers **between 0.0 and 1.0 (exclusive of 1.0)**.\n",
    "- **Return Type:**\n",
    "  - **Float** (e.g., 0.472, 0.891, etc.).\n",
    "\n",
    "        # PySpark:\n",
    "        from pyspark.sql.functions import rand\n",
    "        df_with_rand = df.withColumn(\"random_float\", rand())\n",
    "        df_with_rand.show()\n",
    "\n",
    "        # NumPy\n",
    "        import numpy as np\n",
    "        random_float = np.random.rand()\n",
    "        print(random_float)  # Example: 0.675493\n",
    "\n",
    "**random.randint() (from Python's random module)**\n",
    "- When you need **random integer** values within a **specific range**.\n",
    "- **Purpose:**\n",
    "  - Generates random integer values within a **specified range [a, b] (inclusive of both a and b)**.\n",
    "- **Return Type:**\n",
    "  - **Integer** (e.g., 1, 45, 123, etc.).\n",
    "\n",
    "        # Python\n",
    "        import random\n",
    "        random_int = random.randint(1, 100)  # Generates a random integer between 1 and 100\n",
    "        print(random_int)  # Example: 45\n"
   ]
  },
  {
   "cell_type": "markdown",
   "metadata": {
    "application/vnd.databricks.v1+cell": {
     "cellMetadata": {},
     "inputWidgets": {},
     "nuid": "562b6f89-e6e2-492f-9f57-9ff277a0cc4f",
     "showTitle": false,
     "tableResultSettingsMap": {},
     "title": ""
    }
   },
   "source": [
    "#### **1) Generate a Random Integer Between 1 and 10**"
   ]
  },
  {
   "cell_type": "code",
   "execution_count": 0,
   "metadata": {
    "application/vnd.databricks.v1+cell": {
     "cellMetadata": {
      "byteLimit": 2048000,
      "rowLimit": 10000
     },
     "inputWidgets": {},
     "nuid": "90132bde-cfa6-473b-b71e-34dea74ad460",
     "showTitle": false,
     "tableResultSettingsMap": {},
     "title": ""
    }
   },
   "outputs": [],
   "source": [
    "import random"
   ]
  },
  {
   "cell_type": "code",
   "execution_count": 0,
   "metadata": {
    "application/vnd.databricks.v1+cell": {
     "cellMetadata": {
      "byteLimit": 2048000,
      "rowLimit": 10000
     },
     "inputWidgets": {},
     "nuid": "c34c9372-1ff3-449e-8247-52c1ac34c228",
     "showTitle": false,
     "tableResultSettingsMap": {},
     "title": ""
    }
   },
   "outputs": [
    {
     "output_type": "stream",
     "name": "stdout",
     "output_type": "stream",
     "text": [
      "Random number between 1 and 10: 2\n"
     ]
    }
   ],
   "source": [
    "# Generate a random integer between 1 and 10\n",
    "random_number = random.randint(1, 10)\n",
    "print(\"Random number between 1 and 10:\", random_number)"
   ]
  },
  {
   "cell_type": "code",
   "execution_count": 0,
   "metadata": {
    "application/vnd.databricks.v1+cell": {
     "cellMetadata": {
      "byteLimit": 2048000,
      "rowLimit": 10000
     },
     "inputWidgets": {},
     "nuid": "b93bdda5-5402-4e0a-8382-1f81fb8625f5",
     "showTitle": false,
     "tableResultSettingsMap": {},
     "title": ""
    }
   },
   "outputs": [
    {
     "output_type": "stream",
     "name": "stdout",
     "output_type": "stream",
     "text": [
      "Random number between -10 and 10: 4\n"
     ]
    }
   ],
   "source": [
    "# Generate a random integer between -10 and 10\n",
    "random_number = random.randint(-10, 10)\n",
    "print(\"Random number between -10 and 10:\", random_number)"
   ]
  },
  {
   "cell_type": "markdown",
   "metadata": {
    "application/vnd.databricks.v1+cell": {
     "cellMetadata": {},
     "inputWidgets": {},
     "nuid": "4bf45dfb-33b3-4600-ba50-ac809d0a2c9f",
     "showTitle": false,
     "tableResultSettingsMap": {},
     "title": ""
    }
   },
   "source": [
    "#### **2) Random Integers in a Range with Conditions**"
   ]
  },
  {
   "cell_type": "code",
   "execution_count": 0,
   "metadata": {
    "application/vnd.databricks.v1+cell": {
     "cellMetadata": {
      "byteLimit": 2048000,
      "rowLimit": 10000
     },
     "inputWidgets": {},
     "nuid": "610b83c3-4bad-42c5-98a4-0180b8f0029a",
     "showTitle": false,
     "tableResultSettingsMap": {},
     "title": ""
    }
   },
   "outputs": [
    {
     "output_type": "stream",
     "name": "stdout",
     "output_type": "stream",
     "text": [
      "9\n"
     ]
    }
   ],
   "source": [
    "# Generate a random even number between 2 and 20\n",
    "random_even = random.randint(1, 10) * 2\n",
    "print(random_even)"
   ]
  },
  {
   "cell_type": "markdown",
   "metadata": {
    "application/vnd.databricks.v1+cell": {
     "cellMetadata": {},
     "inputWidgets": {},
     "nuid": "b085ea10-3fc7-411e-898e-3c33036ab438",
     "showTitle": false,
     "tableResultSettingsMap": {},
     "title": ""
    }
   },
   "source": [
    "#### **3) Random Integers to Shuffle a Sequence**"
   ]
  },
  {
   "cell_type": "code",
   "execution_count": 0,
   "metadata": {
    "application/vnd.databricks.v1+cell": {
     "cellMetadata": {
      "byteLimit": 2048000,
      "rowLimit": 10000
     },
     "inputWidgets": {},
     "nuid": "8e7a0e88-0d2d-4a91-bfa9-b90be364a81e",
     "showTitle": false,
     "tableResultSettingsMap": {},
     "title": ""
    }
   },
   "outputs": [
    {
     "output_type": "stream",
     "name": "stdout",
     "output_type": "stream",
     "text": [
      "[7, 8, 3, 1, 4, 6, 9, 2, 5, 10]\n"
     ]
    }
   ],
   "source": [
    "# Shuffle a list of numbers using random.randint\n",
    "numbers = list(range(1, 11))\n",
    "shuffled_numbers = sorted(numbers, key=lambda x: random.randint(1, 100))\n",
    "print(shuffled_numbers)"
   ]
  },
  {
   "cell_type": "markdown",
   "metadata": {
    "application/vnd.databricks.v1+cell": {
     "cellMetadata": {},
     "inputWidgets": {},
     "nuid": "36d7b394-b9aa-4155-be94-5703c5805628",
     "showTitle": false,
     "tableResultSettingsMap": {},
     "title": ""
    }
   },
   "source": [
    "#### **4) Random Integers for a List**"
   ]
  },
  {
   "cell_type": "code",
   "execution_count": 0,
   "metadata": {
    "application/vnd.databricks.v1+cell": {
     "cellMetadata": {
      "byteLimit": 2048000,
      "rowLimit": 10000
     },
     "inputWidgets": {},
     "nuid": "5d5d3533-944d-4dce-8575-91be9f8803e3",
     "showTitle": false,
     "tableResultSettingsMap": {},
     "title": ""
    }
   },
   "outputs": [
    {
     "output_type": "stream",
     "name": "stdout",
     "output_type": "stream",
     "text": [
      "[2, 6, 60, 59, 40, 91, 49, 87, 23, 8, 94, 90, 99, 77, 5, 52, 58, 1, 36, 10]\n"
     ]
    }
   ],
   "source": [
    "# Create a list of 10 random integers between 1 and 50\n",
    "random_numbers = [random.randint(1, 50) for i in range(10)]\n",
    "print(random_numbers)"
   ]
  },
  {
   "cell_type": "markdown",
   "metadata": {
    "application/vnd.databricks.v1+cell": {
     "cellMetadata": {},
     "inputWidgets": {},
     "nuid": "8ec9c4ec-7f0b-4d0a-be63-5cc7529cf653",
     "showTitle": false,
     "tableResultSettingsMap": {},
     "title": ""
    }
   },
   "source": [
    "#### **5) Generate Multiple Random Integers in a Loop**"
   ]
  },
  {
   "cell_type": "markdown",
   "metadata": {
    "application/vnd.databricks.v1+cell": {
     "cellMetadata": {},
     "inputWidgets": {},
     "nuid": "f7994890-1b62-4d42-8455-f45e7b17830f",
     "showTitle": false,
     "tableResultSettingsMap": {},
     "title": ""
    }
   },
   "source": [
    "     # Generate multiple Random integers\n",
    "     start = 20\n",
    "     stop = 40\n",
    "     for i in range(5):\n",
    "         print(random.randint(start, stop))\n",
    "\n",
    "                (or)\n",
    "                \n",
    "     # Generate 5 random integers between 1 and 100\n",
    "     for i in range(5):\n",
    "         random_number = random.randint(1, 100)\n",
    "         print(\"Random number between 1 and 100:\", random_number)"
   ]
  },
  {
   "cell_type": "code",
   "execution_count": 0,
   "metadata": {
    "application/vnd.databricks.v1+cell": {
     "cellMetadata": {
      "byteLimit": 2048000,
      "rowLimit": 10000
     },
     "inputWidgets": {},
     "nuid": "9178f9aa-4947-4d22-a716-1645c8d8a7fe",
     "showTitle": false,
     "tableResultSettingsMap": {},
     "title": ""
    }
   },
   "outputs": [
    {
     "output_type": "stream",
     "name": "stdout",
     "output_type": "stream",
     "text": [
      "28\n24\n36\n35\n34\n33\n27\n28\n20\n27\n"
     ]
    }
   ],
   "source": [
    " start = 20\n",
    " stop = 40\n",
    " for i in range(10):\n",
    "     print(random.randint(start, stop))"
   ]
  },
  {
   "cell_type": "code",
   "execution_count": 0,
   "metadata": {
    "application/vnd.databricks.v1+cell": {
     "cellMetadata": {
      "byteLimit": 2048000,
      "rowLimit": 10000
     },
     "inputWidgets": {},
     "nuid": "8d3e4a8c-c569-42e4-a770-ee9f4d1eaa4b",
     "showTitle": false,
     "tableResultSettingsMap": {},
     "title": ""
    }
   },
   "outputs": [
    {
     "output_type": "stream",
     "name": "stdout",
     "output_type": "stream",
     "text": [
      "Random number between 1 and 100: 86\nRandom number between 1 and 100: 35\nRandom number between 1 and 100: 51\nRandom number between 1 and 100: 100\nRandom number between 1 and 100: 65\n"
     ]
    }
   ],
   "source": [
    " # Generate 5 random integers between 1 and 100\n",
    " for i in range(5):\n",
    "     random_number = random.randint(1, 100)\n",
    "     print(\"Random number between 1 and 100:\", random_number)"
   ]
  },
  {
   "cell_type": "markdown",
   "metadata": {
    "application/vnd.databricks.v1+cell": {
     "cellMetadata": {},
     "inputWidgets": {},
     "nuid": "cbdf4a78-79f6-42ee-8012-08387f276d42",
     "showTitle": false,
     "tableResultSettingsMap": {},
     "title": ""
    }
   },
   "source": [
    "#### **6) Use random.randint() in a Function**"
   ]
  },
  {
   "cell_type": "code",
   "execution_count": 0,
   "metadata": {
    "application/vnd.databricks.v1+cell": {
     "cellMetadata": {
      "byteLimit": 2048000,
      "rowLimit": 10000
     },
     "inputWidgets": {},
     "nuid": "1a54b435-9e5c-44bc-8cc8-1e2f6c2c7212",
     "showTitle": false,
     "tableResultSettingsMap": {},
     "title": ""
    }
   },
   "outputs": [
    {
     "output_type": "stream",
     "name": "stdout",
     "output_type": "stream",
     "text": [
      "Random number between 50 and 150: 93\n"
     ]
    }
   ],
   "source": [
    "def generate_random_number(min_value, max_value):\n",
    "    return random.randint(min_value, max_value)\n",
    "\n",
    "# Call the function\n",
    "print(\"Random number between 50 and 150:\", generate_random_number(50, 150))"
   ]
  },
  {
   "cell_type": "code",
   "execution_count": 0,
   "metadata": {
    "application/vnd.databricks.v1+cell": {
     "cellMetadata": {
      "byteLimit": 2048000,
      "rowLimit": 10000
     },
     "inputWidgets": {},
     "nuid": "efe94cc3-8bb0-4a4c-9236-5fa2ad5b3561",
     "showTitle": false,
     "tableResultSettingsMap": {},
     "title": ""
    }
   },
   "outputs": [
    {
     "output_type": "stream",
     "name": "stdout",
     "output_type": "stream",
     "text": [
      "Random number between 10 and 50: 11\nRandom number between 10 and 50: 17\nRandom number between 10 and 50: 21\nRandom number between 10 and 50: 28\nRandom number between 10 and 50: 18\n"
     ]
    }
   ],
   "source": [
    "def generate_random_numbers(min_value, max_value):\n",
    "    # Generate 5 random integers between min_value and max_value\n",
    "    for i in range(5):\n",
    "        random_number = random.randint(min_value, max_value)\n",
    "        print(f\"Random number between {min_value} and {max_value}: {random_number}\")\n",
    "\n",
    "generate_random_numbers(10, 50)"
   ]
  },
  {
   "cell_type": "markdown",
   "metadata": {
    "application/vnd.databricks.v1+cell": {
     "cellMetadata": {},
     "inputWidgets": {},
     "nuid": "d429df8f-0fe0-4db5-90b7-f4f1f7191c0d",
     "showTitle": false,
     "tableResultSettingsMap": {},
     "title": ""
    }
   },
   "source": [
    "#### **7) Generate a Random Integer and Use It in a List Index**"
   ]
  },
  {
   "cell_type": "code",
   "execution_count": 0,
   "metadata": {
    "application/vnd.databricks.v1+cell": {
     "cellMetadata": {
      "byteLimit": 2048000,
      "rowLimit": 10000
     },
     "inputWidgets": {},
     "nuid": "f7ff52a0-cffd-4423-aad8-def6a8e4e35d",
     "showTitle": false,
     "tableResultSettingsMap": {},
     "title": ""
    }
   },
   "outputs": [
    {
     "output_type": "stream",
     "name": "stdout",
     "output_type": "stream",
     "text": [
      "Random fruit: elderberry\n"
     ]
    }
   ],
   "source": [
    "# Sample list\n",
    "sample_list = ['apple', 'banana', 'cherry', 'date', 'elderberry']\n",
    "\n",
    "# Generate a random index to select an item from the list\n",
    "random_index = random.randint(0, len(sample_list) - 1)\n",
    "print(\"Random fruit:\", sample_list[random_index])"
   ]
  },
  {
   "cell_type": "markdown",
   "metadata": {
    "application/vnd.databricks.v1+cell": {
     "cellMetadata": {},
     "inputWidgets": {},
     "nuid": "ec00ab79-2302-4995-b028-be225c442b89",
     "showTitle": false,
     "tableResultSettingsMap": {},
     "title": ""
    }
   },
   "source": [
    "#### **8) How to get random integer using particular columns min & max value?**"
   ]
  },
  {
   "cell_type": "code",
   "execution_count": 0,
   "metadata": {
    "application/vnd.databricks.v1+cell": {
     "cellMetadata": {
      "byteLimit": 2048000,
      "rowLimit": 10000
     },
     "inputWidgets": {},
     "nuid": "d7f57329-8713-4271-857c-7b915e5035fc",
     "showTitle": false,
     "tableResultSettingsMap": {},
     "title": ""
    }
   },
   "outputs": [
    {
     "output_type": "display_data",
     "data": {
      "text/html": [
       "<style scoped>\n",
       "  .table-result-container {\n",
       "    max-height: 300px;\n",
       "    overflow: auto;\n",
       "  }\n",
       "  table, th, td {\n",
       "    border: 1px solid black;\n",
       "    border-collapse: collapse;\n",
       "  }\n",
       "  th, td {\n",
       "    padding: 5px;\n",
       "  }\n",
       "  th {\n",
       "    text-align: left;\n",
       "  }\n",
       "</style><div class='table-result-container'><table class='table-result'><thead style='background-color: white'><tr><th>Company_Name</th><th>Product_Id</th><th>Product_Version_Id</th><th>Cust_Name</th><th>Category</th><th>Start_Date</th><th>Start_Cust_Date</th><th>End_Date</th><th>Updated_Date</th><th>Cust_Value</th><th>Cust_Type</th><th>Exchange</th><th>Location</th><th>Last_Date_UTC</th><th>Cust_Category</th><th>Index</th><th>impact1</th><th>impact2</th><th>impact3</th><th>Base_Start_Date</th><th>Base_End_Date</th><th>Base_Expiration_Date</th><th>Base_Last_Sales_Date</th></tr></thead><tbody><tr><td>Sony</td><td>1</td><td>650</td><td>Naresh</td><td>Standard</td><td>3-Feb-23</td><td>1.73E12</td><td>1.73E12</td><td>1.73E12</td><td>30</td><td>STD</td><td>EUR</td><td>IND</td><td>1.72E12</td><td>SETTL</td><td>true</td><td>0</td><td>1</td><td>null</td><td>1/5/2024</td><td>2024-05-31</td><td>2024-04-29</td><td>2024-04-29</td></tr><tr><td>Sony</td><td>2</td><td>651</td><td>kamal</td><td>Standard</td><td>6-Feb-23</td><td>1.73E12</td><td>1.73E12</td><td>1.73E12</td><td>25</td><td>STD</td><td>EUR</td><td>IND</td><td>1.72E12</td><td>TOI</td><td>false</td><td>0</td><td>1</td><td>null</td><td>1/5/2024</td><td>2024-05-31</td><td>2024-04-29</td><td>2024-04-29</td></tr><tr><td>Sony</td><td>3</td><td>652</td><td>kajal</td><td>Standard</td><td>9-Feb-23</td><td>1.73E12</td><td>1.73E12</td><td>1.73E12</td><td>28</td><td>STD</td><td>EUR</td><td>IND</td><td>1.72E12</td><td>TOI</td><td>false</td><td>0</td><td>1</td><td>null</td><td>1/9/2024</td><td>2024-10-31</td><td>2024-09-27</td><td>2024-09-27</td></tr><tr><td>Sony</td><td>4</td><td>653</td><td>kiran</td><td>Standard</td><td>3-Jan-24</td><td>1.73E12</td><td>1.73E12</td><td>1.73E12</td><td>31</td><td>STD</td><td>EUR</td><td>IND</td><td>1.72E12</td><td>TOI</td><td>false</td><td>0</td><td>1</td><td>null</td><td>1/8/2024</td><td>2024-10-31</td><td>2024-09-27</td><td>2024-09-27</td></tr><tr><td>Sony</td><td>5</td><td>654</td><td>sam</td><td>Standard</td><td>8-Jan-24</td><td>1.73E12</td><td>1.73E12</td><td>1.73E12</td><td>34</td><td>STD</td><td>EUR</td><td>IND</td><td>1.72E12</td><td>TOI</td><td>false</td><td>0</td><td>1</td><td>null</td><td>1/3/2024</td><td>2024-03-31</td><td>2024-03-28</td><td>2024-03-28</td></tr><tr><td>Sony</td><td>6</td><td>655</td><td>sourab</td><td>Standard</td><td>9-Jan-24</td><td>1.73E12</td><td>1.74E12</td><td>1.73E12</td><td>37</td><td>STD</td><td>EUR</td><td>IND</td><td>1.72E12</td><td>TOI</td><td>true</td><td>0</td><td>1</td><td>null</td><td>1/3/2024</td><td>2024-03-31</td><td>2024-03-28</td><td>2024-03-28</td></tr><tr><td>Sony</td><td>7</td><td>656</td><td>jai</td><td>Upper</td><td>3-Mar-23</td><td>1.73E12</td><td>1.74E12</td><td>1.73E12</td><td>40</td><td>STD</td><td>EUR</td><td>IND</td><td>1.72E12</td><td>TOI</td><td>true</td><td>0</td><td>1</td><td>null</td><td>1/4/2024</td><td>2024-04-30</td><td>2024-04-29</td><td>2024-04-29</td></tr><tr><td>BPL</td><td>8</td><td>657</td><td>sree</td><td>Upper</td><td>6-Mar-23</td><td>1.73E12</td><td>1.73E12</td><td>1.73E12</td><td>43</td><td>STD</td><td>EUR</td><td>IND</td><td>1.72E12</td><td>SETTL</td><td>true</td><td>0</td><td>1</td><td>null</td><td>1/4/2024</td><td>2024-04-30</td><td>2024-04-29</td><td>2024-04-29</td></tr><tr><td>BPL</td><td>9</td><td>658</td><td>sreenath</td><td>Upper</td><td>9-Mar-23</td><td>1.73E12</td><td>1.74E12</td><td>1.73E12</td><td>46</td><td>STD</td><td>EUR</td><td>IND</td><td>1.72E12</td><td>SETTL</td><td>true</td><td>0</td><td>1</td><td>null</td><td>1/5/2024</td><td>2024-05-31</td><td>2024-05-30</td><td>2024-05-30</td></tr><tr><td>BPL</td><td>10</td><td>659</td><td>kamaesh</td><td>Upper</td><td>3-Jan-25</td><td>1.74E12</td><td>1.74E12</td><td>1.73E12</td><td>49</td><td>STD</td><td>EUR</td><td>IND</td><td>1.72E12</td><td>SETTL</td><td>false</td><td>0</td><td>1</td><td>null</td><td>1/5/2024</td><td>2024-05-31</td><td>2024-05-30</td><td>2024-05-30</td></tr><tr><td>BPL</td><td>11</td><td>660</td><td>david</td><td>Upper</td><td>6-Jan-25</td><td>1.74E12</td><td>1.74E12</td><td>1.73E12</td><td>52</td><td>STD</td><td>EUR</td><td>IND</td><td>1.72E12</td><td>SETTL</td><td>false</td><td>0</td><td>1</td><td>null</td><td>1/4/2024</td><td>2024-06-30</td><td>2024-03-26</td><td>2024-03-26</td></tr><tr><td>BPL</td><td>12</td><td>661</td><td>joes</td><td>Upper</td><td>9-Jan-25</td><td>1.74E12</td><td>1.74E12</td><td>1.73E12</td><td>55</td><td>STD</td><td>EUR</td><td>IND</td><td>1.72E12</td><td>SETTL</td><td>false</td><td>0</td><td>1</td><td>null</td><td>1/4/2024</td><td>2024-06-30</td><td>2024-03-26</td><td>2024-03-26</td></tr><tr><td>BPL</td><td>13</td><td>662</td><td>paul</td><td>Upper</td><td>3-Apr-23</td><td>1.74E12</td><td>1.74E12</td><td>1.73E12</td><td>58</td><td>STD</td><td>EUR</td><td>IND</td><td>1.72E12</td><td>SETTL</td><td>false</td><td>0</td><td>1</td><td>null</td><td>1/1/2025</td><td>2025-12-31</td><td>2024-12-27</td><td>2024-12-27</td></tr><tr><td>BPL</td><td>14</td><td>663</td><td>sweta</td><td>Upper</td><td>6-Apr-23</td><td>1.74E12</td><td>1.74E12</td><td>1.73E12</td><td>61</td><td>STD</td><td>EUR</td><td>USA</td><td>1.72E12</td><td>SETTL</td><td>false</td><td>0</td><td>1</td><td>null</td><td>1/1/2025</td><td>2025-12-31</td><td>2024-12-27</td><td>2024-12-27</td></tr><tr><td>Philips</td><td>15</td><td>664</td><td>narendra</td><td>Medium</td><td>1-Apr-23</td><td>1.74E12</td><td>1.74E12</td><td>1.73E12</td><td>64</td><td>STD</td><td>EUR</td><td>USA</td><td>1.72E12</td><td>TOI</td><td>false</td><td>0</td><td>1</td><td>null</td><td>1/4/2024</td><td>2024-04-30</td><td>2024-03-27</td><td>2024-03-27</td></tr><tr><td>Philips</td><td>16</td><td>665</td><td>ramesh</td><td>Medium</td><td>3-Feb-23</td><td>1.74E12</td><td>1.74E12</td><td>1.73E12</td><td>67</td><td>STD</td><td>EUR</td><td>USA</td><td>1.72E12</td><td>TOI</td><td>false</td><td>0</td><td>1</td><td>null</td><td>1/4/2024</td><td>2024-04-30</td><td>2024-03-27</td><td>2024-03-27</td></tr><tr><td>Philips</td><td>17</td><td>666</td><td>rakesh</td><td>Medium</td><td>6-Feb-23</td><td>1.74E12</td><td>1.74E12</td><td>1.73E12</td><td>70</td><td>STD</td><td>EUR</td><td>USA</td><td>1.72E12</td><td>TOI</td><td>true</td><td>0</td><td>1</td><td>null</td><td>1/4/2024</td><td>2024-04-30</td><td>2024-03-27</td><td>2024-03-27</td></tr><tr><td>Philips</td><td>18</td><td>667</td><td>rajesh</td><td>Medium</td><td>9-Feb-23</td><td>1.74E12</td><td>1.75E12</td><td>1.73E12</td><td>73</td><td>STD</td><td>EUR</td><td>USA</td><td>1.72E12</td><td>TOI</td><td>true</td><td>0</td><td>1</td><td>null</td><td>1/4/2024</td><td>2024-04-30</td><td>2024-03-27</td><td>2024-03-27</td></tr><tr><td>Philips</td><td>19</td><td>668</td><td>mukesh</td><td>Medium</td><td>3-Jan-24</td><td>1.74E12</td><td>1.75E12</td><td>1.73E12</td><td>76</td><td>STD</td><td>EUR</td><td>USA</td><td>1.72E12</td><td>TOI</td><td>true</td><td>0</td><td>1</td><td>null</td><td>1/8/2024</td><td>2024-08-31</td><td>2024-07-30</td><td>2024-07-30</td></tr><tr><td>Philips</td><td>20</td><td>669</td><td>venkatesh</td><td>Medium</td><td>8-Jan-24</td><td>1.74E12</td><td>1.74E12</td><td>1.73E12</td><td>79</td><td>STD</td><td>EUR</td><td>USA</td><td>1.72E12</td><td>TOI</td><td>true</td><td>0</td><td>1</td><td>null</td><td>1/8/2024</td><td>2024-08-31</td><td>2024-07-30</td><td>2024-07-30</td></tr><tr><td>Philips</td><td>21</td><td>670</td><td>Naresh</td><td>Medium</td><td>9-Jan-24</td><td>1.74E12</td><td>1.75E12</td><td>1.73E12</td><td>82</td><td>STD</td><td>EUR</td><td>USA</td><td>1.72E12</td><td>TOI</td><td>true</td><td>0</td><td>1</td><td>null</td><td>1/4/2024</td><td>2024-06-30</td><td>2024-03-26</td><td>2024-03-26</td></tr><tr><td>Philips</td><td>22</td><td>671</td><td>kamal</td><td>Medium</td><td>3-Mar-23</td><td>1.75E12</td><td>1.75E12</td><td>1.73E12</td><td>85</td><td>STD</td><td>EUR</td><td>USA</td><td>1.72E12</td><td>TOI</td><td>false</td><td>0</td><td>1</td><td>null</td><td>1/4/2024</td><td>2024-06-30</td><td>2024-03-26</td><td>2024-03-26</td></tr><tr><td>Philips</td><td>23</td><td>672</td><td>kajal</td><td>Medium</td><td>6-Mar-23</td><td>1.75E12</td><td>1.75E12</td><td>1.73E12</td><td>88</td><td>STD</td><td>EUR</td><td>USA</td><td>1.72E12</td><td>TOI</td><td>false</td><td>0</td><td>1</td><td>null</td><td>1/7/2024</td><td>2024-12-31</td><td>2024-09-26</td><td>2024-09-26</td></tr><tr><td>Philips</td><td>24</td><td>673</td><td>joes</td><td>Medium</td><td>9-Mar-23</td><td>1.75E12</td><td>1.75E12</td><td>1.73E12</td><td>91</td><td>STD</td><td>EUR</td><td>USA</td><td>1.72E12</td><td>RTO</td><td>false</td><td>0</td><td>1</td><td>null</td><td>1/8/2024</td><td>2024-12-31</td><td>2024-09-26</td><td>2024-09-26</td></tr><tr><td>Philips</td><td>25</td><td>674</td><td>paul</td><td>Medium</td><td>3-Jan-25</td><td>1.75E12</td><td>1.75E12</td><td>1.73E12</td><td>94</td><td>STD</td><td>EUR</td><td>USA</td><td>1.72E12</td><td>RTO</td><td>false</td><td>0</td><td>1</td><td>null</td><td>1/9/2024</td><td>2025-03-31</td><td>2024-09-26</td><td>2024-09-26</td></tr><tr><td>Philips</td><td>26</td><td>675</td><td>sweta</td><td>Medium</td><td>6-Jan-25</td><td>1.75E12</td><td>1.75E12</td><td>1.73E12</td><td>97</td><td>STD</td><td>EUR</td><td>USA</td><td>1.72E12</td><td>RTO</td><td>false</td><td>0</td><td>1</td><td>null</td><td>1/5/2024</td><td>2025-03-31</td><td>2024-09-26</td><td>2024-09-26</td></tr><tr><td>Philips</td><td>27</td><td>676</td><td>narendra</td><td>Medium</td><td>9-Jan-25</td><td>1.75E12</td><td>1.75E12</td><td>1.73E12</td><td>100</td><td>STD</td><td>EUR</td><td>USA</td><td>1.72E12</td><td>RTO</td><td>true</td><td>0</td><td>1</td><td>null</td><td>1/1/2025</td><td>2025-12-31</td><td>2024-12-27</td><td>2024-12-27</td></tr><tr><td>Philips</td><td>28</td><td>677</td><td>ramesh</td><td>Medium</td><td>3-Apr-23</td><td>1.75E12</td><td>1.75E12</td><td>1.73E12</td><td>103</td><td>STD</td><td>EUR</td><td>USA</td><td>1.72E12</td><td>RTO</td><td>true</td><td>0</td><td>1</td><td>null</td><td>1/1/2025</td><td>2025-12-31</td><td>2024-12-27</td><td>2024-12-27</td></tr><tr><td>Philips</td><td>29</td><td>678</td><td>rashi</td><td>Medium</td><td>6-Apr-23</td><td>1.75E12</td><td>1.75E12</td><td>1.73E12</td><td>106</td><td>STD</td><td>EUR</td><td>UK</td><td>1.72E12</td><td>EDA</td><td>true</td><td>0</td><td>1</td><td>null</td><td>1/3/2024</td><td>2024-03-31</td><td>2024-03-28</td><td>2024-03-28</td></tr><tr><td>BP</td><td>30</td><td>679</td><td>rishab</td><td>Premium</td><td>8-Apr-23</td><td>1.75E12</td><td>1.76E12</td><td>1.73E12</td><td>109</td><td>STD</td><td>EUR</td><td>UK</td><td>1.72E12</td><td>EDA</td><td>true</td><td>0</td><td>1</td><td>null</td><td>1/3/2024</td><td>2024-03-31</td><td>2024-03-28</td><td>2024-03-28</td></tr><tr><td>BP</td><td>31</td><td>680</td><td>basha</td><td>Premium</td><td>3-Feb-23</td><td>1.75E12</td><td>1.76E12</td><td>1.73E12</td><td>112</td><td>STD</td><td>EUR</td><td>UK</td><td>1.72E12</td><td>TOI</td><td>true</td><td>0</td><td>1</td><td>null</td><td>1/4/2024</td><td>2024-06-30</td><td>2024-03-26</td><td>2024-03-26</td></tr><tr><td>BP</td><td>32</td><td>681</td><td>kumaran</td><td>Premium</td><td>6-Feb-23</td><td>1.75E12</td><td>1.75E12</td><td>1.73E12</td><td>115</td><td>STD</td><td>EUR</td><td>UK</td><td>1.72E12</td><td>TOI</td><td>true</td><td>0</td><td>1</td><td>null</td><td>1/4/2024</td><td>2024-06-30</td><td>2024-03-26</td><td>2024-03-26</td></tr><tr><td>BP</td><td>33</td><td>682</td><td>karthik</td><td>Premium</td><td>9-Feb-23</td><td>1.75E12</td><td>1.76E12</td><td>1.73E12</td><td>118</td><td>STD</td><td>EUR</td><td>UK</td><td>1.72E12</td><td>TOI</td><td>true</td><td>0</td><td>1</td><td>null</td><td>1/1/2025</td><td>2025-12-31</td><td>2024-12-27</td><td>2024-12-27</td></tr><tr><td>BP</td><td>34</td><td>683</td><td>parvesh</td><td>Premium</td><td>3-Jan-24</td><td>1.76E12</td><td>1.76E12</td><td>1.73E12</td><td>121</td><td>STD</td><td>EUR</td><td>UK</td><td>1.72E12</td><td>TOI</td><td>false</td><td>0</td><td>1</td><td>null</td><td>1/1/2025</td><td>2025-12-31</td><td>2024-12-27</td><td>2024-12-27</td></tr><tr><td>BP</td><td>35</td><td>684</td><td>danush</td><td>Premium</td><td>8-Jan-24</td><td>1.76E12</td><td>1.76E12</td><td>1.73E12</td><td>124</td><td>STD</td><td>EUR</td><td>UK</td><td>1.72E12</td><td>TOI</td><td>false</td><td>0</td><td>1</td><td>null</td><td>1/3/2024</td><td>2024-03-31</td><td>2024-03-28</td><td>2024-03-28</td></tr><tr><td>BP</td><td>36</td><td>685</td><td>vidish</td><td>Premium</td><td>9-Jan-24</td><td>1.76E12</td><td>1.76E12</td><td>1.73E12</td><td>127</td><td>STD</td><td>EUR</td><td>UK</td><td>1.72E12</td><td>EDA</td><td>false</td><td>0</td><td>1</td><td>null</td><td>1/3/2024</td><td>2024-03-31</td><td>2024-03-28</td><td>2024-03-28</td></tr><tr><td>BP</td><td>37</td><td>686</td><td>sam</td><td>Premium</td><td>3-Mar-23</td><td>1.76E12</td><td>1.76E12</td><td>1.73E12</td><td>130</td><td>STD</td><td>EUR</td><td>UK</td><td>1.72E12</td><td>EDA</td><td>false</td><td>0</td><td>1</td><td>null</td><td>1/4/2024</td><td>2024-06-30</td><td>2024-03-26</td><td>2024-03-26</td></tr><tr><td>BP</td><td>38</td><td>687</td><td>sourab</td><td>Premium</td><td>6-Mar-23</td><td>1.76E12</td><td>1.76E12</td><td>1.73E12</td><td>133</td><td>STD</td><td>EUR</td><td>UK</td><td>1.72E12</td><td>EDA</td><td>false</td><td>0</td><td>1</td><td>null</td><td>1/4/2024</td><td>2024-06-30</td><td>2024-03-26</td><td>2024-03-26</td></tr><tr><td>BP</td><td>39</td><td>688</td><td>jai</td><td>Premium</td><td>9-Mar-23</td><td>1.76E12</td><td>1.76E12</td><td>1.73E12</td><td>136</td><td>STD</td><td>EUR</td><td>UK</td><td>1.72E12</td><td>EDA</td><td>true</td><td>0</td><td>1</td><td>null</td><td>1/1/2025</td><td>2025-12-31</td><td>2024-12-27</td><td>2024-12-27</td></tr><tr><td>Reliance</td><td>40</td><td>689</td><td>sree</td><td>Lower</td><td>3-Jan-25</td><td>1.76E12</td><td>1.76E12</td><td>1.73E12</td><td>139</td><td>STD</td><td>EUR</td><td>UK</td><td>1.72E12</td><td>TOI</td><td>true</td><td>0</td><td>1</td><td>null</td><td>1/1/2025</td><td>2025-12-31</td><td>2024-12-27</td><td>2024-12-27</td></tr><tr><td>Reliance</td><td>41</td><td>690</td><td>sreenath</td><td>Lower</td><td>6-Jan-25</td><td>1.76E12</td><td>1.76E12</td><td>1.73E12</td><td>142</td><td>STD</td><td>EUR</td><td>UK</td><td>1.72E12</td><td>TOI</td><td>true</td><td>0</td><td>1</td><td>null</td><td>1/6/2024</td><td>2024-06-30</td><td>2024-06-28</td><td>2024-06-28</td></tr><tr><td>Reliance</td><td>42</td><td>691</td><td>Naresh</td><td>Lower</td><td>9-Jan-25</td><td>1.76E12</td><td>1.77E12</td><td>1.73E12</td><td>145</td><td>STD</td><td>EUR</td><td>UK</td><td>1.72E12</td><td>TOI</td><td>true</td><td>0</td><td>1</td><td>null</td><td>1/6/2024</td><td>2024-06-30</td><td>2024-06-28</td><td>2024-06-28</td></tr><tr><td>Reliance</td><td>43</td><td>692</td><td>kamal</td><td>Lower</td><td>3-Apr-23</td><td>1.76E12</td><td>1.77E12</td><td>1.73E12</td><td>148</td><td>STD</td><td>EUR</td><td>UK</td><td>1.72E12</td><td>SETTL</td><td>true</td><td>0</td><td>1</td><td>null</td><td>1/7/2024</td><td>2024-07-31</td><td>2024-07-30</td><td>2024-07-30</td></tr><tr><td>Reliance</td><td>44</td><td>693</td><td>kajal</td><td>Lower</td><td>6-Apr-23</td><td>1.76E12</td><td>1.76E12</td><td>1.73E12</td><td>151</td><td>STD</td><td>EUR</td><td>UK</td><td>1.72E12</td><td>SETTL</td><td>true</td><td>0</td><td>1</td><td>null</td><td>1/7/2024</td><td>2024-07-31</td><td>2024-07-30</td><td>2024-07-30</td></tr><tr><td>Reliance</td><td>45</td><td>694</td><td>paul</td><td>Lower</td><td>7-Apr-23</td><td>1.76E12</td><td>1.77E12</td><td>1.73E12</td><td>154</td><td>STD</td><td>EUR</td><td>SL</td><td>1.72E12</td><td>SETTL</td><td>true</td><td>0</td><td>1</td><td>null</td><td>1/3/2024</td><td>2024-03-31</td><td>2024-02-28</td><td>2024-02-28</td></tr><tr><td>Reliance</td><td>46</td><td>695</td><td>sweta</td><td>Lower</td><td>3-Feb-23</td><td>1.71E12</td><td>1.72E12</td><td>1.73E12</td><td>157</td><td>STD</td><td>EUR</td><td>SL</td><td>1.72E12</td><td>SETTL</td><td>true</td><td>0</td><td>1</td><td>null</td><td>1/3/2024</td><td>2024-03-31</td><td>2024-02-28</td><td>2024-02-28</td></tr><tr><td>Reliance</td><td>47</td><td>696</td><td>narendra</td><td>Lower</td><td>6-Feb-23</td><td>1.71E12</td><td>1.72E12</td><td>1.73E12</td><td>160</td><td>STD</td><td>EUR</td><td>SL</td><td>1.72E12</td><td>SETTL</td><td>false</td><td>0</td><td>1</td><td>null</td><td>1/3/2025</td><td>2025-03-31</td><td>2024-03-26</td><td>2024-03-31</td></tr><tr><td>Reliance</td><td>48</td><td>697</td><td>ramesh</td><td>Lower</td><td>9-Feb-23</td><td>1.71E12</td><td>1.72E12</td><td>1.73E12</td><td>163</td><td>STD</td><td>EUR</td><td>SL</td><td>1.72E12</td><td>SETTL</td><td>false</td><td>0</td><td>1</td><td>null</td><td>1/3/2025</td><td>2025-03-31</td><td>2024-04-01</td><td>2025-12-31</td></tr><tr><td>Reliance</td><td>49</td><td>698</td><td>kalmesh</td><td>Lower</td><td>3-Jan-24</td><td>1.72E12</td><td>1.73E12</td><td>1.73E12</td><td>166</td><td>STD</td><td>EUR</td><td>SL</td><td>1.72E12</td><td>SETTL</td><td>false</td><td>0</td><td>1</td><td>null</td><td>1/3/2024</td><td>2024-10-31</td><td>2024-07-30</td><td>2024-03-26</td></tr><tr><td>Reliance</td><td>50</td><td>699</td><td>kalmesh</td><td>Lower</td><td>3-Jan-24</td><td>1.72E12</td><td>1.73E12</td><td>1.73E12</td><td>166</td><td>STD</td><td>EUR</td><td>SL</td><td>1.72E12</td><td>SETTL</td><td>false</td><td>0</td><td>1</td><td>null</td><td>1/7/2024</td><td>2024-10-31</td><td>2024-03-31</td><td>2024-07-30</td></tr></tbody></table></div>"
      ]
     },
     "metadata": {
      "application/vnd.databricks.v1+output": {
       "addedWidgets": {},
       "aggData": [],
       "aggError": "",
       "aggOverflow": false,
       "aggSchema": [],
       "aggSeriesLimitReached": false,
       "aggType": "",
       "arguments": {},
       "columnCustomDisplayInfos": {},
       "data": [
        [
         "Sony",
         1,
         650,
         "Naresh",
         "Standard",
         "3-Feb-23",
         1.73E12,
         1.73E12,
         1.73E12,
         30,
         "STD",
         "EUR",
         "IND",
         1.72E12,
         "SETTL",
         true,
         0,
         1,
         null,
         "1/5/2024",
         "2024-05-31",
         "2024-04-29",
         "2024-04-29"
        ],
        [
         "Sony",
         2,
         651,
         "kamal",
         "Standard",
         "6-Feb-23",
         1.73E12,
         1.73E12,
         1.73E12,
         25,
         "STD",
         "EUR",
         "IND",
         1.72E12,
         "TOI",
         false,
         0,
         1,
         null,
         "1/5/2024",
         "2024-05-31",
         "2024-04-29",
         "2024-04-29"
        ],
        [
         "Sony",
         3,
         652,
         "kajal",
         "Standard",
         "9-Feb-23",
         1.73E12,
         1.73E12,
         1.73E12,
         28,
         "STD",
         "EUR",
         "IND",
         1.72E12,
         "TOI",
         false,
         0,
         1,
         null,
         "1/9/2024",
         "2024-10-31",
         "2024-09-27",
         "2024-09-27"
        ],
        [
         "Sony",
         4,
         653,
         "kiran",
         "Standard",
         "3-Jan-24",
         1.73E12,
         1.73E12,
         1.73E12,
         31,
         "STD",
         "EUR",
         "IND",
         1.72E12,
         "TOI",
         false,
         0,
         1,
         null,
         "1/8/2024",
         "2024-10-31",
         "2024-09-27",
         "2024-09-27"
        ],
        [
         "Sony",
         5,
         654,
         "sam",
         "Standard",
         "8-Jan-24",
         1.73E12,
         1.73E12,
         1.73E12,
         34,
         "STD",
         "EUR",
         "IND",
         1.72E12,
         "TOI",
         false,
         0,
         1,
         null,
         "1/3/2024",
         "2024-03-31",
         "2024-03-28",
         "2024-03-28"
        ],
        [
         "Sony",
         6,
         655,
         "sourab",
         "Standard",
         "9-Jan-24",
         1.73E12,
         1.74E12,
         1.73E12,
         37,
         "STD",
         "EUR",
         "IND",
         1.72E12,
         "TOI",
         true,
         0,
         1,
         null,
         "1/3/2024",
         "2024-03-31",
         "2024-03-28",
         "2024-03-28"
        ],
        [
         "Sony",
         7,
         656,
         "jai",
         "Upper",
         "3-Mar-23",
         1.73E12,
         1.74E12,
         1.73E12,
         40,
         "STD",
         "EUR",
         "IND",
         1.72E12,
         "TOI",
         true,
         0,
         1,
         null,
         "1/4/2024",
         "2024-04-30",
         "2024-04-29",
         "2024-04-29"
        ],
        [
         "BPL",
         8,
         657,
         "sree",
         "Upper",
         "6-Mar-23",
         1.73E12,
         1.73E12,
         1.73E12,
         43,
         "STD",
         "EUR",
         "IND",
         1.72E12,
         "SETTL",
         true,
         0,
         1,
         null,
         "1/4/2024",
         "2024-04-30",
         "2024-04-29",
         "2024-04-29"
        ],
        [
         "BPL",
         9,
         658,
         "sreenath",
         "Upper",
         "9-Mar-23",
         1.73E12,
         1.74E12,
         1.73E12,
         46,
         "STD",
         "EUR",
         "IND",
         1.72E12,
         "SETTL",
         true,
         0,
         1,
         null,
         "1/5/2024",
         "2024-05-31",
         "2024-05-30",
         "2024-05-30"
        ],
        [
         "BPL",
         10,
         659,
         "kamaesh",
         "Upper",
         "3-Jan-25",
         1.74E12,
         1.74E12,
         1.73E12,
         49,
         "STD",
         "EUR",
         "IND",
         1.72E12,
         "SETTL",
         false,
         0,
         1,
         null,
         "1/5/2024",
         "2024-05-31",
         "2024-05-30",
         "2024-05-30"
        ],
        [
         "BPL",
         11,
         660,
         "david",
         "Upper",
         "6-Jan-25",
         1.74E12,
         1.74E12,
         1.73E12,
         52,
         "STD",
         "EUR",
         "IND",
         1.72E12,
         "SETTL",
         false,
         0,
         1,
         null,
         "1/4/2024",
         "2024-06-30",
         "2024-03-26",
         "2024-03-26"
        ],
        [
         "BPL",
         12,
         661,
         "joes",
         "Upper",
         "9-Jan-25",
         1.74E12,
         1.74E12,
         1.73E12,
         55,
         "STD",
         "EUR",
         "IND",
         1.72E12,
         "SETTL",
         false,
         0,
         1,
         null,
         "1/4/2024",
         "2024-06-30",
         "2024-03-26",
         "2024-03-26"
        ],
        [
         "BPL",
         13,
         662,
         "paul",
         "Upper",
         "3-Apr-23",
         1.74E12,
         1.74E12,
         1.73E12,
         58,
         "STD",
         "EUR",
         "IND",
         1.72E12,
         "SETTL",
         false,
         0,
         1,
         null,
         "1/1/2025",
         "2025-12-31",
         "2024-12-27",
         "2024-12-27"
        ],
        [
         "BPL",
         14,
         663,
         "sweta",
         "Upper",
         "6-Apr-23",
         1.74E12,
         1.74E12,
         1.73E12,
         61,
         "STD",
         "EUR",
         "USA",
         1.72E12,
         "SETTL",
         false,
         0,
         1,
         null,
         "1/1/2025",
         "2025-12-31",
         "2024-12-27",
         "2024-12-27"
        ],
        [
         "Philips",
         15,
         664,
         "narendra",
         "Medium",
         "1-Apr-23",
         1.74E12,
         1.74E12,
         1.73E12,
         64,
         "STD",
         "EUR",
         "USA",
         1.72E12,
         "TOI",
         false,
         0,
         1,
         null,
         "1/4/2024",
         "2024-04-30",
         "2024-03-27",
         "2024-03-27"
        ],
        [
         "Philips",
         16,
         665,
         "ramesh",
         "Medium",
         "3-Feb-23",
         1.74E12,
         1.74E12,
         1.73E12,
         67,
         "STD",
         "EUR",
         "USA",
         1.72E12,
         "TOI",
         false,
         0,
         1,
         null,
         "1/4/2024",
         "2024-04-30",
         "2024-03-27",
         "2024-03-27"
        ],
        [
         "Philips",
         17,
         666,
         "rakesh",
         "Medium",
         "6-Feb-23",
         1.74E12,
         1.74E12,
         1.73E12,
         70,
         "STD",
         "EUR",
         "USA",
         1.72E12,
         "TOI",
         true,
         0,
         1,
         null,
         "1/4/2024",
         "2024-04-30",
         "2024-03-27",
         "2024-03-27"
        ],
        [
         "Philips",
         18,
         667,
         "rajesh",
         "Medium",
         "9-Feb-23",
         1.74E12,
         1.75E12,
         1.73E12,
         73,
         "STD",
         "EUR",
         "USA",
         1.72E12,
         "TOI",
         true,
         0,
         1,
         null,
         "1/4/2024",
         "2024-04-30",
         "2024-03-27",
         "2024-03-27"
        ],
        [
         "Philips",
         19,
         668,
         "mukesh",
         "Medium",
         "3-Jan-24",
         1.74E12,
         1.75E12,
         1.73E12,
         76,
         "STD",
         "EUR",
         "USA",
         1.72E12,
         "TOI",
         true,
         0,
         1,
         null,
         "1/8/2024",
         "2024-08-31",
         "2024-07-30",
         "2024-07-30"
        ],
        [
         "Philips",
         20,
         669,
         "venkatesh",
         "Medium",
         "8-Jan-24",
         1.74E12,
         1.74E12,
         1.73E12,
         79,
         "STD",
         "EUR",
         "USA",
         1.72E12,
         "TOI",
         true,
         0,
         1,
         null,
         "1/8/2024",
         "2024-08-31",
         "2024-07-30",
         "2024-07-30"
        ],
        [
         "Philips",
         21,
         670,
         "Naresh",
         "Medium",
         "9-Jan-24",
         1.74E12,
         1.75E12,
         1.73E12,
         82,
         "STD",
         "EUR",
         "USA",
         1.72E12,
         "TOI",
         true,
         0,
         1,
         null,
         "1/4/2024",
         "2024-06-30",
         "2024-03-26",
         "2024-03-26"
        ],
        [
         "Philips",
         22,
         671,
         "kamal",
         "Medium",
         "3-Mar-23",
         1.75E12,
         1.75E12,
         1.73E12,
         85,
         "STD",
         "EUR",
         "USA",
         1.72E12,
         "TOI",
         false,
         0,
         1,
         null,
         "1/4/2024",
         "2024-06-30",
         "2024-03-26",
         "2024-03-26"
        ],
        [
         "Philips",
         23,
         672,
         "kajal",
         "Medium",
         "6-Mar-23",
         1.75E12,
         1.75E12,
         1.73E12,
         88,
         "STD",
         "EUR",
         "USA",
         1.72E12,
         "TOI",
         false,
         0,
         1,
         null,
         "1/7/2024",
         "2024-12-31",
         "2024-09-26",
         "2024-09-26"
        ],
        [
         "Philips",
         24,
         673,
         "joes",
         "Medium",
         "9-Mar-23",
         1.75E12,
         1.75E12,
         1.73E12,
         91,
         "STD",
         "EUR",
         "USA",
         1.72E12,
         "RTO",
         false,
         0,
         1,
         null,
         "1/8/2024",
         "2024-12-31",
         "2024-09-26",
         "2024-09-26"
        ],
        [
         "Philips",
         25,
         674,
         "paul",
         "Medium",
         "3-Jan-25",
         1.75E12,
         1.75E12,
         1.73E12,
         94,
         "STD",
         "EUR",
         "USA",
         1.72E12,
         "RTO",
         false,
         0,
         1,
         null,
         "1/9/2024",
         "2025-03-31",
         "2024-09-26",
         "2024-09-26"
        ],
        [
         "Philips",
         26,
         675,
         "sweta",
         "Medium",
         "6-Jan-25",
         1.75E12,
         1.75E12,
         1.73E12,
         97,
         "STD",
         "EUR",
         "USA",
         1.72E12,
         "RTO",
         false,
         0,
         1,
         null,
         "1/5/2024",
         "2025-03-31",
         "2024-09-26",
         "2024-09-26"
        ],
        [
         "Philips",
         27,
         676,
         "narendra",
         "Medium",
         "9-Jan-25",
         1.75E12,
         1.75E12,
         1.73E12,
         100,
         "STD",
         "EUR",
         "USA",
         1.72E12,
         "RTO",
         true,
         0,
         1,
         null,
         "1/1/2025",
         "2025-12-31",
         "2024-12-27",
         "2024-12-27"
        ],
        [
         "Philips",
         28,
         677,
         "ramesh",
         "Medium",
         "3-Apr-23",
         1.75E12,
         1.75E12,
         1.73E12,
         103,
         "STD",
         "EUR",
         "USA",
         1.72E12,
         "RTO",
         true,
         0,
         1,
         null,
         "1/1/2025",
         "2025-12-31",
         "2024-12-27",
         "2024-12-27"
        ],
        [
         "Philips",
         29,
         678,
         "rashi",
         "Medium",
         "6-Apr-23",
         1.75E12,
         1.75E12,
         1.73E12,
         106,
         "STD",
         "EUR",
         "UK",
         1.72E12,
         "EDA",
         true,
         0,
         1,
         null,
         "1/3/2024",
         "2024-03-31",
         "2024-03-28",
         "2024-03-28"
        ],
        [
         "BP",
         30,
         679,
         "rishab",
         "Premium",
         "8-Apr-23",
         1.75E12,
         1.76E12,
         1.73E12,
         109,
         "STD",
         "EUR",
         "UK",
         1.72E12,
         "EDA",
         true,
         0,
         1,
         null,
         "1/3/2024",
         "2024-03-31",
         "2024-03-28",
         "2024-03-28"
        ],
        [
         "BP",
         31,
         680,
         "basha",
         "Premium",
         "3-Feb-23",
         1.75E12,
         1.76E12,
         1.73E12,
         112,
         "STD",
         "EUR",
         "UK",
         1.72E12,
         "TOI",
         true,
         0,
         1,
         null,
         "1/4/2024",
         "2024-06-30",
         "2024-03-26",
         "2024-03-26"
        ],
        [
         "BP",
         32,
         681,
         "kumaran",
         "Premium",
         "6-Feb-23",
         1.75E12,
         1.75E12,
         1.73E12,
         115,
         "STD",
         "EUR",
         "UK",
         1.72E12,
         "TOI",
         true,
         0,
         1,
         null,
         "1/4/2024",
         "2024-06-30",
         "2024-03-26",
         "2024-03-26"
        ],
        [
         "BP",
         33,
         682,
         "karthik",
         "Premium",
         "9-Feb-23",
         1.75E12,
         1.76E12,
         1.73E12,
         118,
         "STD",
         "EUR",
         "UK",
         1.72E12,
         "TOI",
         true,
         0,
         1,
         null,
         "1/1/2025",
         "2025-12-31",
         "2024-12-27",
         "2024-12-27"
        ],
        [
         "BP",
         34,
         683,
         "parvesh",
         "Premium",
         "3-Jan-24",
         1.76E12,
         1.76E12,
         1.73E12,
         121,
         "STD",
         "EUR",
         "UK",
         1.72E12,
         "TOI",
         false,
         0,
         1,
         null,
         "1/1/2025",
         "2025-12-31",
         "2024-12-27",
         "2024-12-27"
        ],
        [
         "BP",
         35,
         684,
         "danush",
         "Premium",
         "8-Jan-24",
         1.76E12,
         1.76E12,
         1.73E12,
         124,
         "STD",
         "EUR",
         "UK",
         1.72E12,
         "TOI",
         false,
         0,
         1,
         null,
         "1/3/2024",
         "2024-03-31",
         "2024-03-28",
         "2024-03-28"
        ],
        [
         "BP",
         36,
         685,
         "vidish",
         "Premium",
         "9-Jan-24",
         1.76E12,
         1.76E12,
         1.73E12,
         127,
         "STD",
         "EUR",
         "UK",
         1.72E12,
         "EDA",
         false,
         0,
         1,
         null,
         "1/3/2024",
         "2024-03-31",
         "2024-03-28",
         "2024-03-28"
        ],
        [
         "BP",
         37,
         686,
         "sam",
         "Premium",
         "3-Mar-23",
         1.76E12,
         1.76E12,
         1.73E12,
         130,
         "STD",
         "EUR",
         "UK",
         1.72E12,
         "EDA",
         false,
         0,
         1,
         null,
         "1/4/2024",
         "2024-06-30",
         "2024-03-26",
         "2024-03-26"
        ],
        [
         "BP",
         38,
         687,
         "sourab",
         "Premium",
         "6-Mar-23",
         1.76E12,
         1.76E12,
         1.73E12,
         133,
         "STD",
         "EUR",
         "UK",
         1.72E12,
         "EDA",
         false,
         0,
         1,
         null,
         "1/4/2024",
         "2024-06-30",
         "2024-03-26",
         "2024-03-26"
        ],
        [
         "BP",
         39,
         688,
         "jai",
         "Premium",
         "9-Mar-23",
         1.76E12,
         1.76E12,
         1.73E12,
         136,
         "STD",
         "EUR",
         "UK",
         1.72E12,
         "EDA",
         true,
         0,
         1,
         null,
         "1/1/2025",
         "2025-12-31",
         "2024-12-27",
         "2024-12-27"
        ],
        [
         "Reliance",
         40,
         689,
         "sree",
         "Lower",
         "3-Jan-25",
         1.76E12,
         1.76E12,
         1.73E12,
         139,
         "STD",
         "EUR",
         "UK",
         1.72E12,
         "TOI",
         true,
         0,
         1,
         null,
         "1/1/2025",
         "2025-12-31",
         "2024-12-27",
         "2024-12-27"
        ],
        [
         "Reliance",
         41,
         690,
         "sreenath",
         "Lower",
         "6-Jan-25",
         1.76E12,
         1.76E12,
         1.73E12,
         142,
         "STD",
         "EUR",
         "UK",
         1.72E12,
         "TOI",
         true,
         0,
         1,
         null,
         "1/6/2024",
         "2024-06-30",
         "2024-06-28",
         "2024-06-28"
        ],
        [
         "Reliance",
         42,
         691,
         "Naresh",
         "Lower",
         "9-Jan-25",
         1.76E12,
         1.77E12,
         1.73E12,
         145,
         "STD",
         "EUR",
         "UK",
         1.72E12,
         "TOI",
         true,
         0,
         1,
         null,
         "1/6/2024",
         "2024-06-30",
         "2024-06-28",
         "2024-06-28"
        ],
        [
         "Reliance",
         43,
         692,
         "kamal",
         "Lower",
         "3-Apr-23",
         1.76E12,
         1.77E12,
         1.73E12,
         148,
         "STD",
         "EUR",
         "UK",
         1.72E12,
         "SETTL",
         true,
         0,
         1,
         null,
         "1/7/2024",
         "2024-07-31",
         "2024-07-30",
         "2024-07-30"
        ],
        [
         "Reliance",
         44,
         693,
         "kajal",
         "Lower",
         "6-Apr-23",
         1.76E12,
         1.76E12,
         1.73E12,
         151,
         "STD",
         "EUR",
         "UK",
         1.72E12,
         "SETTL",
         true,
         0,
         1,
         null,
         "1/7/2024",
         "2024-07-31",
         "2024-07-30",
         "2024-07-30"
        ],
        [
         "Reliance",
         45,
         694,
         "paul",
         "Lower",
         "7-Apr-23",
         1.76E12,
         1.77E12,
         1.73E12,
         154,
         "STD",
         "EUR",
         "SL",
         1.72E12,
         "SETTL",
         true,
         0,
         1,
         null,
         "1/3/2024",
         "2024-03-31",
         "2024-02-28",
         "2024-02-28"
        ],
        [
         "Reliance",
         46,
         695,
         "sweta",
         "Lower",
         "3-Feb-23",
         1.71E12,
         1.72E12,
         1.73E12,
         157,
         "STD",
         "EUR",
         "SL",
         1.72E12,
         "SETTL",
         true,
         0,
         1,
         null,
         "1/3/2024",
         "2024-03-31",
         "2024-02-28",
         "2024-02-28"
        ],
        [
         "Reliance",
         47,
         696,
         "narendra",
         "Lower",
         "6-Feb-23",
         1.71E12,
         1.72E12,
         1.73E12,
         160,
         "STD",
         "EUR",
         "SL",
         1.72E12,
         "SETTL",
         false,
         0,
         1,
         null,
         "1/3/2025",
         "2025-03-31",
         "2024-03-26",
         "2024-03-31"
        ],
        [
         "Reliance",
         48,
         697,
         "ramesh",
         "Lower",
         "9-Feb-23",
         1.71E12,
         1.72E12,
         1.73E12,
         163,
         "STD",
         "EUR",
         "SL",
         1.72E12,
         "SETTL",
         false,
         0,
         1,
         null,
         "1/3/2025",
         "2025-03-31",
         "2024-04-01",
         "2025-12-31"
        ],
        [
         "Reliance",
         49,
         698,
         "kalmesh",
         "Lower",
         "3-Jan-24",
         1.72E12,
         1.73E12,
         1.73E12,
         166,
         "STD",
         "EUR",
         "SL",
         1.72E12,
         "SETTL",
         false,
         0,
         1,
         null,
         "1/3/2024",
         "2024-10-31",
         "2024-07-30",
         "2024-03-26"
        ],
        [
         "Reliance",
         50,
         699,
         "kalmesh",
         "Lower",
         "3-Jan-24",
         1.72E12,
         1.73E12,
         1.73E12,
         166,
         "STD",
         "EUR",
         "SL",
         1.72E12,
         "SETTL",
         false,
         0,
         1,
         null,
         "1/7/2024",
         "2024-10-31",
         "2024-03-31",
         "2024-07-30"
        ]
       ],
       "datasetInfos": [],
       "dbfsResultPath": null,
       "isJsonSchema": true,
       "metadata": {},
       "overflow": false,
       "plotOptions": {
        "customPlotOptions": {},
        "displayType": "table",
        "pivotAggregation": null,
        "pivotColumns": null,
        "xColumns": null,
        "yColumns": null
       },
       "removedWidgets": [],
       "schema": [
        {
         "metadata": "{}",
         "name": "Company_Name",
         "type": "\"string\""
        },
        {
         "metadata": "{}",
         "name": "Product_Id",
         "type": "\"integer\""
        },
        {
         "metadata": "{}",
         "name": "Product_Version_Id",
         "type": "\"integer\""
        },
        {
         "metadata": "{}",
         "name": "Cust_Name",
         "type": "\"string\""
        },
        {
         "metadata": "{}",
         "name": "Category",
         "type": "\"string\""
        },
        {
         "metadata": "{}",
         "name": "Start_Date",
         "type": "\"string\""
        },
        {
         "metadata": "{}",
         "name": "Start_Cust_Date",
         "type": "\"double\""
        },
        {
         "metadata": "{}",
         "name": "End_Date",
         "type": "\"double\""
        },
        {
         "metadata": "{}",
         "name": "Updated_Date",
         "type": "\"double\""
        },
        {
         "metadata": "{}",
         "name": "Cust_Value",
         "type": "\"integer\""
        },
        {
         "metadata": "{}",
         "name": "Cust_Type",
         "type": "\"string\""
        },
        {
         "metadata": "{}",
         "name": "Exchange",
         "type": "\"string\""
        },
        {
         "metadata": "{}",
         "name": "Location",
         "type": "\"string\""
        },
        {
         "metadata": "{}",
         "name": "Last_Date_UTC",
         "type": "\"double\""
        },
        {
         "metadata": "{}",
         "name": "Cust_Category",
         "type": "\"string\""
        },
        {
         "metadata": "{}",
         "name": "Index",
         "type": "\"boolean\""
        },
        {
         "metadata": "{}",
         "name": "impact1",
         "type": "\"integer\""
        },
        {
         "metadata": "{}",
         "name": "impact2",
         "type": "\"integer\""
        },
        {
         "metadata": "{}",
         "name": "impact3",
         "type": "\"string\""
        },
        {
         "metadata": "{}",
         "name": "Base_Start_Date",
         "type": "\"string\""
        },
        {
         "metadata": "{\"__detected_date_formats\":\"d/M/yyyy\"}",
         "name": "Base_End_Date",
         "type": "\"date\""
        },
        {
         "metadata": "{\"__detected_date_formats\":\"d/M/yyyy\"}",
         "name": "Base_Expiration_Date",
         "type": "\"date\""
        },
        {
         "metadata": "{\"__detected_date_formats\":\"d/M/yyyy\"}",
         "name": "Base_Last_Sales_Date",
         "type": "\"date\""
        }
       ],
       "type": "table"
      }
     },
     "output_type": "display_data"
    }
   ],
   "source": [
    "df = spark.read.csv(\"/FileStore/tables/random_data-3.csv\", header=True, inferSchema=True)\n",
    "display(df)"
   ]
  },
  {
   "cell_type": "code",
   "execution_count": 0,
   "metadata": {
    "application/vnd.databricks.v1+cell": {
     "cellMetadata": {
      "byteLimit": 2048000,
      "rowLimit": 10000
     },
     "inputWidgets": {},
     "nuid": "586f91fd-f524-449f-9891-56d89fd7ba15",
     "showTitle": false,
     "tableResultSettingsMap": {},
     "title": ""
    }
   },
   "outputs": [
    {
     "output_type": "stream",
     "name": "stdout",
     "output_type": "stream",
     "text": [
      "Minimum value: 25\nMaximum value: 166\n"
     ]
    }
   ],
   "source": [
    "from pyspark.sql.functions import min, max\n",
    "\n",
    "# Find the minimum and maximum Cust_Value\n",
    "min_value_custValue = df.select(min('Cust_Value')).collect()[0][0]\n",
    "max_value_custValue = df.select(max('Cust_Value')).collect()[0][0]\n",
    "\n",
    "print(f\"Minimum value: {min_value_custValue}\")\n",
    "print(f\"Maximum value: {max_value_custValue}\")"
   ]
  },
  {
   "cell_type": "code",
   "execution_count": 0,
   "metadata": {
    "application/vnd.databricks.v1+cell": {
     "cellMetadata": {
      "byteLimit": 2048000,
      "rowLimit": 10000
     },
     "inputWidgets": {},
     "nuid": "9df21081-a6af-4fd2-adae-7b3edb66d41b",
     "showTitle": false,
     "tableResultSettingsMap": {},
     "title": ""
    }
   },
   "outputs": [
    {
     "output_type": "execute_result",
     "data": {
      "text/plain": [
       "47"
      ]
     },
     "execution_count": 38,
     "metadata": {},
     "output_type": "execute_result"
    }
   ],
   "source": [
    "random.randint(min_value_custValue, max_value_custValue)"
   ]
  }
 ],
 "metadata": {
  "application/vnd.databricks.v1+notebook": {
   "computePreferences": null,
   "dashboards": [],
   "environmentMetadata": {
    "base_environment": "",
    "client": "1"
   },
   "language": "python",
   "notebookMetadata": {
    "pythonIndentUnit": 4
   },
   "notebookName": "Day 4_1 Generate random integers using randint()",
   "widgets": {}
  }
 },
 "nbformat": 4,
 "nbformat_minor": 0
}
