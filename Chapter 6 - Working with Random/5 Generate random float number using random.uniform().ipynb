{
 "cells": [
  {
   "cell_type": "markdown",
   "metadata": {
    "application/vnd.databricks.v1+cell": {
     "cellMetadata": {},
     "inputWidgets": {},
     "nuid": "f4f03884-7427-4be6-86a2-a8e19ca590b7",
     "showTitle": false,
     "tableResultSettingsMap": {},
     "title": ""
    }
   },
   "source": [
    "#### **random.uniform**\n",
    "- The random.uniform() function in Python is used to generate a **random floating-point number** within a **specified range**.\n",
    "\n",
    "**Syntax**\n",
    "\n",
    "      random.uniform(a, b)\n",
    "      a : (Required) Lower limit of the specified range.\n",
    "      b : (Required) Upper limit of the specified range.\n",
    "\n",
    "      Return value: It returns a random floating number from the specified range."
   ]
  },
  {
   "cell_type": "code",
   "execution_count": 0,
   "metadata": {
    "application/vnd.databricks.v1+cell": {
     "cellMetadata": {
      "byteLimit": 2048000,
      "rowLimit": 10000
     },
     "inputWidgets": {},
     "nuid": "2d9a5238-eec2-4aa4-9d43-d6f8936eb954",
     "showTitle": false,
     "tableResultSettingsMap": {},
     "title": ""
    }
   },
   "outputs": [
    {
     "output_type": "stream",
     "name": "stdout",
     "output_type": "stream",
     "text": [
      "Help on method uniform in module random:\n\nuniform(a, b) method of random.Random instance\n    Get a random number in the range [a, b) or [a, b] depending on rounding.\n\n"
     ]
    }
   ],
   "source": [
    "help(random.uniform)"
   ]
  },
  {
   "cell_type": "markdown",
   "metadata": {
    "application/vnd.databricks.v1+cell": {
     "cellMetadata": {},
     "inputWidgets": {},
     "nuid": "35ca6e76-3a4a-456a-acc1-594b41b8605d",
     "showTitle": false,
     "tableResultSettingsMap": {},
     "title": ""
    }
   },
   "source": [
    "#### **1) Generate a Random Float Between 0 and 1**"
   ]
  },
  {
   "cell_type": "code",
   "execution_count": 0,
   "metadata": {
    "application/vnd.databricks.v1+cell": {
     "cellMetadata": {
      "byteLimit": 2048000,
      "rowLimit": 10000
     },
     "inputWidgets": {},
     "nuid": "d264561b-6d0f-416c-982a-ab2c9576d20e",
     "showTitle": false,
     "tableResultSettingsMap": {},
     "title": ""
    }
   },
   "outputs": [],
   "source": [
    "import random\n",
    "import pyspark.sql.functions as f"
   ]
  },
  {
   "cell_type": "code",
   "execution_count": 0,
   "metadata": {
    "application/vnd.databricks.v1+cell": {
     "cellMetadata": {
      "byteLimit": 2048000,
      "rowLimit": 10000
     },
     "inputWidgets": {},
     "nuid": "cf240623-256c-4226-a93a-ddac5f1f0040",
     "showTitle": false,
     "tableResultSettingsMap": {},
     "title": ""
    }
   },
   "outputs": [
    {
     "output_type": "stream",
     "name": "stdout",
     "output_type": "stream",
     "text": [
      "Random float between 0 and 1: 0.43884368374297333\n"
     ]
    }
   ],
   "source": [
    "# Generate a random float between 0 and 1\n",
    "random_float = random.uniform(0, 1)\n",
    "print(\"Random float between 0 and 1:\", random_float)"
   ]
  },
  {
   "cell_type": "code",
   "execution_count": 0,
   "metadata": {
    "application/vnd.databricks.v1+cell": {
     "cellMetadata": {
      "byteLimit": 2048000,
      "rowLimit": 10000
     },
     "inputWidgets": {},
     "nuid": "fa815c43-32d9-483b-be72-df4f053a54fa",
     "showTitle": false,
     "tableResultSettingsMap": {},
     "title": ""
    }
   },
   "outputs": [
    {
     "output_type": "stream",
     "name": "stdout",
     "output_type": "stream",
     "text": [
      "Random float between 1 and 10: 8.570650673799271\n"
     ]
    }
   ],
   "source": [
    "# Generate a random float between 1 and 10\n",
    "random_float = random.uniform(1, 10)\n",
    "print(\"Random float between 1 and 10:\", random_float)"
   ]
  },
  {
   "cell_type": "code",
   "execution_count": 0,
   "metadata": {
    "application/vnd.databricks.v1+cell": {
     "cellMetadata": {
      "byteLimit": 2048000,
      "rowLimit": 10000
     },
     "inputWidgets": {},
     "nuid": "43658771-4494-4f84-bec7-19d45987b5a3",
     "showTitle": false,
     "tableResultSettingsMap": {},
     "title": ""
    }
   },
   "outputs": [
    {
     "output_type": "stream",
     "name": "stdout",
     "output_type": "stream",
     "text": [
      "Random float between -10 and 10: 7.579697514871629\n"
     ]
    }
   ],
   "source": [
    "# Generate a Random Float Between -10 and 10\n",
    "random_float = random.uniform(-10, 10)\n",
    "print(\"Random float between -10 and 10:\", random_float)"
   ]
  },
  {
   "cell_type": "code",
   "execution_count": 0,
   "metadata": {
    "application/vnd.databricks.v1+cell": {
     "cellMetadata": {
      "byteLimit": 2048000,
      "rowLimit": 10000
     },
     "inputWidgets": {},
     "nuid": "b60842c2-f495-4feb-b4ce-c09cbb38ed3b",
     "showTitle": true,
     "tableResultSettingsMap": {},
     "title": "loop"
    }
   },
   "outputs": [
    {
     "output_type": "stream",
     "name": "stdout",
     "output_type": "stream",
     "text": [
      "11.418054513165986\n12.541136137240144\n18.860806043340126\n14.919945388304289\n10.359274399790495\n"
     ]
    }
   ],
   "source": [
    "# Example 2: Generate multiple floating random numbers\n",
    "for i in range(5):\n",
    "    rand_num = random.uniform(10, 20)\n",
    "    print(rand_num)"
   ]
  },
  {
   "cell_type": "code",
   "execution_count": 0,
   "metadata": {
    "application/vnd.databricks.v1+cell": {
     "cellMetadata": {
      "byteLimit": 2048000,
      "rowLimit": 10000
     },
     "inputWidgets": {},
     "nuid": "5d2bee20-6483-4252-878e-c0463d18d00e",
     "showTitle": true,
     "tableResultSettingsMap": {},
     "title": "round"
    }
   },
   "outputs": [
    {
     "output_type": "stream",
     "name": "stdout",
     "output_type": "stream",
     "text": [
      "12.215734150972148\n12.2157\n12.0\n"
     ]
    }
   ],
   "source": [
    "# x is a random floating number between 1 and 100, both included\n",
    "x = random.uniform(1,100)\n",
    "print(x)\n",
    "print(round(x, 4)) # round until last 4 digits\n",
    "print(round(x, 0))"
   ]
  },
  {
   "cell_type": "code",
   "execution_count": 0,
   "metadata": {
    "application/vnd.databricks.v1+cell": {
     "cellMetadata": {
      "byteLimit": 2048000,
      "rowLimit": 10000
     },
     "inputWidgets": {},
     "nuid": "9ad17b4b-c852-4554-99ef-415602200d9d",
     "showTitle": true,
     "tableResultSettingsMap": {},
     "title": "1,1"
    }
   },
   "outputs": [
    {
     "output_type": "stream",
     "name": "stdout",
     "output_type": "stream",
     "text": [
      "Random float between 1 and 1: 1.0\n"
     ]
    }
   ],
   "source": [
    "# Generate a random float between 1 and 1\n",
    "random_floats = random.uniform(1, 1)\n",
    "print(\"Random float between 1 and 1:\", random_floats)"
   ]
  },
  {
   "cell_type": "code",
   "execution_count": 0,
   "metadata": {
    "application/vnd.databricks.v1+cell": {
     "cellMetadata": {
      "byteLimit": 2048000,
      "rowLimit": 10000
     },
     "inputWidgets": {},
     "nuid": "48d6d6ef-50cc-474a-9b9d-7a02eba7038d",
     "showTitle": false,
     "tableResultSettingsMap": {},
     "title": ""
    }
   },
   "outputs": [
    {
     "output_type": "stream",
     "name": "stdout",
     "output_type": "stream",
     "text": [
      "Random float between 10 and 1: 2.8467576873149953\n"
     ]
    }
   ],
   "source": [
    "# Generate a random float between 10 and 1\n",
    "random_fls = random.uniform(10, 1)\n",
    "print(\"Random float between 10 and 1:\", random_fls)"
   ]
  },
  {
   "cell_type": "code",
   "execution_count": 0,
   "metadata": {
    "application/vnd.databricks.v1+cell": {
     "cellMetadata": {
      "byteLimit": 2048000,
      "rowLimit": 10000
     },
     "inputWidgets": {},
     "nuid": "25e2bdca-a2fa-47e6-a86c-983594145afc",
     "showTitle": false,
     "tableResultSettingsMap": {},
     "title": ""
    }
   },
   "outputs": [
    {
     "output_type": "stream",
     "name": "stdout",
     "output_type": "stream",
     "text": [
      "1.000000000000035\n1.0005233470884718\n"
     ]
    }
   ],
   "source": [
    "print(random.uniform(1, 1.00000000000014))\n",
    "print(random.uniform(1, 1.0014))"
   ]
  },
  {
   "cell_type": "markdown",
   "metadata": {
    "application/vnd.databricks.v1+cell": {
     "cellMetadata": {},
     "inputWidgets": {},
     "nuid": "855c70fb-1323-4060-a3b2-7b26906ddfb3",
     "showTitle": false,
     "tableResultSettingsMap": {},
     "title": ""
    }
   },
   "source": [
    "#### **2) Use random.uniform() in a Function**"
   ]
  },
  {
   "cell_type": "code",
   "execution_count": 0,
   "metadata": {
    "application/vnd.databricks.v1+cell": {
     "cellMetadata": {
      "byteLimit": 2048000,
      "rowLimit": 10000
     },
     "inputWidgets": {},
     "nuid": "411da575-7401-48e4-87b4-e7e79b178358",
     "showTitle": false,
     "tableResultSettingsMap": {},
     "title": ""
    }
   },
   "outputs": [
    {
     "output_type": "stream",
     "name": "stdout",
     "output_type": "stream",
     "text": [
      "Random float between 50 and 150: 135.4938031855076\n"
     ]
    }
   ],
   "source": [
    "def generate_random_float(min_value, max_value):\n",
    "    return random.uniform(min_value, max_value)\n",
    "\n",
    "# Call the function\n",
    "print(\"Random float between 50 and 150:\", generate_random_float(50, 150))"
   ]
  },
  {
   "cell_type": "markdown",
   "metadata": {
    "application/vnd.databricks.v1+cell": {
     "cellMetadata": {},
     "inputWidgets": {},
     "nuid": "61c081fe-9057-4f2f-8604-19ac8d61beaf",
     "showTitle": false,
     "tableResultSettingsMap": {},
     "title": ""
    }
   },
   "source": [
    "#### **3) Generate Multiple Random Floats in a Loop**"
   ]
  },
  {
   "cell_type": "code",
   "execution_count": 0,
   "metadata": {
    "application/vnd.databricks.v1+cell": {
     "cellMetadata": {
      "byteLimit": 2048000,
      "rowLimit": 10000
     },
     "inputWidgets": {},
     "nuid": "8958d159-9324-4731-9366-6cfaeef43f03",
     "showTitle": false,
     "tableResultSettingsMap": {},
     "title": ""
    }
   },
   "outputs": [
    {
     "output_type": "stream",
     "name": "stdout",
     "output_type": "stream",
     "text": [
      "Random float between 1 and 100: 75.19306074676005\nRandom float between 1 and 100: 71.97595061753658\nRandom float between 1 and 100: 61.3756685240569\nRandom float between 1 and 100: 84.0709530725586\nRandom float between 1 and 100: 92.56649729100971\n"
     ]
    }
   ],
   "source": [
    "# Generate 5 random floats between 1 and 100\n",
    "for i in range(5):\n",
    "    random_float = random.uniform(1, 100)\n",
    "    print(\"Random float between 1 and 100:\", random_float)"
   ]
  },
  {
   "cell_type": "markdown",
   "metadata": {
    "application/vnd.databricks.v1+cell": {
     "cellMetadata": {},
     "inputWidgets": {},
     "nuid": "2aec0ec5-92d1-4e3d-9f23-ffbefece76a8",
     "showTitle": false,
     "tableResultSettingsMap": {},
     "title": ""
    }
   },
   "source": [
    "#### **4) Generate a Random Float and Use It in a Calculation**"
   ]
  },
  {
   "cell_type": "code",
   "execution_count": 0,
   "metadata": {
    "application/vnd.databricks.v1+cell": {
     "cellMetadata": {
      "byteLimit": 2048000,
      "rowLimit": 10000
     },
     "inputWidgets": {},
     "nuid": "dfeb7112-1454-430c-abea-6640f8513650",
     "showTitle": false,
     "tableResultSettingsMap": {},
     "title": ""
    }
   },
   "outputs": [
    {
     "output_type": "stream",
     "name": "stdout",
     "output_type": "stream",
     "text": [
      "Random float multiplied by 2: 19.78066210592065\n"
     ]
    }
   ],
   "source": [
    "# Generate a random float between 1 and 10\n",
    "random_float = random.uniform(1, 10)\n",
    "\n",
    "# Use the random float in a calculation\n",
    "result = random_float * 2\n",
    "print(\"Random float multiplied by 2:\", result)"
   ]
  },
  {
   "cell_type": "code",
   "execution_count": 0,
   "metadata": {
    "application/vnd.databricks.v1+cell": {
     "cellMetadata": {
      "byteLimit": 2048000,
      "rowLimit": 10000
     },
     "inputWidgets": {},
     "nuid": "147b5c99-65be-4c3a-9ad1-13d2c2ee86b2",
     "showTitle": false,
     "tableResultSettingsMap": {},
     "title": ""
    }
   },
   "outputs": [
    {
     "output_type": "display_data",
     "data": {
      "text/html": [
       "<style scoped>\n",
       "  .table-result-container {\n",
       "    max-height: 300px;\n",
       "    overflow: auto;\n",
       "  }\n",
       "  table, th, td {\n",
       "    border: 1px solid black;\n",
       "    border-collapse: collapse;\n",
       "  }\n",
       "  th, td {\n",
       "    padding: 5px;\n",
       "  }\n",
       "  th {\n",
       "    text-align: left;\n",
       "  }\n",
       "</style><div class='table-result-container'><table class='table-result'><thead style='background-color: white'><tr><th>Company_Name</th><th>Product_Id</th><th>Product_Version_Id</th><th>Cust_Name</th><th>Category</th><th>Start_Date</th><th>Start_Cust_Date</th><th>End_Date</th><th>Updated_Date</th><th>Cust_Value</th><th>Cust_Type</th><th>Exchange</th><th>Location</th><th>Last_Date_UTC</th><th>Cust_Category</th><th>Index</th><th>impact1</th><th>impact2</th><th>impact3</th><th>Base_Start_Date</th><th>Base_End_Date</th><th>Base_Expiration_Date</th><th>Base_Last_Sales_Date</th></tr></thead><tbody><tr><td>Sony</td><td>1</td><td>650</td><td>Naresh</td><td>Standard</td><td>3-Feb-23</td><td>1.73E12</td><td>1.73E12</td><td>1.73E12</td><td>30</td><td>STD</td><td>EUR</td><td>IND</td><td>1.72E12</td><td>SETTL</td><td>true</td><td>0</td><td>1</td><td>null</td><td>1/5/2024</td><td>2024-05-31</td><td>2024-04-29</td><td>2024-04-29</td></tr><tr><td>Sony</td><td>2</td><td>651</td><td>kamal</td><td>Standard</td><td>6-Feb-23</td><td>1.73E12</td><td>1.73E12</td><td>1.73E12</td><td>25</td><td>STD</td><td>EUR</td><td>IND</td><td>1.72E12</td><td>TOI</td><td>false</td><td>0</td><td>1</td><td>null</td><td>1/5/2024</td><td>2024-05-31</td><td>2024-04-29</td><td>2024-04-29</td></tr><tr><td>Sony</td><td>3</td><td>652</td><td>kajal</td><td>Standard</td><td>9-Feb-23</td><td>1.73E12</td><td>1.73E12</td><td>1.73E12</td><td>28</td><td>STD</td><td>EUR</td><td>IND</td><td>1.72E12</td><td>TOI</td><td>false</td><td>0</td><td>1</td><td>null</td><td>1/9/2024</td><td>2024-10-31</td><td>2024-09-27</td><td>2024-09-27</td></tr><tr><td>Sony</td><td>4</td><td>653</td><td>kiran</td><td>Standard</td><td>3-Jan-24</td><td>1.73E12</td><td>1.73E12</td><td>1.73E12</td><td>31</td><td>STD</td><td>EUR</td><td>IND</td><td>1.72E12</td><td>TOI</td><td>false</td><td>0</td><td>1</td><td>null</td><td>1/8/2024</td><td>2024-10-31</td><td>2024-09-27</td><td>2024-09-27</td></tr><tr><td>Sony</td><td>5</td><td>654</td><td>sam</td><td>Standard</td><td>8-Jan-24</td><td>1.73E12</td><td>1.73E12</td><td>1.73E12</td><td>34</td><td>STD</td><td>EUR</td><td>IND</td><td>1.72E12</td><td>TOI</td><td>false</td><td>0</td><td>1</td><td>null</td><td>1/3/2024</td><td>2024-03-31</td><td>2024-03-28</td><td>2024-03-28</td></tr><tr><td>Sony</td><td>6</td><td>655</td><td>sourab</td><td>Standard</td><td>9-Jan-24</td><td>1.73E12</td><td>1.74E12</td><td>1.73E12</td><td>37</td><td>STD</td><td>EUR</td><td>IND</td><td>1.72E12</td><td>TOI</td><td>true</td><td>0</td><td>1</td><td>null</td><td>1/3/2024</td><td>2024-03-31</td><td>2024-03-28</td><td>2024-03-28</td></tr><tr><td>Sony</td><td>7</td><td>656</td><td>jai</td><td>Upper</td><td>3-Mar-23</td><td>1.73E12</td><td>1.74E12</td><td>1.73E12</td><td>40</td><td>STD</td><td>EUR</td><td>IND</td><td>1.72E12</td><td>TOI</td><td>true</td><td>0</td><td>1</td><td>null</td><td>1/4/2024</td><td>2024-04-30</td><td>2024-04-29</td><td>2024-04-29</td></tr><tr><td>BPL</td><td>8</td><td>657</td><td>sree</td><td>Upper</td><td>6-Mar-23</td><td>1.73E12</td><td>1.73E12</td><td>1.73E12</td><td>43</td><td>STD</td><td>EUR</td><td>IND</td><td>1.72E12</td><td>SETTL</td><td>true</td><td>0</td><td>1</td><td>null</td><td>1/4/2024</td><td>2024-04-30</td><td>2024-04-29</td><td>2024-04-29</td></tr><tr><td>BPL</td><td>9</td><td>658</td><td>sreenath</td><td>Upper</td><td>9-Mar-23</td><td>1.73E12</td><td>1.74E12</td><td>1.73E12</td><td>46</td><td>STD</td><td>EUR</td><td>IND</td><td>1.72E12</td><td>SETTL</td><td>true</td><td>0</td><td>1</td><td>null</td><td>1/5/2024</td><td>2024-05-31</td><td>2024-05-30</td><td>2024-05-30</td></tr><tr><td>BPL</td><td>10</td><td>659</td><td>kamaesh</td><td>Upper</td><td>3-Jan-25</td><td>1.74E12</td><td>1.74E12</td><td>1.73E12</td><td>49</td><td>STD</td><td>EUR</td><td>IND</td><td>1.72E12</td><td>SETTL</td><td>false</td><td>0</td><td>1</td><td>null</td><td>1/5/2024</td><td>2024-05-31</td><td>2024-05-30</td><td>2024-05-30</td></tr><tr><td>BPL</td><td>11</td><td>660</td><td>david</td><td>Upper</td><td>6-Jan-25</td><td>1.74E12</td><td>1.74E12</td><td>1.73E12</td><td>52</td><td>STD</td><td>EUR</td><td>IND</td><td>1.72E12</td><td>SETTL</td><td>false</td><td>0</td><td>1</td><td>null</td><td>1/4/2024</td><td>2024-06-30</td><td>2024-03-26</td><td>2024-03-26</td></tr><tr><td>BPL</td><td>12</td><td>661</td><td>joes</td><td>Upper</td><td>9-Jan-25</td><td>1.74E12</td><td>1.74E12</td><td>1.73E12</td><td>55</td><td>STD</td><td>EUR</td><td>IND</td><td>1.72E12</td><td>SETTL</td><td>false</td><td>0</td><td>1</td><td>null</td><td>1/4/2024</td><td>2024-06-30</td><td>2024-03-26</td><td>2024-03-26</td></tr><tr><td>BPL</td><td>13</td><td>662</td><td>paul</td><td>Upper</td><td>3-Apr-23</td><td>1.74E12</td><td>1.74E12</td><td>1.73E12</td><td>58</td><td>STD</td><td>EUR</td><td>IND</td><td>1.72E12</td><td>SETTL</td><td>false</td><td>0</td><td>1</td><td>null</td><td>1/1/2025</td><td>2025-12-31</td><td>2024-12-27</td><td>2024-12-27</td></tr><tr><td>BPL</td><td>14</td><td>663</td><td>sweta</td><td>Upper</td><td>6-Apr-23</td><td>1.74E12</td><td>1.74E12</td><td>1.73E12</td><td>61</td><td>STD</td><td>EUR</td><td>USA</td><td>1.72E12</td><td>SETTL</td><td>false</td><td>0</td><td>1</td><td>null</td><td>1/1/2025</td><td>2025-12-31</td><td>2024-12-27</td><td>2024-12-27</td></tr><tr><td>Philips</td><td>15</td><td>664</td><td>narendra</td><td>Medium</td><td>1-Apr-23</td><td>1.74E12</td><td>1.74E12</td><td>1.73E12</td><td>64</td><td>STD</td><td>EUR</td><td>USA</td><td>1.72E12</td><td>TOI</td><td>false</td><td>0</td><td>1</td><td>null</td><td>1/4/2024</td><td>2024-04-30</td><td>2024-03-27</td><td>2024-03-27</td></tr><tr><td>Philips</td><td>16</td><td>665</td><td>ramesh</td><td>Medium</td><td>3-Feb-23</td><td>1.74E12</td><td>1.74E12</td><td>1.73E12</td><td>67</td><td>STD</td><td>EUR</td><td>USA</td><td>1.72E12</td><td>TOI</td><td>false</td><td>0</td><td>1</td><td>null</td><td>1/4/2024</td><td>2024-04-30</td><td>2024-03-27</td><td>2024-03-27</td></tr><tr><td>Philips</td><td>17</td><td>666</td><td>rakesh</td><td>Medium</td><td>6-Feb-23</td><td>1.74E12</td><td>1.74E12</td><td>1.73E12</td><td>70</td><td>STD</td><td>EUR</td><td>USA</td><td>1.72E12</td><td>TOI</td><td>true</td><td>0</td><td>1</td><td>null</td><td>1/4/2024</td><td>2024-04-30</td><td>2024-03-27</td><td>2024-03-27</td></tr><tr><td>Philips</td><td>18</td><td>667</td><td>rajesh</td><td>Medium</td><td>9-Feb-23</td><td>1.74E12</td><td>1.75E12</td><td>1.73E12</td><td>73</td><td>STD</td><td>EUR</td><td>USA</td><td>1.72E12</td><td>TOI</td><td>true</td><td>0</td><td>1</td><td>null</td><td>1/4/2024</td><td>2024-04-30</td><td>2024-03-27</td><td>2024-03-27</td></tr><tr><td>Philips</td><td>19</td><td>668</td><td>mukesh</td><td>Medium</td><td>3-Jan-24</td><td>1.74E12</td><td>1.75E12</td><td>1.73E12</td><td>76</td><td>STD</td><td>EUR</td><td>USA</td><td>1.72E12</td><td>TOI</td><td>true</td><td>0</td><td>1</td><td>null</td><td>1/8/2024</td><td>2024-08-31</td><td>2024-07-30</td><td>2024-07-30</td></tr><tr><td>Philips</td><td>20</td><td>669</td><td>venkatesh</td><td>Medium</td><td>8-Jan-24</td><td>1.74E12</td><td>1.74E12</td><td>1.73E12</td><td>79</td><td>STD</td><td>EUR</td><td>USA</td><td>1.72E12</td><td>TOI</td><td>true</td><td>0</td><td>1</td><td>null</td><td>1/8/2024</td><td>2024-08-31</td><td>2024-07-30</td><td>2024-07-30</td></tr><tr><td>Philips</td><td>21</td><td>670</td><td>Naresh</td><td>Medium</td><td>9-Jan-24</td><td>1.74E12</td><td>1.75E12</td><td>1.73E12</td><td>82</td><td>STD</td><td>EUR</td><td>USA</td><td>1.72E12</td><td>TOI</td><td>true</td><td>0</td><td>1</td><td>null</td><td>1/4/2024</td><td>2024-06-30</td><td>2024-03-26</td><td>2024-03-26</td></tr><tr><td>Philips</td><td>22</td><td>671</td><td>kamal</td><td>Medium</td><td>3-Mar-23</td><td>1.75E12</td><td>1.75E12</td><td>1.73E12</td><td>85</td><td>STD</td><td>EUR</td><td>USA</td><td>1.72E12</td><td>TOI</td><td>false</td><td>0</td><td>1</td><td>null</td><td>1/4/2024</td><td>2024-06-30</td><td>2024-03-26</td><td>2024-03-26</td></tr><tr><td>Philips</td><td>23</td><td>672</td><td>kajal</td><td>Medium</td><td>6-Mar-23</td><td>1.75E12</td><td>1.75E12</td><td>1.73E12</td><td>88</td><td>STD</td><td>EUR</td><td>USA</td><td>1.72E12</td><td>TOI</td><td>false</td><td>0</td><td>1</td><td>null</td><td>1/7/2024</td><td>2024-12-31</td><td>2024-09-26</td><td>2024-09-26</td></tr><tr><td>Philips</td><td>24</td><td>673</td><td>joes</td><td>Medium</td><td>9-Mar-23</td><td>1.75E12</td><td>1.75E12</td><td>1.73E12</td><td>91</td><td>STD</td><td>EUR</td><td>USA</td><td>1.72E12</td><td>RTO</td><td>false</td><td>0</td><td>1</td><td>null</td><td>1/8/2024</td><td>2024-12-31</td><td>2024-09-26</td><td>2024-09-26</td></tr><tr><td>Philips</td><td>25</td><td>674</td><td>paul</td><td>Medium</td><td>3-Jan-25</td><td>1.75E12</td><td>1.75E12</td><td>1.73E12</td><td>94</td><td>STD</td><td>EUR</td><td>USA</td><td>1.72E12</td><td>RTO</td><td>false</td><td>0</td><td>1</td><td>null</td><td>1/9/2024</td><td>2025-03-31</td><td>2024-09-26</td><td>2024-09-26</td></tr><tr><td>Philips</td><td>26</td><td>675</td><td>sweta</td><td>Medium</td><td>6-Jan-25</td><td>1.75E12</td><td>1.75E12</td><td>1.73E12</td><td>97</td><td>STD</td><td>EUR</td><td>USA</td><td>1.72E12</td><td>RTO</td><td>false</td><td>0</td><td>1</td><td>null</td><td>1/5/2024</td><td>2025-03-31</td><td>2024-09-26</td><td>2024-09-26</td></tr><tr><td>Philips</td><td>27</td><td>676</td><td>narendra</td><td>Medium</td><td>9-Jan-25</td><td>1.75E12</td><td>1.75E12</td><td>1.73E12</td><td>100</td><td>STD</td><td>EUR</td><td>USA</td><td>1.72E12</td><td>RTO</td><td>true</td><td>0</td><td>1</td><td>null</td><td>1/1/2025</td><td>2025-12-31</td><td>2024-12-27</td><td>2024-12-27</td></tr><tr><td>Philips</td><td>28</td><td>677</td><td>ramesh</td><td>Medium</td><td>3-Apr-23</td><td>1.75E12</td><td>1.75E12</td><td>1.73E12</td><td>103</td><td>STD</td><td>EUR</td><td>USA</td><td>1.72E12</td><td>RTO</td><td>true</td><td>0</td><td>1</td><td>null</td><td>1/1/2025</td><td>2025-12-31</td><td>2024-12-27</td><td>2024-12-27</td></tr><tr><td>Philips</td><td>29</td><td>678</td><td>rashi</td><td>Medium</td><td>6-Apr-23</td><td>1.75E12</td><td>1.75E12</td><td>1.73E12</td><td>106</td><td>STD</td><td>EUR</td><td>UK</td><td>1.72E12</td><td>EDA</td><td>true</td><td>0</td><td>1</td><td>null</td><td>1/3/2024</td><td>2024-03-31</td><td>2024-03-28</td><td>2024-03-28</td></tr><tr><td>BP</td><td>30</td><td>679</td><td>rishab</td><td>Premium</td><td>8-Apr-23</td><td>1.75E12</td><td>1.76E12</td><td>1.73E12</td><td>109</td><td>STD</td><td>EUR</td><td>UK</td><td>1.72E12</td><td>EDA</td><td>true</td><td>0</td><td>1</td><td>null</td><td>1/3/2024</td><td>2024-03-31</td><td>2024-03-28</td><td>2024-03-28</td></tr><tr><td>BP</td><td>31</td><td>680</td><td>basha</td><td>Premium</td><td>3-Feb-23</td><td>1.75E12</td><td>1.76E12</td><td>1.73E12</td><td>112</td><td>STD</td><td>EUR</td><td>UK</td><td>1.72E12</td><td>TOI</td><td>true</td><td>0</td><td>1</td><td>null</td><td>1/4/2024</td><td>2024-06-30</td><td>2024-03-26</td><td>2024-03-26</td></tr><tr><td>BP</td><td>32</td><td>681</td><td>kumaran</td><td>Premium</td><td>6-Feb-23</td><td>1.75E12</td><td>1.75E12</td><td>1.73E12</td><td>115</td><td>STD</td><td>EUR</td><td>UK</td><td>1.72E12</td><td>TOI</td><td>true</td><td>0</td><td>1</td><td>null</td><td>1/4/2024</td><td>2024-06-30</td><td>2024-03-26</td><td>2024-03-26</td></tr><tr><td>BP</td><td>33</td><td>682</td><td>karthik</td><td>Premium</td><td>9-Feb-23</td><td>1.75E12</td><td>1.76E12</td><td>1.73E12</td><td>118</td><td>STD</td><td>EUR</td><td>UK</td><td>1.72E12</td><td>TOI</td><td>true</td><td>0</td><td>1</td><td>null</td><td>1/1/2025</td><td>2025-12-31</td><td>2024-12-27</td><td>2024-12-27</td></tr><tr><td>BP</td><td>34</td><td>683</td><td>parvesh</td><td>Premium</td><td>3-Jan-24</td><td>1.76E12</td><td>1.76E12</td><td>1.73E12</td><td>121</td><td>STD</td><td>EUR</td><td>UK</td><td>1.72E12</td><td>TOI</td><td>false</td><td>0</td><td>1</td><td>null</td><td>1/1/2025</td><td>2025-12-31</td><td>2024-12-27</td><td>2024-12-27</td></tr><tr><td>BP</td><td>35</td><td>684</td><td>danush</td><td>Premium</td><td>8-Jan-24</td><td>1.76E12</td><td>1.76E12</td><td>1.73E12</td><td>124</td><td>STD</td><td>EUR</td><td>UK</td><td>1.72E12</td><td>TOI</td><td>false</td><td>0</td><td>1</td><td>null</td><td>1/3/2024</td><td>2024-03-31</td><td>2024-03-28</td><td>2024-03-28</td></tr><tr><td>BP</td><td>36</td><td>685</td><td>vidish</td><td>Premium</td><td>9-Jan-24</td><td>1.76E12</td><td>1.76E12</td><td>1.73E12</td><td>127</td><td>STD</td><td>EUR</td><td>UK</td><td>1.72E12</td><td>EDA</td><td>false</td><td>0</td><td>1</td><td>null</td><td>1/3/2024</td><td>2024-03-31</td><td>2024-03-28</td><td>2024-03-28</td></tr><tr><td>BP</td><td>37</td><td>686</td><td>sam</td><td>Premium</td><td>3-Mar-23</td><td>1.76E12</td><td>1.76E12</td><td>1.73E12</td><td>130</td><td>STD</td><td>EUR</td><td>UK</td><td>1.72E12</td><td>EDA</td><td>false</td><td>0</td><td>1</td><td>null</td><td>1/4/2024</td><td>2024-06-30</td><td>2024-03-26</td><td>2024-03-26</td></tr><tr><td>BP</td><td>38</td><td>687</td><td>sourab</td><td>Premium</td><td>6-Mar-23</td><td>1.76E12</td><td>1.76E12</td><td>1.73E12</td><td>133</td><td>STD</td><td>EUR</td><td>UK</td><td>1.72E12</td><td>EDA</td><td>false</td><td>0</td><td>1</td><td>null</td><td>1/4/2024</td><td>2024-06-30</td><td>2024-03-26</td><td>2024-03-26</td></tr><tr><td>BP</td><td>39</td><td>688</td><td>jai</td><td>Premium</td><td>9-Mar-23</td><td>1.76E12</td><td>1.76E12</td><td>1.73E12</td><td>136</td><td>STD</td><td>EUR</td><td>UK</td><td>1.72E12</td><td>EDA</td><td>true</td><td>0</td><td>1</td><td>null</td><td>1/1/2025</td><td>2025-12-31</td><td>2024-12-27</td><td>2024-12-27</td></tr><tr><td>Reliance</td><td>40</td><td>689</td><td>sree</td><td>Lower</td><td>3-Jan-25</td><td>1.76E12</td><td>1.76E12</td><td>1.73E12</td><td>139</td><td>STD</td><td>EUR</td><td>UK</td><td>1.72E12</td><td>TOI</td><td>true</td><td>0</td><td>1</td><td>null</td><td>1/1/2025</td><td>2025-12-31</td><td>2024-12-27</td><td>2024-12-27</td></tr><tr><td>Reliance</td><td>41</td><td>690</td><td>sreenath</td><td>Lower</td><td>6-Jan-25</td><td>1.76E12</td><td>1.76E12</td><td>1.73E12</td><td>142</td><td>STD</td><td>EUR</td><td>UK</td><td>1.72E12</td><td>TOI</td><td>true</td><td>0</td><td>1</td><td>null</td><td>1/6/2024</td><td>2024-06-30</td><td>2024-06-28</td><td>2024-06-28</td></tr><tr><td>Reliance</td><td>42</td><td>691</td><td>Naresh</td><td>Lower</td><td>9-Jan-25</td><td>1.76E12</td><td>1.77E12</td><td>1.73E12</td><td>145</td><td>STD</td><td>EUR</td><td>UK</td><td>1.72E12</td><td>TOI</td><td>true</td><td>0</td><td>1</td><td>null</td><td>1/6/2024</td><td>2024-06-30</td><td>2024-06-28</td><td>2024-06-28</td></tr><tr><td>Reliance</td><td>43</td><td>692</td><td>kamal</td><td>Lower</td><td>3-Apr-23</td><td>1.76E12</td><td>1.77E12</td><td>1.73E12</td><td>148</td><td>STD</td><td>EUR</td><td>UK</td><td>1.72E12</td><td>SETTL</td><td>true</td><td>0</td><td>1</td><td>null</td><td>1/7/2024</td><td>2024-07-31</td><td>2024-07-30</td><td>2024-07-30</td></tr><tr><td>Reliance</td><td>44</td><td>693</td><td>kajal</td><td>Lower</td><td>6-Apr-23</td><td>1.76E12</td><td>1.76E12</td><td>1.73E12</td><td>151</td><td>STD</td><td>EUR</td><td>UK</td><td>1.72E12</td><td>SETTL</td><td>true</td><td>0</td><td>1</td><td>null</td><td>1/7/2024</td><td>2024-07-31</td><td>2024-07-30</td><td>2024-07-30</td></tr><tr><td>Reliance</td><td>45</td><td>694</td><td>paul</td><td>Lower</td><td>7-Apr-23</td><td>1.76E12</td><td>1.77E12</td><td>1.73E12</td><td>154</td><td>STD</td><td>EUR</td><td>SL</td><td>1.72E12</td><td>SETTL</td><td>true</td><td>0</td><td>1</td><td>null</td><td>1/3/2024</td><td>2024-03-31</td><td>2024-02-28</td><td>2024-02-28</td></tr><tr><td>Reliance</td><td>46</td><td>695</td><td>sweta</td><td>Lower</td><td>3-Feb-23</td><td>1.71E12</td><td>1.72E12</td><td>1.73E12</td><td>157</td><td>STD</td><td>EUR</td><td>SL</td><td>1.72E12</td><td>SETTL</td><td>true</td><td>0</td><td>1</td><td>null</td><td>1/3/2024</td><td>2024-03-31</td><td>2024-02-28</td><td>2024-02-28</td></tr><tr><td>Reliance</td><td>47</td><td>696</td><td>narendra</td><td>Lower</td><td>6-Feb-23</td><td>1.71E12</td><td>1.72E12</td><td>1.73E12</td><td>160</td><td>STD</td><td>EUR</td><td>SL</td><td>1.72E12</td><td>SETTL</td><td>false</td><td>0</td><td>1</td><td>null</td><td>1/3/2025</td><td>2025-03-31</td><td>2024-03-26</td><td>2024-03-31</td></tr><tr><td>Reliance</td><td>48</td><td>697</td><td>ramesh</td><td>Lower</td><td>9-Feb-23</td><td>1.71E12</td><td>1.72E12</td><td>1.73E12</td><td>163</td><td>STD</td><td>EUR</td><td>SL</td><td>1.72E12</td><td>SETTL</td><td>false</td><td>0</td><td>1</td><td>null</td><td>1/3/2025</td><td>2025-03-31</td><td>2024-04-01</td><td>2025-12-31</td></tr><tr><td>Reliance</td><td>49</td><td>698</td><td>kalmesh</td><td>Lower</td><td>3-Jan-24</td><td>1.72E12</td><td>1.73E12</td><td>1.73E12</td><td>166</td><td>STD</td><td>EUR</td><td>SL</td><td>1.72E12</td><td>SETTL</td><td>false</td><td>0</td><td>1</td><td>null</td><td>1/3/2024</td><td>2024-10-31</td><td>2024-07-30</td><td>2024-03-26</td></tr><tr><td>Reliance</td><td>50</td><td>699</td><td>kalmesh</td><td>Lower</td><td>3-Jan-24</td><td>1.72E12</td><td>1.73E12</td><td>1.73E12</td><td>166</td><td>STD</td><td>EUR</td><td>SL</td><td>1.72E12</td><td>SETTL</td><td>false</td><td>0</td><td>1</td><td>null</td><td>1/7/2024</td><td>2024-10-31</td><td>2024-03-31</td><td>2024-07-30</td></tr></tbody></table></div>"
      ]
     },
     "metadata": {
      "application/vnd.databricks.v1+output": {
       "addedWidgets": {},
       "aggData": [],
       "aggError": "",
       "aggOverflow": false,
       "aggSchema": [],
       "aggSeriesLimitReached": false,
       "aggType": "",
       "arguments": {},
       "columnCustomDisplayInfos": {},
       "data": [
        [
         "Sony",
         1,
         650,
         "Naresh",
         "Standard",
         "3-Feb-23",
         1.73E12,
         1.73E12,
         1.73E12,
         30,
         "STD",
         "EUR",
         "IND",
         1.72E12,
         "SETTL",
         true,
         0,
         1,
         null,
         "1/5/2024",
         "2024-05-31",
         "2024-04-29",
         "2024-04-29"
        ],
        [
         "Sony",
         2,
         651,
         "kamal",
         "Standard",
         "6-Feb-23",
         1.73E12,
         1.73E12,
         1.73E12,
         25,
         "STD",
         "EUR",
         "IND",
         1.72E12,
         "TOI",
         false,
         0,
         1,
         null,
         "1/5/2024",
         "2024-05-31",
         "2024-04-29",
         "2024-04-29"
        ],
        [
         "Sony",
         3,
         652,
         "kajal",
         "Standard",
         "9-Feb-23",
         1.73E12,
         1.73E12,
         1.73E12,
         28,
         "STD",
         "EUR",
         "IND",
         1.72E12,
         "TOI",
         false,
         0,
         1,
         null,
         "1/9/2024",
         "2024-10-31",
         "2024-09-27",
         "2024-09-27"
        ],
        [
         "Sony",
         4,
         653,
         "kiran",
         "Standard",
         "3-Jan-24",
         1.73E12,
         1.73E12,
         1.73E12,
         31,
         "STD",
         "EUR",
         "IND",
         1.72E12,
         "TOI",
         false,
         0,
         1,
         null,
         "1/8/2024",
         "2024-10-31",
         "2024-09-27",
         "2024-09-27"
        ],
        [
         "Sony",
         5,
         654,
         "sam",
         "Standard",
         "8-Jan-24",
         1.73E12,
         1.73E12,
         1.73E12,
         34,
         "STD",
         "EUR",
         "IND",
         1.72E12,
         "TOI",
         false,
         0,
         1,
         null,
         "1/3/2024",
         "2024-03-31",
         "2024-03-28",
         "2024-03-28"
        ],
        [
         "Sony",
         6,
         655,
         "sourab",
         "Standard",
         "9-Jan-24",
         1.73E12,
         1.74E12,
         1.73E12,
         37,
         "STD",
         "EUR",
         "IND",
         1.72E12,
         "TOI",
         true,
         0,
         1,
         null,
         "1/3/2024",
         "2024-03-31",
         "2024-03-28",
         "2024-03-28"
        ],
        [
         "Sony",
         7,
         656,
         "jai",
         "Upper",
         "3-Mar-23",
         1.73E12,
         1.74E12,
         1.73E12,
         40,
         "STD",
         "EUR",
         "IND",
         1.72E12,
         "TOI",
         true,
         0,
         1,
         null,
         "1/4/2024",
         "2024-04-30",
         "2024-04-29",
         "2024-04-29"
        ],
        [
         "BPL",
         8,
         657,
         "sree",
         "Upper",
         "6-Mar-23",
         1.73E12,
         1.73E12,
         1.73E12,
         43,
         "STD",
         "EUR",
         "IND",
         1.72E12,
         "SETTL",
         true,
         0,
         1,
         null,
         "1/4/2024",
         "2024-04-30",
         "2024-04-29",
         "2024-04-29"
        ],
        [
         "BPL",
         9,
         658,
         "sreenath",
         "Upper",
         "9-Mar-23",
         1.73E12,
         1.74E12,
         1.73E12,
         46,
         "STD",
         "EUR",
         "IND",
         1.72E12,
         "SETTL",
         true,
         0,
         1,
         null,
         "1/5/2024",
         "2024-05-31",
         "2024-05-30",
         "2024-05-30"
        ],
        [
         "BPL",
         10,
         659,
         "kamaesh",
         "Upper",
         "3-Jan-25",
         1.74E12,
         1.74E12,
         1.73E12,
         49,
         "STD",
         "EUR",
         "IND",
         1.72E12,
         "SETTL",
         false,
         0,
         1,
         null,
         "1/5/2024",
         "2024-05-31",
         "2024-05-30",
         "2024-05-30"
        ],
        [
         "BPL",
         11,
         660,
         "david",
         "Upper",
         "6-Jan-25",
         1.74E12,
         1.74E12,
         1.73E12,
         52,
         "STD",
         "EUR",
         "IND",
         1.72E12,
         "SETTL",
         false,
         0,
         1,
         null,
         "1/4/2024",
         "2024-06-30",
         "2024-03-26",
         "2024-03-26"
        ],
        [
         "BPL",
         12,
         661,
         "joes",
         "Upper",
         "9-Jan-25",
         1.74E12,
         1.74E12,
         1.73E12,
         55,
         "STD",
         "EUR",
         "IND",
         1.72E12,
         "SETTL",
         false,
         0,
         1,
         null,
         "1/4/2024",
         "2024-06-30",
         "2024-03-26",
         "2024-03-26"
        ],
        [
         "BPL",
         13,
         662,
         "paul",
         "Upper",
         "3-Apr-23",
         1.74E12,
         1.74E12,
         1.73E12,
         58,
         "STD",
         "EUR",
         "IND",
         1.72E12,
         "SETTL",
         false,
         0,
         1,
         null,
         "1/1/2025",
         "2025-12-31",
         "2024-12-27",
         "2024-12-27"
        ],
        [
         "BPL",
         14,
         663,
         "sweta",
         "Upper",
         "6-Apr-23",
         1.74E12,
         1.74E12,
         1.73E12,
         61,
         "STD",
         "EUR",
         "USA",
         1.72E12,
         "SETTL",
         false,
         0,
         1,
         null,
         "1/1/2025",
         "2025-12-31",
         "2024-12-27",
         "2024-12-27"
        ],
        [
         "Philips",
         15,
         664,
         "narendra",
         "Medium",
         "1-Apr-23",
         1.74E12,
         1.74E12,
         1.73E12,
         64,
         "STD",
         "EUR",
         "USA",
         1.72E12,
         "TOI",
         false,
         0,
         1,
         null,
         "1/4/2024",
         "2024-04-30",
         "2024-03-27",
         "2024-03-27"
        ],
        [
         "Philips",
         16,
         665,
         "ramesh",
         "Medium",
         "3-Feb-23",
         1.74E12,
         1.74E12,
         1.73E12,
         67,
         "STD",
         "EUR",
         "USA",
         1.72E12,
         "TOI",
         false,
         0,
         1,
         null,
         "1/4/2024",
         "2024-04-30",
         "2024-03-27",
         "2024-03-27"
        ],
        [
         "Philips",
         17,
         666,
         "rakesh",
         "Medium",
         "6-Feb-23",
         1.74E12,
         1.74E12,
         1.73E12,
         70,
         "STD",
         "EUR",
         "USA",
         1.72E12,
         "TOI",
         true,
         0,
         1,
         null,
         "1/4/2024",
         "2024-04-30",
         "2024-03-27",
         "2024-03-27"
        ],
        [
         "Philips",
         18,
         667,
         "rajesh",
         "Medium",
         "9-Feb-23",
         1.74E12,
         1.75E12,
         1.73E12,
         73,
         "STD",
         "EUR",
         "USA",
         1.72E12,
         "TOI",
         true,
         0,
         1,
         null,
         "1/4/2024",
         "2024-04-30",
         "2024-03-27",
         "2024-03-27"
        ],
        [
         "Philips",
         19,
         668,
         "mukesh",
         "Medium",
         "3-Jan-24",
         1.74E12,
         1.75E12,
         1.73E12,
         76,
         "STD",
         "EUR",
         "USA",
         1.72E12,
         "TOI",
         true,
         0,
         1,
         null,
         "1/8/2024",
         "2024-08-31",
         "2024-07-30",
         "2024-07-30"
        ],
        [
         "Philips",
         20,
         669,
         "venkatesh",
         "Medium",
         "8-Jan-24",
         1.74E12,
         1.74E12,
         1.73E12,
         79,
         "STD",
         "EUR",
         "USA",
         1.72E12,
         "TOI",
         true,
         0,
         1,
         null,
         "1/8/2024",
         "2024-08-31",
         "2024-07-30",
         "2024-07-30"
        ],
        [
         "Philips",
         21,
         670,
         "Naresh",
         "Medium",
         "9-Jan-24",
         1.74E12,
         1.75E12,
         1.73E12,
         82,
         "STD",
         "EUR",
         "USA",
         1.72E12,
         "TOI",
         true,
         0,
         1,
         null,
         "1/4/2024",
         "2024-06-30",
         "2024-03-26",
         "2024-03-26"
        ],
        [
         "Philips",
         22,
         671,
         "kamal",
         "Medium",
         "3-Mar-23",
         1.75E12,
         1.75E12,
         1.73E12,
         85,
         "STD",
         "EUR",
         "USA",
         1.72E12,
         "TOI",
         false,
         0,
         1,
         null,
         "1/4/2024",
         "2024-06-30",
         "2024-03-26",
         "2024-03-26"
        ],
        [
         "Philips",
         23,
         672,
         "kajal",
         "Medium",
         "6-Mar-23",
         1.75E12,
         1.75E12,
         1.73E12,
         88,
         "STD",
         "EUR",
         "USA",
         1.72E12,
         "TOI",
         false,
         0,
         1,
         null,
         "1/7/2024",
         "2024-12-31",
         "2024-09-26",
         "2024-09-26"
        ],
        [
         "Philips",
         24,
         673,
         "joes",
         "Medium",
         "9-Mar-23",
         1.75E12,
         1.75E12,
         1.73E12,
         91,
         "STD",
         "EUR",
         "USA",
         1.72E12,
         "RTO",
         false,
         0,
         1,
         null,
         "1/8/2024",
         "2024-12-31",
         "2024-09-26",
         "2024-09-26"
        ],
        [
         "Philips",
         25,
         674,
         "paul",
         "Medium",
         "3-Jan-25",
         1.75E12,
         1.75E12,
         1.73E12,
         94,
         "STD",
         "EUR",
         "USA",
         1.72E12,
         "RTO",
         false,
         0,
         1,
         null,
         "1/9/2024",
         "2025-03-31",
         "2024-09-26",
         "2024-09-26"
        ],
        [
         "Philips",
         26,
         675,
         "sweta",
         "Medium",
         "6-Jan-25",
         1.75E12,
         1.75E12,
         1.73E12,
         97,
         "STD",
         "EUR",
         "USA",
         1.72E12,
         "RTO",
         false,
         0,
         1,
         null,
         "1/5/2024",
         "2025-03-31",
         "2024-09-26",
         "2024-09-26"
        ],
        [
         "Philips",
         27,
         676,
         "narendra",
         "Medium",
         "9-Jan-25",
         1.75E12,
         1.75E12,
         1.73E12,
         100,
         "STD",
         "EUR",
         "USA",
         1.72E12,
         "RTO",
         true,
         0,
         1,
         null,
         "1/1/2025",
         "2025-12-31",
         "2024-12-27",
         "2024-12-27"
        ],
        [
         "Philips",
         28,
         677,
         "ramesh",
         "Medium",
         "3-Apr-23",
         1.75E12,
         1.75E12,
         1.73E12,
         103,
         "STD",
         "EUR",
         "USA",
         1.72E12,
         "RTO",
         true,
         0,
         1,
         null,
         "1/1/2025",
         "2025-12-31",
         "2024-12-27",
         "2024-12-27"
        ],
        [
         "Philips",
         29,
         678,
         "rashi",
         "Medium",
         "6-Apr-23",
         1.75E12,
         1.75E12,
         1.73E12,
         106,
         "STD",
         "EUR",
         "UK",
         1.72E12,
         "EDA",
         true,
         0,
         1,
         null,
         "1/3/2024",
         "2024-03-31",
         "2024-03-28",
         "2024-03-28"
        ],
        [
         "BP",
         30,
         679,
         "rishab",
         "Premium",
         "8-Apr-23",
         1.75E12,
         1.76E12,
         1.73E12,
         109,
         "STD",
         "EUR",
         "UK",
         1.72E12,
         "EDA",
         true,
         0,
         1,
         null,
         "1/3/2024",
         "2024-03-31",
         "2024-03-28",
         "2024-03-28"
        ],
        [
         "BP",
         31,
         680,
         "basha",
         "Premium",
         "3-Feb-23",
         1.75E12,
         1.76E12,
         1.73E12,
         112,
         "STD",
         "EUR",
         "UK",
         1.72E12,
         "TOI",
         true,
         0,
         1,
         null,
         "1/4/2024",
         "2024-06-30",
         "2024-03-26",
         "2024-03-26"
        ],
        [
         "BP",
         32,
         681,
         "kumaran",
         "Premium",
         "6-Feb-23",
         1.75E12,
         1.75E12,
         1.73E12,
         115,
         "STD",
         "EUR",
         "UK",
         1.72E12,
         "TOI",
         true,
         0,
         1,
         null,
         "1/4/2024",
         "2024-06-30",
         "2024-03-26",
         "2024-03-26"
        ],
        [
         "BP",
         33,
         682,
         "karthik",
         "Premium",
         "9-Feb-23",
         1.75E12,
         1.76E12,
         1.73E12,
         118,
         "STD",
         "EUR",
         "UK",
         1.72E12,
         "TOI",
         true,
         0,
         1,
         null,
         "1/1/2025",
         "2025-12-31",
         "2024-12-27",
         "2024-12-27"
        ],
        [
         "BP",
         34,
         683,
         "parvesh",
         "Premium",
         "3-Jan-24",
         1.76E12,
         1.76E12,
         1.73E12,
         121,
         "STD",
         "EUR",
         "UK",
         1.72E12,
         "TOI",
         false,
         0,
         1,
         null,
         "1/1/2025",
         "2025-12-31",
         "2024-12-27",
         "2024-12-27"
        ],
        [
         "BP",
         35,
         684,
         "danush",
         "Premium",
         "8-Jan-24",
         1.76E12,
         1.76E12,
         1.73E12,
         124,
         "STD",
         "EUR",
         "UK",
         1.72E12,
         "TOI",
         false,
         0,
         1,
         null,
         "1/3/2024",
         "2024-03-31",
         "2024-03-28",
         "2024-03-28"
        ],
        [
         "BP",
         36,
         685,
         "vidish",
         "Premium",
         "9-Jan-24",
         1.76E12,
         1.76E12,
         1.73E12,
         127,
         "STD",
         "EUR",
         "UK",
         1.72E12,
         "EDA",
         false,
         0,
         1,
         null,
         "1/3/2024",
         "2024-03-31",
         "2024-03-28",
         "2024-03-28"
        ],
        [
         "BP",
         37,
         686,
         "sam",
         "Premium",
         "3-Mar-23",
         1.76E12,
         1.76E12,
         1.73E12,
         130,
         "STD",
         "EUR",
         "UK",
         1.72E12,
         "EDA",
         false,
         0,
         1,
         null,
         "1/4/2024",
         "2024-06-30",
         "2024-03-26",
         "2024-03-26"
        ],
        [
         "BP",
         38,
         687,
         "sourab",
         "Premium",
         "6-Mar-23",
         1.76E12,
         1.76E12,
         1.73E12,
         133,
         "STD",
         "EUR",
         "UK",
         1.72E12,
         "EDA",
         false,
         0,
         1,
         null,
         "1/4/2024",
         "2024-06-30",
         "2024-03-26",
         "2024-03-26"
        ],
        [
         "BP",
         39,
         688,
         "jai",
         "Premium",
         "9-Mar-23",
         1.76E12,
         1.76E12,
         1.73E12,
         136,
         "STD",
         "EUR",
         "UK",
         1.72E12,
         "EDA",
         true,
         0,
         1,
         null,
         "1/1/2025",
         "2025-12-31",
         "2024-12-27",
         "2024-12-27"
        ],
        [
         "Reliance",
         40,
         689,
         "sree",
         "Lower",
         "3-Jan-25",
         1.76E12,
         1.76E12,
         1.73E12,
         139,
         "STD",
         "EUR",
         "UK",
         1.72E12,
         "TOI",
         true,
         0,
         1,
         null,
         "1/1/2025",
         "2025-12-31",
         "2024-12-27",
         "2024-12-27"
        ],
        [
         "Reliance",
         41,
         690,
         "sreenath",
         "Lower",
         "6-Jan-25",
         1.76E12,
         1.76E12,
         1.73E12,
         142,
         "STD",
         "EUR",
         "UK",
         1.72E12,
         "TOI",
         true,
         0,
         1,
         null,
         "1/6/2024",
         "2024-06-30",
         "2024-06-28",
         "2024-06-28"
        ],
        [
         "Reliance",
         42,
         691,
         "Naresh",
         "Lower",
         "9-Jan-25",
         1.76E12,
         1.77E12,
         1.73E12,
         145,
         "STD",
         "EUR",
         "UK",
         1.72E12,
         "TOI",
         true,
         0,
         1,
         null,
         "1/6/2024",
         "2024-06-30",
         "2024-06-28",
         "2024-06-28"
        ],
        [
         "Reliance",
         43,
         692,
         "kamal",
         "Lower",
         "3-Apr-23",
         1.76E12,
         1.77E12,
         1.73E12,
         148,
         "STD",
         "EUR",
         "UK",
         1.72E12,
         "SETTL",
         true,
         0,
         1,
         null,
         "1/7/2024",
         "2024-07-31",
         "2024-07-30",
         "2024-07-30"
        ],
        [
         "Reliance",
         44,
         693,
         "kajal",
         "Lower",
         "6-Apr-23",
         1.76E12,
         1.76E12,
         1.73E12,
         151,
         "STD",
         "EUR",
         "UK",
         1.72E12,
         "SETTL",
         true,
         0,
         1,
         null,
         "1/7/2024",
         "2024-07-31",
         "2024-07-30",
         "2024-07-30"
        ],
        [
         "Reliance",
         45,
         694,
         "paul",
         "Lower",
         "7-Apr-23",
         1.76E12,
         1.77E12,
         1.73E12,
         154,
         "STD",
         "EUR",
         "SL",
         1.72E12,
         "SETTL",
         true,
         0,
         1,
         null,
         "1/3/2024",
         "2024-03-31",
         "2024-02-28",
         "2024-02-28"
        ],
        [
         "Reliance",
         46,
         695,
         "sweta",
         "Lower",
         "3-Feb-23",
         1.71E12,
         1.72E12,
         1.73E12,
         157,
         "STD",
         "EUR",
         "SL",
         1.72E12,
         "SETTL",
         true,
         0,
         1,
         null,
         "1/3/2024",
         "2024-03-31",
         "2024-02-28",
         "2024-02-28"
        ],
        [
         "Reliance",
         47,
         696,
         "narendra",
         "Lower",
         "6-Feb-23",
         1.71E12,
         1.72E12,
         1.73E12,
         160,
         "STD",
         "EUR",
         "SL",
         1.72E12,
         "SETTL",
         false,
         0,
         1,
         null,
         "1/3/2025",
         "2025-03-31",
         "2024-03-26",
         "2024-03-31"
        ],
        [
         "Reliance",
         48,
         697,
         "ramesh",
         "Lower",
         "9-Feb-23",
         1.71E12,
         1.72E12,
         1.73E12,
         163,
         "STD",
         "EUR",
         "SL",
         1.72E12,
         "SETTL",
         false,
         0,
         1,
         null,
         "1/3/2025",
         "2025-03-31",
         "2024-04-01",
         "2025-12-31"
        ],
        [
         "Reliance",
         49,
         698,
         "kalmesh",
         "Lower",
         "3-Jan-24",
         1.72E12,
         1.73E12,
         1.73E12,
         166,
         "STD",
         "EUR",
         "SL",
         1.72E12,
         "SETTL",
         false,
         0,
         1,
         null,
         "1/3/2024",
         "2024-10-31",
         "2024-07-30",
         "2024-03-26"
        ],
        [
         "Reliance",
         50,
         699,
         "kalmesh",
         "Lower",
         "3-Jan-24",
         1.72E12,
         1.73E12,
         1.73E12,
         166,
         "STD",
         "EUR",
         "SL",
         1.72E12,
         "SETTL",
         false,
         0,
         1,
         null,
         "1/7/2024",
         "2024-10-31",
         "2024-03-31",
         "2024-07-30"
        ]
       ],
       "datasetInfos": [],
       "dbfsResultPath": null,
       "isJsonSchema": true,
       "metadata": {},
       "overflow": false,
       "plotOptions": {
        "customPlotOptions": {},
        "displayType": "table",
        "pivotAggregation": null,
        "pivotColumns": null,
        "xColumns": null,
        "yColumns": null
       },
       "removedWidgets": [],
       "schema": [
        {
         "metadata": "{}",
         "name": "Company_Name",
         "type": "\"string\""
        },
        {
         "metadata": "{}",
         "name": "Product_Id",
         "type": "\"integer\""
        },
        {
         "metadata": "{}",
         "name": "Product_Version_Id",
         "type": "\"integer\""
        },
        {
         "metadata": "{}",
         "name": "Cust_Name",
         "type": "\"string\""
        },
        {
         "metadata": "{}",
         "name": "Category",
         "type": "\"string\""
        },
        {
         "metadata": "{}",
         "name": "Start_Date",
         "type": "\"string\""
        },
        {
         "metadata": "{}",
         "name": "Start_Cust_Date",
         "type": "\"double\""
        },
        {
         "metadata": "{}",
         "name": "End_Date",
         "type": "\"double\""
        },
        {
         "metadata": "{}",
         "name": "Updated_Date",
         "type": "\"double\""
        },
        {
         "metadata": "{}",
         "name": "Cust_Value",
         "type": "\"integer\""
        },
        {
         "metadata": "{}",
         "name": "Cust_Type",
         "type": "\"string\""
        },
        {
         "metadata": "{}",
         "name": "Exchange",
         "type": "\"string\""
        },
        {
         "metadata": "{}",
         "name": "Location",
         "type": "\"string\""
        },
        {
         "metadata": "{}",
         "name": "Last_Date_UTC",
         "type": "\"double\""
        },
        {
         "metadata": "{}",
         "name": "Cust_Category",
         "type": "\"string\""
        },
        {
         "metadata": "{}",
         "name": "Index",
         "type": "\"boolean\""
        },
        {
         "metadata": "{}",
         "name": "impact1",
         "type": "\"integer\""
        },
        {
         "metadata": "{}",
         "name": "impact2",
         "type": "\"integer\""
        },
        {
         "metadata": "{}",
         "name": "impact3",
         "type": "\"string\""
        },
        {
         "metadata": "{}",
         "name": "Base_Start_Date",
         "type": "\"string\""
        },
        {
         "metadata": "{\"__detected_date_formats\":\"d/M/yyyy\"}",
         "name": "Base_End_Date",
         "type": "\"date\""
        },
        {
         "metadata": "{\"__detected_date_formats\":\"d/M/yyyy\"}",
         "name": "Base_Expiration_Date",
         "type": "\"date\""
        },
        {
         "metadata": "{\"__detected_date_formats\":\"d/M/yyyy\"}",
         "name": "Base_Last_Sales_Date",
         "type": "\"date\""
        }
       ],
       "type": "table"
      }
     },
     "output_type": "display_data"
    }
   ],
   "source": [
    "df = spark.read.csv(\"/FileStore/tables/random_data-3.csv\", header=True, inferSchema=True)\n",
    "display(df)"
   ]
  },
  {
   "cell_type": "code",
   "execution_count": 0,
   "metadata": {
    "application/vnd.databricks.v1+cell": {
     "cellMetadata": {
      "byteLimit": 2048000,
      "rowLimit": 10000
     },
     "inputWidgets": {},
     "nuid": "e6b4749b-d5ee-44b7-9c31-8699f79be847",
     "showTitle": false,
     "tableResultSettingsMap": {},
     "title": ""
    }
   },
   "outputs": [],
   "source": [
    "# Find the minimum and maximum Base_Last_Sales_Date\n",
    "min_date_base_last = df.agg(f.min(\"Base_Last_Sales_Date\")).collect()[0][0]\n",
    "max_date_base_last = df.agg(f.max(\"Base_Last_Sales_Date\")).collect()[0][0]"
   ]
  },
  {
   "cell_type": "code",
   "execution_count": 0,
   "metadata": {
    "application/vnd.databricks.v1+cell": {
     "cellMetadata": {
      "byteLimit": 2048000,
      "rowLimit": 10000
     },
     "inputWidgets": {},
     "nuid": "3417cf2a-b2ef-4bcd-a28e-6847e825861a",
     "showTitle": false,
     "tableResultSettingsMap": {},
     "title": ""
    }
   },
   "outputs": [
    {
     "output_type": "execute_result",
     "data": {
      "text/plain": [
       "datetime.date(2025, 10, 5)"
      ]
     },
     "execution_count": 13,
     "metadata": {},
     "output_type": "execute_result"
    }
   ],
   "source": [
    "random.uniform(min_date_base_last, max_date_base_last)"
   ]
  }
 ],
 "metadata": {
  "application/vnd.databricks.v1+notebook": {
   "computePreferences": null,
   "dashboards": [],
   "environmentMetadata": null,
   "language": "python",
   "notebookMetadata": {
    "pythonIndentUnit": 4
   },
   "notebookName": "Day 4_5 Generate random float number using random.uniform()",
   "widgets": {}
  }
 },
 "nbformat": 4,
 "nbformat_minor": 0
}
